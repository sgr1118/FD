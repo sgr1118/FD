{
  "nbformat": 4,
  "nbformat_minor": 0,
  "metadata": {
    "colab": {
      "provenance": [],
      "collapsed_sections": [
        "45xqqElwaROe",
        "4Sx9PulmrJvr"
      ],
      "authorship_tag": "ABX9TyOz3qx4Iab3iFFEFD3KtdTm",
      "include_colab_link": true
    },
    "kernelspec": {
      "name": "python3",
      "display_name": "Python 3"
    },
    "language_info": {
      "name": "python"
    }
  },
  "cells": [
    {
      "cell_type": "markdown",
      "metadata": {
        "id": "view-in-github",
        "colab_type": "text"
      },
      "source": [
        "<a href=\"https://colab.research.google.com/github/sgr1118/FD/blob/main/FD26_Regularization(220824).ipynb\" target=\"_parent\"><img src=\"https://colab.research.google.com/assets/colab-badge.svg\" alt=\"Open In Colab\"/></a>"
      ]
    },
    {
      "cell_type": "markdown",
      "source": [
        "# 26-1.들어가며\n",
        "\n",
        "1. 학습 목표\n",
        "- 정칙화(Regularization)의 개념을 이해하고 정규화(Normalization)와 구분합니다.\n",
        "- L1 regularization과 L2 regularization의 차이를 설명합니다.\n",
        "- 실습을 통하여 Lp norm, Dropout, Batch Normalization에 대해 학습합니다\n",
        "\n",
        "2. 목차\n",
        "\n",
        "(1) 들어가며\n",
        "\n",
        "(2) Regularization과 Normalization\n",
        "\n",
        "(3) L1 Regularization\n",
        "\n",
        "(4) L2 Regularization\n",
        "\n",
        "(5) Extra : Lp norm\n",
        "\n",
        "(6) Dropout\n",
        "\n",
        "(7) Batch Normalization"
      ],
      "metadata": {
        "id": "45xqqElwaROe"
      }
    },
    {
      "cell_type": "markdown",
      "source": [
        "# 26-2. Regularization과 Normalization\n",
        "\n",
        "1. Regularization? Normalization?\n",
        "\n",
        "(1) Regularization : 정칙화라고 불리며, 오버피팅(overfitting)을 해결하기 위한 방법 중의 하나\n",
        "-  종류 : L1, L2, Dropout, Batch normalization\n",
        "- Regularization 기법들은 모델이 train set의 정답을 맞히지 못하도록 오버피팅을 방해(train loss가 증가) 하는 역할을 합니다.\n",
        "-  train loss는 약간 증가하지만 결과적으로, validation loss나 최종적인 test loss를 감소시키려는 목적을 가지고 있지요.\n",
        "\n",
        "(2) Normalization : 정규화라고 불리며, 이는 데이터의 형태를 좀 더 의미 있게, 혹은 트레이닝에 적합하게 전처리하는 과정\n",
        "- 종류 : Z-score, MinMaxscaler\n",
        "-  Normalization은 이를 모든 피처의 범위 분포를 동일하게 하여 모델이 풀어야 하는 문제를 좀 더 간단하게 바꾸어 주는 전처리 과정\n"
      ],
      "metadata": {
        "id": "CaQjb_qDa9lT"
      }
    },
    {
      "cell_type": "code",
      "execution_count": null,
      "metadata": {
        "colab": {
          "base_uri": "https://localhost:8080/",
          "height": 250
        },
        "id": "qeDKXrvfZ8aM",
        "outputId": "e19edfb3-c59a-423f-c765-f3a68a2c123d"
      },
      "outputs": [
        {
          "output_type": "execute_result",
          "data": {
            "text/plain": [
              "   sepal length (cm)  sepal width (cm)  petal length (cm)  petal width (cm)  \\\n",
              "0                5.1               3.5                1.4               0.2   \n",
              "1                4.9               3.0                1.4               0.2   \n",
              "2                4.7               3.2                1.3               0.2   \n",
              "3                4.6               3.1                1.5               0.2   \n",
              "4                5.0               3.6                1.4               0.2   \n",
              "\n",
              "  species  \n",
              "0  setosa  \n",
              "1  setosa  \n",
              "2  setosa  \n",
              "3  setosa  \n",
              "4  setosa  "
            ],
            "text/html": [
              "\n",
              "  <div id=\"df-729500c3-426f-4ea0-a51d-ab5fb34b1b61\">\n",
              "    <div class=\"colab-df-container\">\n",
              "      <div>\n",
              "<style scoped>\n",
              "    .dataframe tbody tr th:only-of-type {\n",
              "        vertical-align: middle;\n",
              "    }\n",
              "\n",
              "    .dataframe tbody tr th {\n",
              "        vertical-align: top;\n",
              "    }\n",
              "\n",
              "    .dataframe thead th {\n",
              "        text-align: right;\n",
              "    }\n",
              "</style>\n",
              "<table border=\"1\" class=\"dataframe\">\n",
              "  <thead>\n",
              "    <tr style=\"text-align: right;\">\n",
              "      <th></th>\n",
              "      <th>sepal length (cm)</th>\n",
              "      <th>sepal width (cm)</th>\n",
              "      <th>petal length (cm)</th>\n",
              "      <th>petal width (cm)</th>\n",
              "      <th>species</th>\n",
              "    </tr>\n",
              "  </thead>\n",
              "  <tbody>\n",
              "    <tr>\n",
              "      <th>0</th>\n",
              "      <td>5.1</td>\n",
              "      <td>3.5</td>\n",
              "      <td>1.4</td>\n",
              "      <td>0.2</td>\n",
              "      <td>setosa</td>\n",
              "    </tr>\n",
              "    <tr>\n",
              "      <th>1</th>\n",
              "      <td>4.9</td>\n",
              "      <td>3.0</td>\n",
              "      <td>1.4</td>\n",
              "      <td>0.2</td>\n",
              "      <td>setosa</td>\n",
              "    </tr>\n",
              "    <tr>\n",
              "      <th>2</th>\n",
              "      <td>4.7</td>\n",
              "      <td>3.2</td>\n",
              "      <td>1.3</td>\n",
              "      <td>0.2</td>\n",
              "      <td>setosa</td>\n",
              "    </tr>\n",
              "    <tr>\n",
              "      <th>3</th>\n",
              "      <td>4.6</td>\n",
              "      <td>3.1</td>\n",
              "      <td>1.5</td>\n",
              "      <td>0.2</td>\n",
              "      <td>setosa</td>\n",
              "    </tr>\n",
              "    <tr>\n",
              "      <th>4</th>\n",
              "      <td>5.0</td>\n",
              "      <td>3.6</td>\n",
              "      <td>1.4</td>\n",
              "      <td>0.2</td>\n",
              "      <td>setosa</td>\n",
              "    </tr>\n",
              "  </tbody>\n",
              "</table>\n",
              "</div>\n",
              "      <button class=\"colab-df-convert\" onclick=\"convertToInteractive('df-729500c3-426f-4ea0-a51d-ab5fb34b1b61')\"\n",
              "              title=\"Convert this dataframe to an interactive table.\"\n",
              "              style=\"display:none;\">\n",
              "        \n",
              "  <svg xmlns=\"http://www.w3.org/2000/svg\" height=\"24px\"viewBox=\"0 0 24 24\"\n",
              "       width=\"24px\">\n",
              "    <path d=\"M0 0h24v24H0V0z\" fill=\"none\"/>\n",
              "    <path d=\"M18.56 5.44l.94 2.06.94-2.06 2.06-.94-2.06-.94-.94-2.06-.94 2.06-2.06.94zm-11 1L8.5 8.5l.94-2.06 2.06-.94-2.06-.94L8.5 2.5l-.94 2.06-2.06.94zm10 10l.94 2.06.94-2.06 2.06-.94-2.06-.94-.94-2.06-.94 2.06-2.06.94z\"/><path d=\"M17.41 7.96l-1.37-1.37c-.4-.4-.92-.59-1.43-.59-.52 0-1.04.2-1.43.59L10.3 9.45l-7.72 7.72c-.78.78-.78 2.05 0 2.83L4 21.41c.39.39.9.59 1.41.59.51 0 1.02-.2 1.41-.59l7.78-7.78 2.81-2.81c.8-.78.8-2.07 0-2.86zM5.41 20L4 18.59l7.72-7.72 1.47 1.35L5.41 20z\"/>\n",
              "  </svg>\n",
              "      </button>\n",
              "      \n",
              "  <style>\n",
              "    .colab-df-container {\n",
              "      display:flex;\n",
              "      flex-wrap:wrap;\n",
              "      gap: 12px;\n",
              "    }\n",
              "\n",
              "    .colab-df-convert {\n",
              "      background-color: #E8F0FE;\n",
              "      border: none;\n",
              "      border-radius: 50%;\n",
              "      cursor: pointer;\n",
              "      display: none;\n",
              "      fill: #1967D2;\n",
              "      height: 32px;\n",
              "      padding: 0 0 0 0;\n",
              "      width: 32px;\n",
              "    }\n",
              "\n",
              "    .colab-df-convert:hover {\n",
              "      background-color: #E2EBFA;\n",
              "      box-shadow: 0px 1px 2px rgba(60, 64, 67, 0.3), 0px 1px 3px 1px rgba(60, 64, 67, 0.15);\n",
              "      fill: #174EA6;\n",
              "    }\n",
              "\n",
              "    [theme=dark] .colab-df-convert {\n",
              "      background-color: #3B4455;\n",
              "      fill: #D2E3FC;\n",
              "    }\n",
              "\n",
              "    [theme=dark] .colab-df-convert:hover {\n",
              "      background-color: #434B5C;\n",
              "      box-shadow: 0px 1px 3px 1px rgba(0, 0, 0, 0.15);\n",
              "      filter: drop-shadow(0px 1px 2px rgba(0, 0, 0, 0.3));\n",
              "      fill: #FFFFFF;\n",
              "    }\n",
              "  </style>\n",
              "\n",
              "      <script>\n",
              "        const buttonEl =\n",
              "          document.querySelector('#df-729500c3-426f-4ea0-a51d-ab5fb34b1b61 button.colab-df-convert');\n",
              "        buttonEl.style.display =\n",
              "          google.colab.kernel.accessAllowed ? 'block' : 'none';\n",
              "\n",
              "        async function convertToInteractive(key) {\n",
              "          const element = document.querySelector('#df-729500c3-426f-4ea0-a51d-ab5fb34b1b61');\n",
              "          const dataTable =\n",
              "            await google.colab.kernel.invokeFunction('convertToInteractive',\n",
              "                                                     [key], {});\n",
              "          if (!dataTable) return;\n",
              "\n",
              "          const docLinkHtml = 'Like what you see? Visit the ' +\n",
              "            '<a target=\"_blank\" href=https://colab.research.google.com/notebooks/data_table.ipynb>data table notebook</a>'\n",
              "            + ' to learn more about interactive tables.';\n",
              "          element.innerHTML = '';\n",
              "          dataTable['output_type'] = 'display_data';\n",
              "          await google.colab.output.renderOutput(dataTable, element);\n",
              "          const docLink = document.createElement('div');\n",
              "          docLink.innerHTML = docLinkHtml;\n",
              "          element.appendChild(docLink);\n",
              "        }\n",
              "      </script>\n",
              "    </div>\n",
              "  </div>\n",
              "  "
            ]
          },
          "metadata": {},
          "execution_count": 6
        }
      ],
      "source": [
        "# Regularization와 Normalization 예재 (iris 데이터 활용)\n",
        "\n",
        "from sklearn.datasets import load_iris\n",
        "import pandas as pd\n",
        "import numpy as np\n",
        "import matplotlib.pyplot as plt\n",
        "\n",
        "iris = load_iris()\n",
        "iris_df = pd.DataFrame(data = iris.data, columns = iris.feature_names)\n",
        "target_df = pd.DataFrame(data=iris.target, columns=['species'])\n",
        "\n",
        "# 0, 1, 2로 되어있는 target 데이터를 \n",
        "# 알아보기 쉽게 'setosa', 'versicolor', 'virginica'로 바꿉니다\n",
        "\n",
        "def converter(species):\n",
        "  if species == 0:\n",
        "    return 'setosa'\n",
        "  elif species == 1:\n",
        "    return 'versicolor'\n",
        "  else:\n",
        "    return 'virginica'\n",
        "\n",
        "target_df['species'] = target_df['species'].apply(converter)\n",
        "\n",
        "iris_df = pd.concat([iris_df, target_df], axis = 1)\n",
        "iris_df.head()"
      ]
    },
    {
      "cell_type": "code",
      "source": [
        "# petal length(꽃잎 길이)를 X, sepal length(꽃받침의 길이)를 Y\n",
        "X = [iris_df['petal length (cm)'][a] for a in iris_df.index if iris_df['species'][a]=='virginica']\n",
        "Y = [iris_df['sepal length (cm)'][a] for a in iris_df.index if iris_df['species'][a]=='virginica']\n",
        "\n",
        "print(X)\n",
        "print(Y)"
      ],
      "metadata": {
        "colab": {
          "base_uri": "https://localhost:8080/"
        },
        "id": "Sy6EhmDyeTLp",
        "outputId": "56ddfd57-0a8b-40f9-ff2e-2bf88313b579"
      },
      "execution_count": null,
      "outputs": [
        {
          "output_type": "stream",
          "name": "stdout",
          "text": [
            "[6.0, 5.1, 5.9, 5.6, 5.8, 6.6, 4.5, 6.3, 5.8, 6.1, 5.1, 5.3, 5.5, 5.0, 5.1, 5.3, 5.5, 6.7, 6.9, 5.0, 5.7, 4.9, 6.7, 4.9, 5.7, 6.0, 4.8, 4.9, 5.6, 5.8, 6.1, 6.4, 5.6, 5.1, 5.6, 6.1, 5.6, 5.5, 4.8, 5.4, 5.6, 5.1, 5.1, 5.9, 5.7, 5.2, 5.0, 5.2, 5.4, 5.1]\n",
            "[6.3, 5.8, 7.1, 6.3, 6.5, 7.6, 4.9, 7.3, 6.7, 7.2, 6.5, 6.4, 6.8, 5.7, 5.8, 6.4, 6.5, 7.7, 7.7, 6.0, 6.9, 5.6, 7.7, 6.3, 6.7, 7.2, 6.2, 6.1, 6.4, 7.2, 7.4, 7.9, 6.4, 6.3, 6.1, 7.7, 6.3, 6.4, 6.0, 6.9, 6.7, 6.9, 5.8, 6.8, 6.7, 6.7, 6.3, 6.5, 6.2, 5.9]\n"
          ]
        }
      ]
    },
    {
      "cell_type": "code",
      "source": [
        "# petal length(꽃잎 길이)를 X, sepal length(꽃받침의 길이)를 Y 시각화\n",
        "plt.figure(figsize=(5,5))\n",
        "plt.scatter(X,Y)\n",
        "plt.title('petal-sepal scatter before normalization') \n",
        "plt.xlabel('petal length (cm)')\n",
        "plt.ylabel('sepal length (cm)')\n",
        "plt.grid()\n",
        "plt.show()"
      ],
      "metadata": {
        "colab": {
          "base_uri": "https://localhost:8080/",
          "height": 350
        },
        "id": "hg_urzhofDOq",
        "outputId": "6ed0bd0c-8a47-48fe-edf4-b6b54168c1fc"
      },
      "execution_count": null,
      "outputs": [
        {
          "output_type": "display_data",
          "data": {
            "text/plain": [
              "<Figure size 360x360 with 1 Axes>"
            ],
            "image/png": "[encoded data removed]"
          },
          "metadata": {
            "needs_background": "light"
          }
        }
      ]
    },
    {
      "cell_type": "code",
      "source": [
        "# normalization (Minmax_scale)\n",
        "\n",
        "from sklearn.preprocessing import minmax_scale\n",
        "\n",
        "X_scale = minmax_scale(X)\n",
        "Y_scale = minmax_scale(Y)\n",
        "\n",
        "plt.figure(figsize=(5,5))\n",
        "plt.scatter(X_scale,Y_scale)\n",
        "plt.title('petal-sepal scatter after normalization') \n",
        "plt.xlabel('petal length (cm)')\n",
        "plt.ylabel('sepal length (cm)')\n",
        "plt.grid()\n",
        "plt.show()\n",
        "\n",
        "# 축의 범위가 달라진 것을 알 수 있다."
      ],
      "metadata": {
        "colab": {
          "base_uri": "https://localhost:8080/",
          "height": 350
        },
        "id": "m9a0_vwOfQm0",
        "outputId": "4b4052f5-f609-43e4-be7f-3d7d82d19b33"
      },
      "execution_count": null,
      "outputs": [
        {
          "output_type": "display_data",
          "data": {
            "text/plain": [
              "<Figure size 360x360 with 1 Axes>"
            ],
            "image/png": "[encoded data removed]"
          },
          "metadata": {
            "needs_background": "light"
          }
        }
      ]
    },
    {
      "cell_type": "code",
      "source": [
        "#  간단한 회귀 문제를 풀면서 Regularization알아보기\n",
        "from sklearn.linear_model import LinearRegression\n",
        "import numpy as np\n",
        "\n",
        "X = np.array(X)\n",
        "Y = np.array(Y)\n",
        "\n",
        "# Iris Dataset을 Linear Regression으로 학습합니다. \n",
        "linear= LinearRegression()\n",
        "linear.fit(X.reshape(-1,1), Y)\n",
        "\n",
        "# Linear Regression의 기울기와 절편을 확인합니다. \n",
        "a, b=linear.coef_, linear.intercept_\n",
        "print(\"기울기 : %0.2f, 절편 : %0.2f\" %(a,b))"
      ],
      "metadata": {
        "colab": {
          "base_uri": "https://localhost:8080/"
        },
        "id": "X2C1qj_wfpkx",
        "outputId": "e94abe64-764c-426a-a6ab-8436596cda9b"
      },
      "execution_count": null,
      "outputs": [
        {
          "output_type": "stream",
          "name": "stdout",
          "text": [
            "기울기 : 1.00, 절편 : 1.06\n"
          ]
        }
      ]
    },
    {
      "cell_type": "code",
      "source": [
        "# Linear Regression 일차함수와 산점도\n",
        "\n",
        "plt.figure(figsize=(5,5))\n",
        "plt.scatter(X,Y)\n",
        "plt.plot(X,linear.predict(X.reshape(-1,1)),'-b')\n",
        "plt.title('petal-sepal scatter with linear regression') \n",
        "plt.xlabel('petal length (cm)')\n",
        "plt.ylabel('sepal length (cm)')\n",
        "plt.grid()\n",
        "plt.show()"
      ],
      "metadata": {
        "colab": {
          "base_uri": "https://localhost:8080/",
          "height": 350
        },
        "id": "KwJ_7nQef5-y",
        "outputId": "80982285-e4bc-4265-dade-ed6364e1fbc4"
      },
      "execution_count": null,
      "outputs": [
        {
          "output_type": "display_data",
          "data": {
            "text/plain": [
              "<Figure size 360x360 with 1 Axes>"
            ],
            "image/png": "[encoded data removed]"
          },
          "metadata": {
            "needs_background": "light"
          }
        }
      ]
    },
    {
      "cell_type": "code",
      "source": [
        "#L1 regularization은 Lasso로 import 합니다.\n",
        "\n",
        "from sklearn.linear_model import Lasso\n",
        "\n",
        "L1 = Lasso()\n",
        "L1.fit(X.reshape(-1,1), Y)\n",
        "a, b = L1.coef_, L1.intercept_\n",
        "print(\"기울기 : %0.2f, 절편 : %0.2f\" %(a,b))\n",
        "plt.figure(figsize=(5,5))\n",
        "plt.scatter(X,Y)\n",
        "plt.plot(X,L1.predict(X.reshape(-1,1)),'-b')\n",
        "plt.title('petal-sepal scatter with L1 regularization(Lasso)') \n",
        "plt.xlabel('petal length (cm)')\n",
        "plt.ylabel('sepal length (cm)')\n",
        "plt.grid()\n",
        "plt.show()"
      ],
      "metadata": {
        "colab": {
          "base_uri": "https://localhost:8080/",
          "height": 368
        },
        "id": "V6w7rE1xgLhN",
        "outputId": "2772d477-72ce-4aff-9ea7-b69043565353"
      },
      "execution_count": null,
      "outputs": [
        {
          "output_type": "stream",
          "name": "stdout",
          "text": [
            "기울기 : 0.00, 절편 : 6.59\n"
          ]
        },
        {
          "output_type": "display_data",
          "data": {
            "text/plain": [
              "<Figure size 360x360 with 1 Axes>"
            ],
            "image/png": "[encoded data removed]"
          },
          "metadata": {
            "needs_background": "light"
          }
        }
      ]
    },
    {
      "cell_type": "code",
      "source": [
        "#L2 regularization은 Ridge로 import 합니다. \n",
        "from sklearn.linear_model import Ridge\n",
        "\n",
        "L2 = Ridge()\n",
        "L2.fit(X.reshape(-1, 1), Y)\n",
        "a, b = L2.coef_, L2.intercept_\n",
        "print(\"기울기 : %0.2f, 절편 : %0.2f\" %(a,b))\n",
        "\n",
        "plt.figure(figsize=(5,5))\n",
        "plt.scatter(X,Y)\n",
        "plt.plot(X,L2.predict(X.reshape(-1,1)),'-b')\n",
        "plt.title('petal-sepal scatter with L2 regularization(Ridge)') \n",
        "plt.xlabel('petal length (cm)')\n",
        "plt.ylabel('sepal length (cm)')\n",
        "plt.grid()\n",
        "plt.show()"
      ],
      "metadata": {
        "colab": {
          "base_uri": "https://localhost:8080/",
          "height": 368
        },
        "id": "UO2Gu4MRg7o3",
        "outputId": "a979f204-fe6c-420b-b1a9-9c2995f2d6c0"
      },
      "execution_count": null,
      "outputs": [
        {
          "output_type": "stream",
          "name": "stdout",
          "text": [
            "기울기 : 0.93, 절편 : 1.41\n"
          ]
        },
        {
          "output_type": "display_data",
          "data": {
            "text/plain": [
              "<Figure size 360x360 with 1 Axes>"
            ],
            "image/png": "[encoded data removed]"
          },
          "metadata": {
            "needs_background": "light"
          }
        }
      ]
    },
    {
      "cell_type": "markdown",
      "source": [
        "# 26-3. L1 Regularization\n",
        "\n"
      ],
      "metadata": {
        "id": "2vdcile0hOxS"
      }
    },
    {
      "cell_type": "code",
      "source": [
        "# 컬럼 수가 많은 데이터에서의 L1 regularization 비교\n",
        "\n",
        "from sklearn.datasets import load_wine\n",
        "\n",
        "wine = load_wine()\n",
        "wine_df = pd.DataFrame(data=wine.data, columns=wine.feature_names)\n",
        "target_df = pd.DataFrame(data=wine.target, columns=['Y'])\n",
        "\n",
        "# feature 확인\n",
        "wine_df.head(5)"
      ],
      "metadata": {
        "colab": {
          "base_uri": "https://localhost:8080/",
          "height": 270
        },
        "id": "ds_QHRZSjFg8",
        "outputId": "4055d28b-1764-48ca-eec0-52f8052a5afe"
      },
      "execution_count": null,
      "outputs": [
        {
          "output_type": "execute_result",
          "data": {
            "text/plain": [
              "   alcohol  malic_acid   ash  alcalinity_of_ash  magnesium  total_phenols  \\\n",
              "0    14.23        1.71  2.43               15.6      127.0           2.80   \n",
              "1    13.20        1.78  2.14               11.2      100.0           2.65   \n",
              "2    13.16        2.36  2.67               18.6      101.0           2.80   \n",
              "3    14.37        1.95  2.50               16.8      113.0           3.85   \n",
              "4    13.24        2.59  2.87               21.0      118.0           2.80   \n",
              "\n",
              "   flavanoids  nonflavanoid_phenols  proanthocyanins  color_intensity   hue  \\\n",
              "0        3.06                  0.28             2.29             5.64  1.04   \n",
              "1        2.76                  0.26             1.28             4.38  1.05   \n",
              "2        3.24                  0.30             2.81             5.68  1.03   \n",
              "3        3.49                  0.24             2.18             7.80  0.86   \n",
              "4        2.69                  0.39             1.82             4.32  1.04   \n",
              "\n",
              "   od280/od315_of_diluted_wines  proline  \n",
              "0                          3.92   1065.0  \n",
              "1                          3.40   1050.0  \n",
              "2                          3.17   1185.0  \n",
              "3                          3.45   1480.0  \n",
              "4                          2.93    735.0  "
            ],
            "text/html": [
              "\n",
              "  <div id=\"df-c82b5784-86bf-46d6-8f12-2b95a768c1ab\">\n",
              "    <div class=\"colab-df-container\">\n",
              "      <div>\n",
              "<style scoped>\n",
              "    .dataframe tbody tr th:only-of-type {\n",
              "        vertical-align: middle;\n",
              "    }\n",
              "\n",
              "    .dataframe tbody tr th {\n",
              "        vertical-align: top;\n",
              "    }\n",
              "\n",
              "    .dataframe thead th {\n",
              "        text-align: right;\n",
              "    }\n",
              "</style>\n",
              "<table border=\"1\" class=\"dataframe\">\n",
              "  <thead>\n",
              "    <tr style=\"text-align: right;\">\n",
              "      <th></th>\n",
              "      <th>alcohol</th>\n",
              "      <th>malic_acid</th>\n",
              "      <th>ash</th>\n",
              "      <th>alcalinity_of_ash</th>\n",
              "      <th>magnesium</th>\n",
              "      <th>total_phenols</th>\n",
              "      <th>flavanoids</th>\n",
              "      <th>nonflavanoid_phenols</th>\n",
              "      <th>proanthocyanins</th>\n",
              "      <th>color_intensity</th>\n",
              "      <th>hue</th>\n",
              "      <th>od280/od315_of_diluted_wines</th>\n",
              "      <th>proline</th>\n",
              "    </tr>\n",
              "  </thead>\n",
              "  <tbody>\n",
              "    <tr>\n",
              "      <th>0</th>\n",
              "      <td>14.23</td>\n",
              "      <td>1.71</td>\n",
              "      <td>2.43</td>\n",
              "      <td>15.6</td>\n",
              "      <td>127.0</td>\n",
              "      <td>2.80</td>\n",
              "      <td>3.06</td>\n",
              "      <td>0.28</td>\n",
              "      <td>2.29</td>\n",
              "      <td>5.64</td>\n",
              "      <td>1.04</td>\n",
              "      <td>3.92</td>\n",
              "      <td>1065.0</td>\n",
              "    </tr>\n",
              "    <tr>\n",
              "      <th>1</th>\n",
              "      <td>13.20</td>\n",
              "      <td>1.78</td>\n",
              "      <td>2.14</td>\n",
              "      <td>11.2</td>\n",
              "      <td>100.0</td>\n",
              "      <td>2.65</td>\n",
              "      <td>2.76</td>\n",
              "      <td>0.26</td>\n",
              "      <td>1.28</td>\n",
              "      <td>4.38</td>\n",
              "      <td>1.05</td>\n",
              "      <td>3.40</td>\n",
              "      <td>1050.0</td>\n",
              "    </tr>\n",
              "    <tr>\n",
              "      <th>2</th>\n",
              "      <td>13.16</td>\n",
              "      <td>2.36</td>\n",
              "      <td>2.67</td>\n",
              "      <td>18.6</td>\n",
              "      <td>101.0</td>\n",
              "      <td>2.80</td>\n",
              "      <td>3.24</td>\n",
              "      <td>0.30</td>\n",
              "      <td>2.81</td>\n",
              "      <td>5.68</td>\n",
              "      <td>1.03</td>\n",
              "      <td>3.17</td>\n",
              "      <td>1185.0</td>\n",
              "    </tr>\n",
              "    <tr>\n",
              "      <th>3</th>\n",
              "      <td>14.37</td>\n",
              "      <td>1.95</td>\n",
              "      <td>2.50</td>\n",
              "      <td>16.8</td>\n",
              "      <td>113.0</td>\n",
              "      <td>3.85</td>\n",
              "      <td>3.49</td>\n",
              "      <td>0.24</td>\n",
              "      <td>2.18</td>\n",
              "      <td>7.80</td>\n",
              "      <td>0.86</td>\n",
              "      <td>3.45</td>\n",
              "      <td>1480.0</td>\n",
              "    </tr>\n",
              "    <tr>\n",
              "      <th>4</th>\n",
              "      <td>13.24</td>\n",
              "      <td>2.59</td>\n",
              "      <td>2.87</td>\n",
              "      <td>21.0</td>\n",
              "      <td>118.0</td>\n",
              "      <td>2.80</td>\n",
              "      <td>2.69</td>\n",
              "      <td>0.39</td>\n",
              "      <td>1.82</td>\n",
              "      <td>4.32</td>\n",
              "      <td>1.04</td>\n",
              "      <td>2.93</td>\n",
              "      <td>735.0</td>\n",
              "    </tr>\n",
              "  </tbody>\n",
              "</table>\n",
              "</div>\n",
              "      <button class=\"colab-df-convert\" onclick=\"convertToInteractive('df-c82b5784-86bf-46d6-8f12-2b95a768c1ab')\"\n",
              "              title=\"Convert this dataframe to an interactive table.\"\n",
              "              style=\"display:none;\">\n",
              "        \n",
              "  <svg xmlns=\"http://www.w3.org/2000/svg\" height=\"24px\"viewBox=\"0 0 24 24\"\n",
              "       width=\"24px\">\n",
              "    <path d=\"M0 0h24v24H0V0z\" fill=\"none\"/>\n",
              "    <path d=\"M18.56 5.44l.94 2.06.94-2.06 2.06-.94-2.06-.94-.94-2.06-.94 2.06-2.06.94zm-11 1L8.5 8.5l.94-2.06 2.06-.94-2.06-.94L8.5 2.5l-.94 2.06-2.06.94zm10 10l.94 2.06.94-2.06 2.06-.94-2.06-.94-.94-2.06-.94 2.06-2.06.94z\"/><path d=\"M17.41 7.96l-1.37-1.37c-.4-.4-.92-.59-1.43-.59-.52 0-1.04.2-1.43.59L10.3 9.45l-7.72 7.72c-.78.78-.78 2.05 0 2.83L4 21.41c.39.39.9.59 1.41.59.51 0 1.02-.2 1.41-.59l7.78-7.78 2.81-2.81c.8-.78.8-2.07 0-2.86zM5.41 20L4 18.59l7.72-7.72 1.47 1.35L5.41 20z\"/>\n",
              "  </svg>\n",
              "      </button>\n",
              "      \n",
              "  <style>\n",
              "    .colab-df-container {\n",
              "      display:flex;\n",
              "      flex-wrap:wrap;\n",
              "      gap: 12px;\n",
              "    }\n",
              "\n",
              "    .colab-df-convert {\n",
              "      background-color: #E8F0FE;\n",
              "      border: none;\n",
              "      border-radius: 50%;\n",
              "      cursor: pointer;\n",
              "      display: none;\n",
              "      fill: #1967D2;\n",
              "      height: 32px;\n",
              "      padding: 0 0 0 0;\n",
              "      width: 32px;\n",
              "    }\n",
              "\n",
              "    .colab-df-convert:hover {\n",
              "      background-color: #E2EBFA;\n",
              "      box-shadow: 0px 1px 2px rgba(60, 64, 67, 0.3), 0px 1px 3px 1px rgba(60, 64, 67, 0.15);\n",
              "      fill: #174EA6;\n",
              "    }\n",
              "\n",
              "    [theme=dark] .colab-df-convert {\n",
              "      background-color: #3B4455;\n",
              "      fill: #D2E3FC;\n",
              "    }\n",
              "\n",
              "    [theme=dark] .colab-df-convert:hover {\n",
              "      background-color: #434B5C;\n",
              "      box-shadow: 0px 1px 3px 1px rgba(0, 0, 0, 0.15);\n",
              "      filter: drop-shadow(0px 1px 2px rgba(0, 0, 0, 0.3));\n",
              "      fill: #FFFFFF;\n",
              "    }\n",
              "  </style>\n",
              "\n",
              "      <script>\n",
              "        const buttonEl =\n",
              "          document.querySelector('#df-c82b5784-86bf-46d6-8f12-2b95a768c1ab button.colab-df-convert');\n",
              "        buttonEl.style.display =\n",
              "          google.colab.kernel.accessAllowed ? 'block' : 'none';\n",
              "\n",
              "        async function convertToInteractive(key) {\n",
              "          const element = document.querySelector('#df-c82b5784-86bf-46d6-8f12-2b95a768c1ab');\n",
              "          const dataTable =\n",
              "            await google.colab.kernel.invokeFunction('convertToInteractive',\n",
              "                                                     [key], {});\n",
              "          if (!dataTable) return;\n",
              "\n",
              "          const docLinkHtml = 'Like what you see? Visit the ' +\n",
              "            '<a target=\"_blank\" href=https://colab.research.google.com/notebooks/data_table.ipynb>data table notebook</a>'\n",
              "            + ' to learn more about interactive tables.';\n",
              "          element.innerHTML = '';\n",
              "          dataTable['output_type'] = 'display_data';\n",
              "          await google.colab.output.renderOutput(dataTable, element);\n",
              "          const docLink = document.createElement('div');\n",
              "          docLink.innerHTML = docLinkHtml;\n",
              "          element.appendChild(docLink);\n",
              "        }\n",
              "      </script>\n",
              "    </div>\n",
              "  </div>\n",
              "  "
            ]
          },
          "metadata": {},
          "execution_count": 17
        }
      ]
    },
    {
      "cell_type": "code",
      "source": [
        "# target 확인\n",
        "target_df.head(5)"
      ],
      "metadata": {
        "colab": {
          "base_uri": "https://localhost:8080/",
          "height": 206
        },
        "id": "bGG1pU6vjtsx",
        "outputId": "2d920d97-1779-4c47-d890-b66a93a87acc"
      },
      "execution_count": null,
      "outputs": [
        {
          "output_type": "execute_result",
          "data": {
            "text/plain": [
              "   Y\n",
              "0  0\n",
              "1  0\n",
              "2  0\n",
              "3  0\n",
              "4  0"
            ],
            "text/html": [
              "\n",
              "  <div id=\"df-35488c24-b9d8-4302-b8c4-8a29eaa0066f\">\n",
              "    <div class=\"colab-df-container\">\n",
              "      <div>\n",
              "<style scoped>\n",
              "    .dataframe tbody tr th:only-of-type {\n",
              "        vertical-align: middle;\n",
              "    }\n",
              "\n",
              "    .dataframe tbody tr th {\n",
              "        vertical-align: top;\n",
              "    }\n",
              "\n",
              "    .dataframe thead th {\n",
              "        text-align: right;\n",
              "    }\n",
              "</style>\n",
              "<table border=\"1\" class=\"dataframe\">\n",
              "  <thead>\n",
              "    <tr style=\"text-align: right;\">\n",
              "      <th></th>\n",
              "      <th>Y</th>\n",
              "    </tr>\n",
              "  </thead>\n",
              "  <tbody>\n",
              "    <tr>\n",
              "      <th>0</th>\n",
              "      <td>0</td>\n",
              "    </tr>\n",
              "    <tr>\n",
              "      <th>1</th>\n",
              "      <td>0</td>\n",
              "    </tr>\n",
              "    <tr>\n",
              "      <th>2</th>\n",
              "      <td>0</td>\n",
              "    </tr>\n",
              "    <tr>\n",
              "      <th>3</th>\n",
              "      <td>0</td>\n",
              "    </tr>\n",
              "    <tr>\n",
              "      <th>4</th>\n",
              "      <td>0</td>\n",
              "    </tr>\n",
              "  </tbody>\n",
              "</table>\n",
              "</div>\n",
              "      <button class=\"colab-df-convert\" onclick=\"convertToInteractive('df-35488c24-b9d8-4302-b8c4-8a29eaa0066f')\"\n",
              "              title=\"Convert this dataframe to an interactive table.\"\n",
              "              style=\"display:none;\">\n",
              "        \n",
              "  <svg xmlns=\"http://www.w3.org/2000/svg\" height=\"24px\"viewBox=\"0 0 24 24\"\n",
              "       width=\"24px\">\n",
              "    <path d=\"M0 0h24v24H0V0z\" fill=\"none\"/>\n",
              "    <path d=\"M18.56 5.44l.94 2.06.94-2.06 2.06-.94-2.06-.94-.94-2.06-.94 2.06-2.06.94zm-11 1L8.5 8.5l.94-2.06 2.06-.94-2.06-.94L8.5 2.5l-.94 2.06-2.06.94zm10 10l.94 2.06.94-2.06 2.06-.94-2.06-.94-.94-2.06-.94 2.06-2.06.94z\"/><path d=\"M17.41 7.96l-1.37-1.37c-.4-.4-.92-.59-1.43-.59-.52 0-1.04.2-1.43.59L10.3 9.45l-7.72 7.72c-.78.78-.78 2.05 0 2.83L4 21.41c.39.39.9.59 1.41.59.51 0 1.02-.2 1.41-.59l7.78-7.78 2.81-2.81c.8-.78.8-2.07 0-2.86zM5.41 20L4 18.59l7.72-7.72 1.47 1.35L5.41 20z\"/>\n",
              "  </svg>\n",
              "      </button>\n",
              "      \n",
              "  <style>\n",
              "    .colab-df-container {\n",
              "      display:flex;\n",
              "      flex-wrap:wrap;\n",
              "      gap: 12px;\n",
              "    }\n",
              "\n",
              "    .colab-df-convert {\n",
              "      background-color: #E8F0FE;\n",
              "      border: none;\n",
              "      border-radius: 50%;\n",
              "      cursor: pointer;\n",
              "      display: none;\n",
              "      fill: #1967D2;\n",
              "      height: 32px;\n",
              "      padding: 0 0 0 0;\n",
              "      width: 32px;\n",
              "    }\n",
              "\n",
              "    .colab-df-convert:hover {\n",
              "      background-color: #E2EBFA;\n",
              "      box-shadow: 0px 1px 2px rgba(60, 64, 67, 0.3), 0px 1px 3px 1px rgba(60, 64, 67, 0.15);\n",
              "      fill: #174EA6;\n",
              "    }\n",
              "\n",
              "    [theme=dark] .colab-df-convert {\n",
              "      background-color: #3B4455;\n",
              "      fill: #D2E3FC;\n",
              "    }\n",
              "\n",
              "    [theme=dark] .colab-df-convert:hover {\n",
              "      background-color: #434B5C;\n",
              "      box-shadow: 0px 1px 3px 1px rgba(0, 0, 0, 0.15);\n",
              "      filter: drop-shadow(0px 1px 2px rgba(0, 0, 0, 0.3));\n",
              "      fill: #FFFFFF;\n",
              "    }\n",
              "  </style>\n",
              "\n",
              "      <script>\n",
              "        const buttonEl =\n",
              "          document.querySelector('#df-35488c24-b9d8-4302-b8c4-8a29eaa0066f button.colab-df-convert');\n",
              "        buttonEl.style.display =\n",
              "          google.colab.kernel.accessAllowed ? 'block' : 'none';\n",
              "\n",
              "        async function convertToInteractive(key) {\n",
              "          const element = document.querySelector('#df-35488c24-b9d8-4302-b8c4-8a29eaa0066f');\n",
              "          const dataTable =\n",
              "            await google.colab.kernel.invokeFunction('convertToInteractive',\n",
              "                                                     [key], {});\n",
              "          if (!dataTable) return;\n",
              "\n",
              "          const docLinkHtml = 'Like what you see? Visit the ' +\n",
              "            '<a target=\"_blank\" href=https://colab.research.google.com/notebooks/data_table.ipynb>data table notebook</a>'\n",
              "            + ' to learn more about interactive tables.';\n",
              "          element.innerHTML = '';\n",
              "          dataTable['output_type'] = 'display_data';\n",
              "          await google.colab.output.renderOutput(dataTable, element);\n",
              "          const docLink = document.createElement('div');\n",
              "          docLink.innerHTML = docLinkHtml;\n",
              "          element.appendChild(docLink);\n",
              "        }\n",
              "      </script>\n",
              "    </div>\n",
              "  </div>\n",
              "  "
            ]
          },
          "metadata": {},
          "execution_count": 18
        }
      ]
    },
    {
      "cell_type": "code",
      "source": [
        "#  Linear regression을 하고 오차 출력\n",
        "\n",
        "from sklearn.model_selection import train_test_split\n",
        "from sklearn.linear_model import LinearRegression\n",
        "from sklearn.metrics import mean_absolute_error, mean_squared_error\n",
        "\n",
        "# 데이터를 준비하고\n",
        "X_train, X_test, y_train, y_test = train_test_split(wine_df, target_df, test_size=0.3, random_state=101)\n",
        "\n",
        "# 모델을 훈련시킵니다.\n",
        "model = LinearRegression()\n",
        "model.fit(X_train, y_train)\n",
        "\n",
        "# 테스트\n",
        "pred = model.predict(X_test)\n",
        "\n",
        "# 테스트 결과는 이렇습니다!\n",
        "print(\"result of linear regression\")\n",
        "print('Mean Absolute Error:', mean_absolute_error(y_test, pred))\n",
        "print('Mean Squared Error:', mean_squared_error(y_test, pred))\n",
        "print('Mean Root Squared Error:', np.sqrt(mean_squared_error(y_test, pred)))\n",
        "\n",
        "print(\"\\n\\n coefficient linear regression\")\n",
        "print(model.coef_)"
      ],
      "metadata": {
        "colab": {
          "base_uri": "https://localhost:8080/"
        },
        "id": "mZu0CY4AkM42",
        "outputId": "3ee58d92-ea18-45d1-e96f-2159c510e8d4"
      },
      "execution_count": null,
      "outputs": [
        {
          "output_type": "stream",
          "name": "stdout",
          "text": [
            "result of linear regression\n",
            "Mean Absolute Error: 0.2512897393972262\n",
            "Mean Squared Error: 0.10624587409525563\n",
            "Mean Root Squared Error: 0.3259537913497182\n",
            "\n",
            "\n",
            " coefficient linear regression\n",
            "[[-8.09017190e-02  4.34817880e-02 -1.18857931e-01  3.65705449e-02\n",
            "  -4.68014203e-04  1.41423581e-01 -4.54107854e-01 -5.13172664e-01\n",
            "   9.69318443e-02  5.34311136e-02 -1.27626604e-01 -2.91381844e-01\n",
            "  -5.72238959e-04]]\n"
          ]
        }
      ]
    },
    {
      "cell_type": "code",
      "source": [
        "# L1 regularization으로 문제를 풀이\n",
        "\n",
        "from sklearn.linear_model import Lasso\n",
        "from sklearn.metrics import mean_absolute_error, mean_squared_error\n",
        "\n",
        "# 모델을 준비하고 훈련\n",
        "L1 = Lasso(alpha=0.05)\n",
        "L1.fit(X_train, y_train)\n",
        "\n",
        "# 테스트\n",
        "pred = L1.predict(X_test)\n",
        "\n",
        "# 모델 성능은 얼마나 좋을까요?\n",
        "print(\"result of Lasso\")\n",
        "print('Mean Absolute Error:', mean_absolute_error(y_test, pred))\n",
        "print('Mean Squared Error:', mean_squared_error(y_test, pred))\n",
        "print('Mean Root Squared Error:', np.sqrt(mean_squared_error(y_test, pred)))\n",
        "\n",
        "print(\"\\n\\n coefficient of Lasso\")\n",
        "print(L1.coef_)"
      ],
      "metadata": {
        "colab": {
          "base_uri": "https://localhost:8080/"
        },
        "id": "uIkevjC6mB5I",
        "outputId": "caf889a4-1d34-4ce6-db5d-e6be8d10f1f6"
      },
      "execution_count": null,
      "outputs": [
        {
          "output_type": "stream",
          "name": "stdout",
          "text": [
            "result of Lasso\n",
            "Mean Absolute Error: 0.24233731936122138\n",
            "Mean Squared Error: 0.0955956894578189\n",
            "Mean Root Squared Error: 0.3091855259513597\n",
            "\n",
            "\n",
            " coefficient of Lasso\n",
            "[-0.          0.01373795 -0.          0.03065716  0.00154719 -0.\n",
            " -0.34143614 -0.          0.          0.06755943 -0.         -0.14558153\n",
            " -0.00089635]\n"
          ]
        }
      ]
    },
    {
      "cell_type": "markdown",
      "source": [
        "- coefficient 부분을 보시면 Linear Regression과 L1 Regularization의 차이가 좀 더 두드러짐을 알 수 있습니다. Linear Regression에서는 모든 컬럼의 가중치를 탐색하여 구하는 반면, L1 Regularization에서는 총 13개 중 7개를 제외한 나머지의 값들이 모두 0임을 확인할 수 있습니다.\n",
        "\n",
        "- Error 부분에서는 큰 차이가 없었지만, 우리가 어떤 컬럼이 결과에 영향을 더 크게 미치는지 확실히 확인할 수 있습니다.\n",
        "\n",
        "- 이러한 경우 다른 문제에서도 error의 차이가 크게 나지 않는다면, 차원 축소와 비슷한 개념으로 변수의 값을 7개만 남겨도 충분히 결과를 예측할 수 있습니다.\n",
        "\n",
        "- 다만 Linear Regression과 L1, L2 Regularization의 차이 중 하나는 \\alphaα라는 하이퍼파라미터(수식에서는 \\lambdaλ)가 하나 더 들어간다는 것이고, 그 값에 따라 error에 영향을 미친다는 점"
      ],
      "metadata": {
        "id": "qQA2BQR1n1yS"
      }
    },
    {
      "cell_type": "markdown",
      "source": [
        "# 26-4. L2 Regularization"
      ],
      "metadata": {
        "id": "d871EadQoB8A"
      }
    },
    {
      "cell_type": "markdown",
      "source": [
        "2. L1 / L2 Regularization의 차이점\n",
        "\n",
        "![캡처.PNG](data:image/png;base64,iVBORw0KGgoAAAANSUhEUgAAA7UAAAGyCAYAAAA7w+OkAAAAAXNSR0IArs4c6QAAAARnQU1BAACxjwv8YQUAAAAJcEhZcwAAEnQAABJ0Ad5mH3gAAJmqSURBVHhe7d0FuFR1+gdwsGPtWF1ddf8StisiFsgqtqiARYcsoisgKgYGSqeUSEgJSElJqEiDIN0l3d1d7r7/831n3uHcuXNj7p04c+f7eZ7z3Jkzdc6Zuef9fU/8Ti4hIiIiIiIiSlCBUDtnzhwOHDhw4MCBAwcOHDhw4MAhoQbuqSUiIiIiIqKExVBLRERERERECYuhloiIiIiIiBIWQy0RERERERElLIZaIiIiIiIiSlgMtURERERERJSwGGqJiIiIiIgoYTHUEhERERERUcJiqCUiIiIiIqKExVBLRERERERECYuhloiIiIiIiBIWQy0RERERERElLIZaIiIiIiIiSlgMtURERERERJSwGGqJiIiIiIgoYTHUEhERERERUcJiqCUiIiIiIqKExVBLRERERERECYuhloiIiIiIiBIWQy0RERERERElLIZaIiIiIiIiSlgMtURERERERJSwGGqJiIiIiIgoYTHUEhERERERUcJiqCUiIiIiIqKExVBLRERERERECYuhloiIiIiIiBIWQy0RERERERElLIZaIiIiIiIiSlgMtURERERERJSwGGqJiIiIiIgoYTHUEhERERERUcJiqCUiIiIiIqKExVBLRERERERECYuhloiIiIiIiBIWQy0Ryf/+9z8diIiIvIT1iYgyg6GWiIiIiIiIEhZDLVESs63f69atk0WLFunt//73v/qXiIgoXqwWzZ8/XzZt2qS3uceWiNLCUEuUxE6dOqV/W7duLTVr1tTbf/75p/4lIiKKF6tFr7/+unz77bd622oWEVEwhlqiJGaNhpIlS8ott9yit7mnloiI4g17ZVGP/v73v0ulSpV0HDe6ElFaGGqJktyxY8e00XDuuefK5s2bdRyDLRERxYvVoJUrV8oZZ5wht912WyDQ8hBkIgqFoZYoSVkDYdq0adpoyJUrl/Tt21fHcWs4ERHFix1m3KlTJ61N55xzjixYsEDHcaMrEYXCUEuUpCy41q9fXxsNGHiIFxERxZsF11KlSgXqU5s2bXQcz6slolAYaomSFBoNOIyrcOHCgUbDP/7xDz0cGXiIFxERxZrVnv3798vVV18dqE/PPPOMjueeWiIKhaGWKE5QmDFgr2ioAGmPuWEctlJnN3Bao2DDhg3yl7/8RRsMuXPn1r84HBm4t5aIKDlh/R9ufcL9SNQne99ff/1Va5KdHnP55ZfLzp079bHsfgYR5TwMtURxEO+CbIdvff/999pYOPPMM+Wss87S2w0aNNDHeIgXERHFmtWeOnXqaE1CbbJgO2LECH0sOFATETHUEsWY7SUdOXKkFu13331Xtm7dquPwmD2+atUqGTx4cIot5ePGjZMqVaoEeinOaji2BkHFihV1D+3ZZ58dCLVFihTRx7glnIgouVj96dGjh7z//vva58KRI0d0HGqC1YXp06fLmDFj9La9plu3bvKf//wncApLVuEz8J733HNPYKMrahRq1dtvv63P4UZXIgrGUEsUQ1b8+/fvLx988IGsW7dOihYtKg888ECgkNtznnjiCS3ihw4d0vtQsGBBLfINGzbU+1bY8RoEVRvSC6T22NGjR+XGG28MHHaMAbdxODIOSwabFiIiytlsfd+4cWP5+uuvZePGjXLllVdKjRo1dLzVG4RWHAp8xx136H3UlD179sgFF1ygdWTUqFE63jaeWn3C6zOqKfb48uXL9TJz7vqEvbW33357YDrSq3NElHwYaolixArwjh07pFy5cnLy5Em9/+yzz8qFF14ox48f1/tw8OBBOe+88+TRRx/V+1bE0VjAHtW6devqfbxHWo2EtMZbQ2Pq1Km6BRyNBXTGgWvVWrDt16+fPseeS0REOZfVC+yBxd5Wg7rw4IMP6m2rQ/PmzdNagQ2zcOLECX198+bNdfyQIUN0PJ4fKnjiuWkFUvuMzp07BwItpuGvf/2r3sYeW7u0D+sTEbkx1BLFiBXgFi1aSMeOHfU2DiNGeC1WrJjet6A7adIkLeBffPGF3keht0bHww8/LF999ZXetgbAzJkz5dtvv5X27dvLzz//rOMgVMPBXtOkSRP9jDfffFOaNWsmH374oZ5Pi3E4xBnYaCAiyvlsXY96MHHiRK03Voc++ugjfcwOK0adQeAcPny43reagtfccMMNMnnyZL1v9QenzSCkYu+vdUSYFqtzL730kn426mWtWrWkXbt2UqFCBR3XoUMHfW/7XCIiYKglihEr1jgPCYd1oSgjiKJI9+rVSx+zRkOjRo10PBoVgAYHBrwHtqLbuUx4D4RTHB7Wp08fvVA9tqrjMOVly5bpc+xzjTU0cBiXhWk0GN555x29/e9//1suvfTSwJ5jez4REeVs6IjJzqGtXr261qH58+frfdvo+sILL2io3bZtm963GoO/ZcqU0dNqAEccIZDiyKIBAwZIq1atJF++fFK8eHE9XBm1xV1f7PaBAwd0Y2/t2rX1ftWqVaVnz556G6fqYADWJiJyY6gliiN0ynT++efL7t279b5tLbfxKPxgxR/DG2+8oaEYevfuHeg4w+BQMByu9X//93/aOLHXgTU+Fi1aJKVLlw40Xlq2bKmND3seGjOjR4/W29xbS0SUXA4fPiyXXXaZ3HnnnVo3rHagL4YrrrhCO3EyVjd27dqlG0WtZiDMYq+q25o1azQov/jii3rf3hfsdYMGDZKaNWvqbTyOUIsNtrBv3z559dVXZfXq1XrfPpuIiKGWKMZwyBQKMQ49RscXJUqUCIwHBFwE2sKFC+t9PNcKN7aAu8PnK6+8oufjLl68WBsEFlKbNm2qDYfx48frfWss2Os2bdqkW9ENDme2PbVoROD5aHyAvYaIiHI2bBSFsWPHag3BkUBgR+7Mnj1bx7/33nt6H3UL9QJ1Aq9BJ1OAOpInTx49HBl7XvEce49SpUrpe6AOgQVbqzXo+d/qECAo46gme3z//v2BKwawPhGRYaglijELrz/88IMWdivW1piYMmWKjselFMAaDYDryuLcJINDshB+t2zZovetw442bdroe2R0TT87nMwdam36iIgouVitwF5W1JAZM2bofQukbdu21UOP3bXFXoNe+SdMmKC3UdPQTwM6QsRrcR+1BX/Lly+v743wChZqg1ktslALrE9ElBaGWqIYs6KMLeBoHFijwQLpwIEDdQ+uuwdJazTgfNr169fr7VBbqO29n3zySb0cAg4Hg+BGA15rjQxwh1p8lj1ORETJw2oNDg9G7/jorR9Qn1ATEFRRtyyQ4vmoL9gbW61atUCADYZxeC6Ga665Ri8HZLUmGMbZ88Edau01oV5HRMmNoZYoxixI4lwjbK3GocMo0NZJFHqaxHj0QOkej86hPv/8c71txR6NCQx4nu11/emnn/T13333nd4PDrRuaYVaIiJKPrb+x95UXD4Hp7SghliteOyxx7S+bN++XcfbEUboEdlqTnB9AqtPOAIJoXjWrFl6P736ZO8THGqJiEJhqCWKMdvKjPOJcO4sOmUyCK64hu11112njQqDjp1wH71NohGA17tZgwPXD7zkkksClwzKqAHAUEtERMbW/7gsD8Jr165d9T7g9muvvabXSsdhyOaXX37RSwHZ0UbBrM6gB+SLL7440Ht/eoEWGGqJKBwMtURxYMUcF7p/+umnNdh+/PHHemke9Dq5cOFCeeqpp+Stt97SvbPolMMO90or0GLLN3qqtGsHZgZDLRERuVmNQb8Pjz/+uNaf999/P3Ck0I8//qiXg6tTp46ee/vZZ5/p4ceQVn1CfxB33XWXLFiwQO9nBkMtEYWDoZYoTtzFH3tt7dp+brh0j51DC2k1GHBBe4RjuzYtnocOp+w6t2ltEWeoJSKiYO5ag9qE3vqDYbx1Ughp1ae+fftqj8d2iTrAZXtWrFiht4NfZxhqiSgcDLVEcRR8KDFuYwgeD8HB1O7PmTMncGgyYE8vzl/CXl6clwsMtUREFI7gWmB1Ka3xblZzhg4dqkcioQMpjMNf7NUtU6ZM4JI+wa81DLVEFA6GWiIPQFEPVdjTGm+NCOyhveCCC7Sn4yuvvFLOO+88ueiii/TatZdeeqlezw9CvQcw1BIRUVqsBgXXkLTGgwXaXr166Xm5qEUY0IcE+nw455xz5N5779XnhHq9YaglonAw1BIlIGs0dOnSRTuWqlKliv6tUKGCVKpUScqWLSsNGjRIt8EADLVERBQpVnPwF+faVq5cWWsSjiZy16du3brp86yWhcJQS0ThYKglSmIMtURE5EUMtUQUDoZaogSGrdwo8mkNGWGoJSKiaEivPqW3h9bgecBQS0SZwVBLlMQYaomIyIsYaokoHAy1REmMoZaIiLyIoZaIwsFQS5TEGGqJiMiLGGqJKBwMtURJjKGWiIi8iKGWiMLBUEuUxBhqiYjIixhqiSgcDLVESYyhloiIvIihlojCwVBLlMQYaomIyIsYaokoHAy1REmMoZaIiLyIoZaIwsFQS5TEGGqJiMiLGGqJKBwMtURJjKGWiIi8iKGWiMLBUEuUxBhqiYjIixhqiSgcDLVESYyhloiIvIihlojCwVBLlMQYaomIyIsYaokoHAy1REmMoZaIiLyIoZaIwsFQS5TEGGqJiMiLGGqJKBwMtURJjKGWiIi8iKGWiMLBUEuUxBhqiYjIixhqiSgcDLVESYyhloiIvIihlojCwVBLlMQYaomIyIsYaokoHAy1REmMoZaIiLyIoZaIwsFQS5TEGGqJiMiLGGqJKBwMtURJjKGWiIi8iKGWiMLBUEuUxBhqiYjIixhqiSgcDLVESYyhloiIvIihlojCwVBLlMQYaomIyIsYaokoHAy1REmMoZaIiLyIoZaIwsFQS5TEGGqJiMiLGGqJKBwMtURJjKGWiIi8iKGWiMLBUEuUxBhqiYjIixhqiSgcDLU5CAKKhRSizGCoJaJo+d///qfrE6xnTp48qX//+9//+h8lSh9DLRGFg6E2B0DDAQNRuBhqiSga0qtJDLaUGQy1RBQOhtoE524c9OrVS9q1a+e/R5QxhloiipY9e/bI4MGD5fPPP5d3331XGjVqJLNnz/Y/SpQ+hloiCgdDbQKzLeEbNmyQkiVLSq5cueT666/XcdxzS5nBUEtEkWTrj59//lmuuOIKKVy4sDRp0kQ6duwoNWrUkMsuu0yqVq0qJ06c4FFGlC6GWiIKB0NtnFgxDzVkBlbseO706dMlX7580r17d7n11lv1NmT2fSi5MdQSUTB3PQoeMoJzZ+GTTz4J1CO3yZMn6wbYBg0a6H2ubygtDLVEFA6G2gRlhx0vWLBA5s+fr7f/7//+T26++Wa9nZnGBxFDLRFFktWmOXPm6ADWSZStb+644w658cYb9TZRWhhqiSgcDLVxhvCJlXR2O87AeyDQMtRSOBhqiSgtqEuRqE8G74PaVKhQIbn66qv9Y1mvKDSrRQy1RJQZDLUxZA2DTZs2ySWXXCJ/+ctf5K9//av8/e9/l+uuu04uvfRSHWcrbwsc6bFQDAy1Ocf/nN/Kf2NQvBlqiQhsXTBs2DCtQ6hHf/vb37Q+oU5ddNFFOn7x4sX6vIyCLh53P8fuHz16VN+rbNmyOp7rm8QTq/rEUEtE4WCojSELmkeOHJHevXtLnz595NFHH9XzixBycR/DH3/8oc/LbDC15zHU5jxoPETzu2SoJSKw9Qw6HkQd6tu3r4Za1Kd7771Xvv/+e+1hf+/evfq8cNdLdq7tN998o++5bNkyvc/1TeJCsI1mfWKoJaJwMNTGWZ06deSMM84I2aFGZllRYahNfAixsHbCBFk1erTeBhsfaQy1RJSW+++/X+tTxYoV/WOyxtYpS5cu1UDbpk0bvc91TWKxOrRv3TpZN3my3oZo1SeGWiIKB0NtnBw7dkwDxVtvvaVF/h//+IccP35cx4W70o5kqMXr7DAxDPY++IvpwvTZNGbmM9yvs85CMnotHstoGuy98Lg95n6NjQfctteE+mz34+73jDWdLmc4ceiQtL7+emnh/C4m168vf5444XvcmfZIw/wCQy0RAdZDti685557tD69+uqreh91K3j9mRFbn6xcuVIuvvhiqVWrlt7HZ4TL1u022LTgLz7HpjvUej4teB+8JrOvzWga8B7B74O/6b3G/dnB8HybvoymLZrwuXbkUK9ixaQl6lPDhvJfZ9r08RDTnl22PBhqiSgzGGrjBEUK3n77bW00oOdiW1mHW7Ts+dHaU5vee6HgpiW9xyCc4pTV+UlrGmx8WtOQ0bRHC+YTjYMVI0ZIe+c30c75bfR46CHZOm+ePSGiW8Xtd8hQS0TG1rcFChTQ+vTaa6/pfVtfZJatS1asWKGBFhtxIZLrmPTW1RnVrvQeD2cas1Iv0vpsrQH+x9J637jWJ+ezlw0eLG1vvFHr03ePPCLbFy60J0S0Ptl3wFBLRJnBUBsnkQy1Vpwt1OJ2Vovezp07tSMrDBs3bpQtW7b4H/FdX7B58+bSrFkzGTRokOzfv1/Hh5pe+3w8hmvptmjRQt5//31p2LChjB8/Xrf4Q6jp3L59e4pp2LZtm/8R3zS0bNlSGjdurNfmxeFsgGlxvwbnhdnynDt3rrRq1UqaNm0qw4cP14v+gz2+detW6dq1qzRq1Ei6desm69ev1/Hhfg+RdmTXLhnhFPNWzu+j8Vlnye9O8DSR2irOUEtEwWzdl51Qa8/FubPoYKpmzZp6H0ckYR2M9Xw461jUCtQjW8dj2OWsIwF7MdHBFdbhWJeNGTMmRQ0K5q47C51A1r59ez0VqF69ejJixIg0axvWje46g8HOMcZ8ob40adJEa+TAgQMD9XPHjh0pXueuq7/++qvWM9SoKVOm+MeenkZctq9169b6vj/88IMcPHhQx8etPvk/97AzT8OrVNH61Ojss2WG/5ByiFR9slrEUEtEmcFQGyeRDLUG5+Vm9dxc++xHHnlEp+ecc86RM888Uy+9cPjw4UCHVu7hpptukt9//11f524k2G0EULwez0VPmrfffrv2oon7mE4UfQhufOB5eI5NwzPPPKOF/IEHHgh8tg233HKLvuazzz7T+2c54Q+vwWsR0GvXrp3qNWioLV++XF/Xo0cPfa778csuu0wGDBigj7vnK5bcPUsucZbTV1dfLW2caev71FOyyzoSc6Ytu1vFGWqJKJiti7Maam29ifUsrkeL9Usw1BR0mgjp1Tx7DEET4RjTc+655+p6/qOPPpJVq1bp1QPc63AM//rXvwLB2f3+Nm3okLF48eL63PPPP19uu+02ueGGG/T+Nddco0EX8Hx7DQKpvf95552n04DAuWjRIr1EkT1mQ/Xq1fV1Dz30kN5311XUtIcffjjVa1555RXtIRqsfeAeUDsRxCFe9ckdWhf37y+trrxS61M/p1bvcb4P0NqUzveaGQy1RBQOhto4iWSoxZ5MbPlFUcWA2+69m5lhn4nDxLBl+CknPGG6ChYsKC+88IIULVpUxo4dq5dz6NKlSyCcYs/woUOHAg0HK7K//PKLFn0858svv9RgDJhv7GHFeAwdO3bU8e7ijC37mAYLxGj8PP7443ofW8KxdxZhFJeFuPPOO/U12AKO13z66af6miudIlulShX55z//KSNHjpQlS5ZIu3bttJdpPI75wzQibHfo0EHnC++N98PjaOSsWbNG3zteDQc0CKzxsN9pTA12GjutnWlreuGFMtdf4CE7W8UZaokomNWDrIRarC/xeqxzsY5GD8pYx2LvJY70wR5J7JnMkyeP7t0E+7z04LOxnp43b16gV+aXX35Ze2Z+4403ZObMmXpUTt26deXss8/Wx+2yQbYOt7+YNnsP1Ik9e/boeBg9erQeKo3H3n33XR1nr8MeZgTKqVOnBp5TqVIlnZdy5crphlwEXNQhhNcaNWro61Czguvqiy++qMO0adNkzpw5eq4xHsOAPc5YTthwPGTIEJ1ehLqrrrpKH7/vvvt073RmllvUuOrTvvXrZeBLL2mwbe4sl/lOfTbZqU8MtUQUDobaOMluqLXnoNi+5BSTIkWKaKceGHAb46wQZ6XwlS5dWnLnzq1DqVKl/GNPQzDFY5h2hEGwIotAjS3deAwdjBjMn02LhU/sWUVBB5teU6xYscA0IFgHQ2Pi8ssv99/zweHDeD7eF3t87TBng4CN3jwvuOACfS0OhXZDo8jCOA6Zhsw05KLJOuIAhNlmTkMR4XaQE3IRdkEbDln4nhlqiSiYraezEmrtObgs0K233ip333231gOESAzXX3+97lnFhsqs1ijs/bX6g/AXrHLlyrqex0bMzZs36zh8Fj4HNQGhEq9FOLRpwHrPbuPyRQileA4O+QX3ehHziA2iNg04tSUY5tWWm7G6iteE6lH6iSee0M9FYM6fP3/g8GqDvcf2eoRhiPf62l2f5nTpIk2d2or6NNiZ14P+w6yzWp9s3hhqiSgzGGrjxAp/JA8/zggKNj431GCfiS3ReB62gGO6LHTicTyG52I6161bp1vhUWDr16+vr7UAifOS8Fo0KsaNGxf4XMBrMaxdu1aDJZ6Hw63sMUA4xmtw+BgexyFbdu6s9QCJAY0VK+z2GuwRwGsw2F5g7A2w182YMSPQKMAeYHC/J6YTe2vxHNvKj/Hx5j7UeNeKFdL36aelrTMPOCwZhyebcLeK2/fCUEtExupBds6pDZetf4MHWx9hmrCOx/oaoRbThb+2/sZzUaNwG30+4HGsx1GDwPYK49QSewz1AvAegPfH6/Fc7CXFc7ChGOPs8zHgPFqcpoL3yZs3b+B1Nr24jz26VrfwfhhndRV7kvE4xmGare7iUGY8juGLL74IvNbeF0cx4dBrTJfVNzwWbynq0/Ll8r0TzlGfWl97rSx1vgvjPq0mMzDPwFBLRJnBUBsnVogiGWrxuqy+1th0YQ8rpguXGsLhxeB+f4z7+9//rs+xMGSFF4cJo+jiUCl0wgT2OvuL56GxgOdd6xS+3bt363g8bssBe2rx/giZaHS4Pz+YTTcKPV6DQD1r1ix9PhoLGGD16tUakvG5n3/+uT5ur7XnWJjGoWLgpSLqDq3oOKrhmWdqRx3oUOqoLUM8J43lFMzmnaGWiIytZ7Mbam2dndYQDns+1k+oS5guHJEEtu62v+jrAY9jGDp0qI5DcARsrMT6H3tEsZET7+te59l74L3xemzYxaHDYM/D+b1XXHGFPl61alUdl95605ab1VXUezslB59vj/fr108fx/ThMGibNpt37Lm1MI1DuMECuRdYfcL0TmvRQho5dRiX/hlVvboc9R/ijT27Nj8ZsWXKUEtEmcFQGydWxGKxp9bed/DgwVKmTBkpX768/sWAAo+/6C0YrECiEYPpwqFjbjZteJ41LDAPBkXXzvvB4VM2n+55skYDOoDC89C4sEOQMa02vRZqETLBXmfwnvZc+xwLtQiu7nNi7bXo6ANbuvEc6wjEXhv8ufgLNt4r3B1w4FI/uOQPLq3Qzvk+Vv70k46HzGwVt3lnqCUiY+vrWOyptXUzesZHLcK5qe7ahPNS3et+rJ+s9qAjJkyrTZc9DyEUj2PAXluw59i1d9HpFPpiAHd9sufhfFp7D4RNsProDrU4lQaCl4277thjadVVe9z2MGPAqTCA97Dpc3+uHSHlpVAL7vq0xanr3e+/X+tT+5tvltVOUDeZqU9WixhqiSgzGGrjxIpYLEKtbaF2d0QRPGCvJthzrfiiUQM2TfYX04ppxnPcodYdGq0Tp+D5sfnEubr2+ZMmTdJxeMweDydc2vK0UItpwLSAu3Hhnr7gw7ey8rnxZFvFTznf2cR69aSJM83NnOFXpzF23H/Zh4y2itu8M9QSkbF1RixCra1vcBgvPivU4F4n4XZw7bHpsvU8Du2111qoxevwOA4rxnicb2uX43GvI+29rEd9DJ07d9ZxoUJtZsKlvWdaddUed4dadw/H9rxECLUmUJ+OH5cJTvC3+jT2gw/khH8vdUb1yb53hloiygyG2jixIhaLUGuFHntD0XMxrsmKv+7Ben+0ApnVUIvzXC+88EIdj46aQrH5LFGihD4Pw2+//abj8Jg9zlCbMTuPCdZPmSKd7rxTt4rj7wb3NQ/TmAebd4ZaIjK2no9FqLXPQi/1qEUIL+6/ffv21eekV3tsumw9n1aoxXugp2KMR6i1jpjsvcHeC70o23ugZgJDbXjc9WndpEnS+Y47tD51vvtu2ejvDwPcz3OzWsRQS0SZwVAbJ1bEwg217oAWDRkVX/sbqmGBx3CurW0Jx+Pu84aM3bZr3+LyObhmIGDebDkw1GYOlqdtFcce2tFOOG3uTH9jZ5j05Zfyp3/vu7uXSmPzzlBLRMbW0eGG2mjWJ5smrJ+yEmot/OHydDhnFb3cr1y5Use5pxnvj8968803A+8xatQofcw+h6E28zDt7vr0S82aWp8aOcOURo3kT//0h6pPVosYaokoMxhq48SKWGZDrT2/QYMGeikECHfljuKI9wk1BBfXrIRa613y+eef10YDejfGdW/xGms04DYGhF30XIkOnbBHF4c922M2Xwy14XHvjV31yy/Swfl+0AMlzrndNn++jtdl7F8WYPPOUEtEBusJyGyotXUGahNqFKT13LTgPfCaUAPYNOF5WQm11jv/hx9+GHgM1yq3umjscyz8Yo+uXffd5pOhNnzu+rRi5Ej5+qabfPWpSBHZ7p9XzKe7PtnyZqglosxgqI0DrLhRYFHI3nrrLS1Q6PjCuu5HkcJf93DkyBH9i04z8uXLp+8TjZW7TYP10ohONXDfCiemHffxPOusA/OAcbZXFheLx3g0CDp16qTj8HwUZztnd+LEiRpo8TzrxRHvATYNjz32mD6Ov/aZac0z3hfP+frrr/U1CK64bBDG4TUYcBvjLNTiuRhn05Te5yYKfD/WeDi8c6cMr1JFe0dufPbZMr1Nm0DjyLaK43vFVvSvWraU2rVq4Q3YaCBKYlhHWA2yTpVw2TXct7oVPNh4nBeLvhsg0mErvdpj62hbz6OTJTyOAZfwsWkEhEX0aIz6U7NmTR2H16M+6frQ+Rxs/ESYxevRsSLgcQvA6K3fwiUuvYNxR48e1cdDsdqSVl21+mWXG8KAecA4zJPNe6jPtflKBJiPQH3asUOGVawoXznz0vS882Smv+NGsPpktYihlogyg6E2zj766CMtsLfccot/TPq+/PLLQM+J0Vy5V3HCEKbrwQcf9I9JDdOM52AeDIo6ClfJkiW18CKA2/m6Bs+xvaF33XWXHDhwQF+Dwa148eL6/vibWTj/Cq/Beb2hij3G4TE8B88NJSuf6zV2uBfgOrZf/fWvulW83zPPyO4VK3Q8tojbbwh7rT/44AO9fSrCjVEiSkwPPfSQrgtff/11/5j03XfffVKnTh29HelQ6xaq9rht2bJFH8dg16kFC514HerP5ZdfLosWLdJxbm+88YY+fuWVV+qGUA1jQYH1mmuu0fdv06aNf0zGMqqrmFabbsxDKPa5uKZtonLXp8X9+slXznJug/r07LOyZ9UqHY/6ZLWIoZaIMoOhNoYstGFrKy5VgOH666/X4omhdOnSOs7+ugcctoRLHdxwww2BDpgiuXK3go1DmvB5dlkeXCQe9+0wL+wxRgMH02jTjWnCc1BkMY/Yerxv3z55+umnA493795dO6rC4VX333+/jkegxXVjwd1gwOFheD9ccgHPQwjFvOMz27Ztq8+xebe/eF+8xvYsYMBh0BiHQ8cw4DbG2eN4LsYNdEIfvPfeeyk+F39xH9MDwaHb89AQ8y+f/Rs2yMCXXpLWzny1uPhimevv+AQ9J6/5+Wdp7DQm6pUoIUdsA0SizSsRZYutS3HtVqxrsc5FeMK6EHsHsS5EHcLf4AHPxx5NHJ2D9ShEKtTaehe1B9eEDVV7WrVqpc9BQMV9qz0YECAxzq77iulCjapWrZo+jvU8guns2bP1cOQXX3xRx1933XUyxd/Zni0b1G4sF7uGLQbsncY4LJsxY8bo8+z5GdVV7GkGvA73Ma32vpgHjMMpPJh33HZ/Li6Zh3HdunXT97DPTBjOd2GHGu9bt04GlCypwbblpZfK/J49dTwgADPUElFmMNTGkBXnHTt26LlH6CgJIevll1/Wy9vgcFeMCzXgMbwGew/tXJrgLcfZYe+Fa/Ph89AzsU0X7uOwKUBxxTRgelBg8Rw0AvAc7EUGNBjsLw4/LliwoBZxFGJck/bWW2/VQ45xfhDYZ9vyQQHD+2Fvr70/5h2faZ9hhc0+q1evXvoaW54YbBljizcG3MY4exzPxbie/gJauXLlFJ+Lv7iP6YGEC7V+7g44EGabO404hFuE3J6PPKKXWWjqH9r+/e+yxr9nw31uExHlbLZOnTx5cmBdaevCF154QcelVaMw/oknntDn2zmskQoftt7F6S1p1Z569erpc3DILu4/9dRTgfX8c889p+N+/PFHfQ5qhr0nphXXQUdnhahPCOXo6wF7m21PKebDnr9z585ALXK/v42zz7B5z6iu4jaMGDFC7+O97H0xDxi3dOlSnXfcdn+ufSft2rXT94jU8o41d32a06WLNL3wQj0keXDp0rJ/82Yd/++qVbUnbEjU+SSi6GOopagIDoDYwo0L3SPQu0UymFPaEFAtpO5avlx6FSumYRY9UNY/4wz5whnqn3mm71qCl10m+zdu9H2HQd8jEVGiw7rNXaOwgRWXo8MRPe7QxPoUGynq07Jl0ssJ7zhd5qtrr5Ut48frHu2u336rRx4x1BJRWhhq4wRbi7M6RHOljvfO6DNDPY4heLrQaMC44IALeH6o8ZDWNGAI/gyDxkeo52OwBkyoxzBYwyWtz03rMxORXd4H1whs7ITYBmedJV86jQcbGpx9tl5uYWqzZvq8UJdZIKKcK711ZWaGaAbBUJ+HwdbRmVnPu+F14YyHUO9tQ1qvSau2YAC8LtRjGKxOhnoMQ1qfmYis3iDg/t6ypTRyahT22ha96qpAHxg4z9aWCRGRG0MtRR0KEAYUX7tN8YHzk9BgmN+jhzTNnVv3zqYItU7IxfjhVavq8xhqiSins/pkNYriR/fa+r+DzbNmSZ+CBeVhpzb9+9ZbZbP/nGVwXyKIiAgYaomSiDUE1o4fL02c8IrDjt2h9kt/qJ3avLk+D3t22cgjIqJY0Y0MtkH1+HEp/cwzUtapTzgk+dc6deTk0aP6EJ7D+kREhqGWKImgAYABjYJehQtrgG14zjkabr9wbjc480xp7tzues89sv633/yv8m09JyIiihW7pA862mpQrZr0e/BBaecE264FCsjG33/Xx7SmsT4RkYOhlijJ/OnfAv5znz7y0YUXaodRGHAubd1zz5Vql1+uHUY1ccLtxC++CGwx56HIREQUKzgXGaH19SpVpF+/fjixWH56+21p4dQndHI4uWHDwDnFrE9ExFBLlESsATBt2jQp/K9/yUP33ScT2raVZk89JfWff17mTpokDxcrJs/myyefXnCBXvqn20MPybb58/V1er4Tt4oTEVGUWQdguKxe506d9Db8MXy4tLvhBj0cuVfRorJj0SLfA9xrS5TUGGqJkoQF2nHjxslDTlB94P77ZczYsTquQ4cO8n6dOnp78cKFUtQJuQ8VKCAfOOEWe3Bx2Z/pbdro48Ct4kREFE3uUPvtt99qaD3l78H/8I4dMrxSJe0dufE558jM9u11PLA+ESUnhlqiJGGhFhexL1KkiEyaNEnvo0fkr1q2lNq1agWes2TRInncCbb3O89rXK6cdMmTR9rmzi39nn1Wdq9cqc9Bp1PcKk5ERNGQKtQ69JBk/3hY9P330vKKK6SNE277Fy8ue1at0vGsT0TJh6GWKAmtW7dO/57wb/X+6quv5J133tHbNm7J4sXy2GOPyYOPPiq9OnSQX6tV04ZD80su0UsCGXcDg4iIKBLSCrUKhxr7b+9z6tnAEiUC9WnBd9/peGB9IkoeDLVESQp7ZXHxfnCHWjQarOGwdOlSedIJtgUfeECGjhwpS3r3lmYXXKCHfA1+7TU5sGmTPk8bDk4jg4iIKBLSDbV+7tA6u1OnQH0aUrasHNyyRcezPhElB4ZaoiRkhxmnFWrdf5csWSLPPvOMDOjfX+/vXL5cvn/iCe2ko/W118qSH37Q8cAL4hMRUSRkJtSCuwPDXU596lOsmNanNn/7mywfOlTHA+sTUc7GUEuUAyG0WnBNT3qhFuw9Dhw4oH+tUYDLLExr2VIanXmmtHQaDyOrVZMju3f7HnOeg8eJiIiyKrOh1lgHUQi4vzVtKg1z59b69NNbb8nRPXv0MTyH9YkoZ2KoJcphMhNmTUahFuz9rCGgW8T9t7fMnSvdH3hAL4jfIU8eWT1mjI4HnstEREShoJ7YxlfUHAx232pNeqE2+LX6eud1eh12q0+zZ0u3QoW0PnXMn1/W+Hv7B+61Jcp5GGqJchAr+DNnzpSNGzfq7fS2Smcm1EKo97Ct4qeOH5fxn34qTZyGQzNnGFOnjhw/dEgf415bIiLKCqsd7lCLIJsZtlH15NGjMvbjj6WpU5swjP3oIzlx+LA+xr22RDkLQy1RDmFhdNq0aVKoUCEpU6aMnDx5MiKhNi3Ya2uNjHWTJknnO+7QreJd/vlP2fT77zoe7HwnIiLK2VBzbC8q/oaqQceOHZPNmzfL3LlzZdSoUdK1a1dp3ry51K1bV9566y0pXbq0/Pzzz/rc119/XS9FBzNmzNDaVrNmTfn888+1dvXq1UvGjBkjixcvlu3btwd68HfvjV07YYJ8kz+/tM+dW7rcc49smj7d/wjrE1FOwVBLlAO4A+3DDz8sDz74oIwdOzbNBoXJbqgNdmz/fvnZaWy0cIJtY2eY3KCB/GkNDP9nERFRzmNBNj22ERRB9oEHHpD7779f/6Jm4e99992nt4sVKyaDBg3S51apUkU6d+6st8ePH6+XmsPzsPHW/Vq8F4bvv/9en2v1LxBunb9TPv1Umju1qZEzTHTqU+A83GzUPSLyBoZaogRnjYipU6fKQw89pMPEiRN1nDUg0pKdUGvvvWDBAhk+fLjetnErnAZL+5tu0r223z3yiGxfuFDHOy0MbhUnIspBQtWZTZs2aXB9//33ZeTIkTrOQiYsW7ZM98p26NBBhg4dqqfMrFmzRrZu3Sp79uyRw4cPy/Hjx/W57sOPcfTRwYMHZdeuXfoZK1askClTpkj//v2lTZs2Urt2bd24C/g8m7bZs2ZJ02bN5LcZM2RG797y7S23SGurT4sX63NQm1ifiBIXQy1RArMA+ttvv0nhwoV1K7UF2syE0+yGWhzm9dprr+lW8mHDhun4U/49s4e2b5cfK1fWawY2Oeccmd62rY4H7rUlIspZEEp79OghFSpUCOxxRW1AfYHM1hZjgTQr59Qae37nLl3kYWz0daancLFiUqVMGfkwb149qqjFRRfJ9Pbt9XnAvbZEiYmhlihBWQMBW6WxdxYNiHACLWQn1GKLOwbsqX3yySf1UDBscQcLtrC4f39pdeWV0sZpPPR/7jnZ6zR8gFvFiYgSk63/jxw5ontJg4MsznkdOHCgrFq1KlBn3PBaBE7UGwy4bYO9t9Wi4N6P7bXuwf0+oRw6dEhrFc7NreRMawFnWu91pvXFm2+Wz846S1o59WnA88/LvnXr9Plam5zPIaLEwVBLlICs2CPQYg8tGhITJkzQcfZYZmT3nFprQCxdulSDLfYUDxkyRMedOnkycC7TvvXrZUDJknq4V8tLL5V5PXroeOBWcSIibwsOiwiWcPToUfnXv/6lgRaHGv/00096+HAkWC0KdUmf7Nrg1KTv+/SRitWrS5F//lP+c9llgfq0oFcv/7N89SmtoExE3sJQS5RgrMBap1DhHnLslt1QC/b8JUuWBPbYWrDFY+5DjWd36iRNL7xQD0keXLq0HNq2Tcdr+OVWcSIiT0kv0FmwxbrfLiFn8DobsspqSyRCrXvvrk23mbtwoYwaPVrmOZ/R7IILtD4NK1dODm7d6n+G8/pszgsRRR9DLVECsaI6bty4wCHHWdlDayIRasFeg84/nnjiiVTB1n2o8c6lS6VPsWLS1mk4tL72Wlk2eLCOB14Qn4go/oLDH/ptqFq1qkz3XwonVJ3Aa3R9H6ENlPYZ0dhTm9a07nAC+nePPqr1qeU110jHmjVlrr8jKYjk/BFRZDHUEiUQK6b169fXPbSTJk3S+1kt9JEKtWCB273H1s6xtfcMXD7BmY9pzZtLozPOkJZO42HkG2/I0b17fY+x0UBEFBdY99q6HNArMcKsXTKnX79+Ot79HNx2348UqxvRCLVuf/qnP1CfnNtTmzWTBrlzSyunRlW99lqp9/HHsnLDBn0csAFWD012XoPBNtoSUfww1BIlEAt76HUYe0UhO42JSIZasNci2NoeWwu2Np1a/P3zsWX2bOnuNJRw6Z9v8uaV1b/+quOBe22JiOJj/fr18vnnn2uQxXr8k08+0cvnxFKsQq2bHlXkr0+bZsyQbs6841zbjy+8UF66915p3bGj7D9wQB8PxmBLFF8MtUQJLLtbxyMdasFe7+48Cr1jgnt6bav4n05An/jZZ9LEaTg0dYaxH3wgJ48c0cd0Czj32hIRRRXWsxjQm3GvXr301BYMb731lsydO9f/LN/zYiUeoRYwj1afTh07JmM+/FCanXWW1qdK110nJUqU0FOAVgwdKhM//VSPOtrp38jMYEsUPwy1RAlIi24Eimc0Qi3Ye9ihyK1btw40mtzcDYB1EydKp9tuk/ZOw6HLPffIRv8F9IENBSKi6LF68s0332iP+s8884z8/PPPOg7weCRqTjjiFWqN+2ih1WPGSMdbbtFOpN77y1/k3Ysu0pCL69w2x3DhhdoRIrBeEcUHQy2RR6EBEe2t4tEKtWANoO3bt+vftLi3ih8/cEB+rlFDGwqNnGFKo0aBx+wvERFln7vG2Pp6zZo10r59e9lrfRxg/RynkBbvUAuYf7vs3LH9+2VU9eq617bxGWdIfWdo4NzWwV+zNvk70mKwJYo9hloiD4pVIyKaoRbCmQ/3VvHlw4dLuxtu0B4oexQpItsWLPA9gAYGGwtERNmSmXVzvMKs8UKoNX+ePKl/9zqhv+E558iXTm36Mndu319naHD22brHdoQzrahRvP46Uewx1BJ5jBXthQsXysGDB/V2tPbYRjvUQlgNI9dW8cM7d8qPlSpJK6eh0MRpRMxo107HA/faEhGFz73ndc6cOSn2yNpfPB6tmhMOL4Va3ejqLJPVv/yie2TdgRZD/TPP1MOR+7/4oj7/T9YoophjqCXyECvY06ZN0w6W3n33XR2XyKE2Pe4Glpt7K/eivn3lqyuvlDZoMDz3nOxZtUrH6x5bDzS8iIgSgXtd27t3b71MT926dfW+F0JsMC+FWjtCaPeKFbpXtoETYt3Btv5ZZ0kzZ3ydW26RsTNn6nP1sj+sUUQxw1BL5BFWrKdOnSoPP/yw9jz566+/alGMTaitrbfj0WgIuTcX8+0fv2/DBhlYooQG25aXXSYLevXS8cDDvIiI0mfrWKzfmzRpovXlhRdekOnTp2t9CbkOjjMvhVqwejS4dGk9ggh7Z3E+rf517uPw48/OPVdeyptX+g8Zos/VQ5EZbIligqGWyAPcgfahhx7SYeLEiToumo0NhNr//vd/Gmpr166tt2PRaLAiv2nTJhk7dqzeTutz3aEVvUs2u/BCvW7gkDJl5OCWLTreDg0jIqKUbN164MABPfoH9aVatWqBTvy8GGjBptsroVZrjDMc3bNH+j3/vDT2B1kMX/3tb/LTf/4jzS++WAPvG1ddJV3atg28zgIxEUUPQy1RnFmRRqDFpRRw2LEF2mgX8BMnfJ1ftGrdXv5T8z29ffJk9M8Fsj0DuAYi9hgMHTpUx6c1v9og8IdWXA+wT7Fi2olUm+uuk+XDhul44F5bIqLTbAPiHieIValSRQPtJ598otejBa8GWvBcqHW497qunzRJZn39tSzq00cObdum47YvWiS9/vUvvfTP5+efL13r1BF7BesTUXQx1BLFkRVonENrhxzHKtD++aevMbN+807J/3htubzA6zJzge981VOnovvZaBhgmD9/vl7HFkF+iP9wrfTm2xoF2DM7tVkzvaxCS6fxMPKNN3TruT3mbngQESUjW8+uW7dOypcvr/WlZcuW/ke9HWjBi6FWpVFf3Jefm9SwoTQ/7zxpmTu3fPfKK3Jo1y59DDWM9YkoOhhqieLEHWixhxYNjgkTJui4WAXadZt2SL7Ha0muPOWcoYxcee+/nWC7Uh+LdrC1BtXSpUvDC7auhtiWWbOku/O6dk6w/TpvXlnjP5QZ9JBkIqIkZetYBELsof3666/1PsZ7JdBa8EZNOuWsszHgNk6FwVFD+Fu1alXp0qVLYBweDzzfqVMYb+8TS6gxCLAaZv2f7T6HdsP06dLhzjsD9Wmtv74D6xNR5DHUEsWBNShsD20sDzl2B9pbnnhXcuWrJHcWeUXu/ddLkjtvebm8QNWY7bG1eV2yZIkG20KFCmUu2DqNBtsqfvLoURn/6afSxGk4NHOGMR98ICcOH9bHuFWciJLd8ePHZdKkSXo7HuHPTdfd2neDL5hmxptvvinfffed/1763KE4Xtz16eDevdK3ShW93A+GcR9/rDULWJ+IIouhlijGbCv5+PHjNdC6O4WKVaDFIce3Pfm+BtrWPcdIhw4d5FMnGP7wyxzda3tVwTdkxvzY7LG1ecYe28cff1wDfkbn2Br31u51EybIN7feqlvFuxYoIJtnzPA/4jQePLJXgogo2lBfQoWleAaotEIspmn3voPy+7wV0m/EVGnx7XCp1aCnlKnVTh6vUF8Kv9ZArrrxbvm/As/KI6UbytOVG0nF9ztInaa9pd13P8mQ0TNk4fL1cvCwLyi6Idjantx4cNenNePGSYf8+bU+dbvvPtnkr0+Yf9YnoshgqCWKMQu16CQJeyZtC3qsAi320N76ZG0NtB82663jWrX6SmrUqKW3O/b5RYPtlQX/LbMWxmaPLZYHLF68OKw9toBGgW0VP7Zvn/xSs6a0cBoODZ1hSqNGgcfYSQcR5XRphVlbx8YSPhd7ToOtWLtVug+aIFU+6CC3P/me5L75Vd8pME5NypWvsuTKW15y3VxazsjzslxwZxU569Kb5Zy/PSDn3/G65Pq/l/VUmVx5K/qem8/5m6esnH9bOXnwpU+ldsOeMmzMLNm83dfHgsFiQQ0MtXyiCZ9ntefo3r0y6s03tT41OessmYz65H+M9Yko+xhqiWLMiuquXbtkzpw5ejsee2g/adVPx2ErdqtWreSdd97R29Cl35i47bENFWwz0xBxbxX/Y/hwaXv99dpDMnqiRI+UCg0MbhUnohzIgmufPn20cyiIdYgD1JHgvbKzFq6Wz1oPlDufcerPzU4oRYB1wuvFd1aQIq/Vkzc+6SJte/4kI8fP0Y2py1dvlg1Ovdq977CUr1BRWrdtL7v2HpK1G7fLkpUbdc/uoJ+nS9NOw6Tcu+2lwPMfypl5X3Pet4K+9xl5XpVHSteT9r1+kZXrfD0Tm3iEW3d9Wjx4sHzhvzRdr6JFZefSpTpez8dlfSLKMoZaojiL9hZ0d6C95QnfHloLtHZJH1ynFqEWjh8/oX812Ob1BdtYn2Pr7jyqX79+2gDJ1HJCaPW/x6Ht22VYxYp6aYXG55wjM9u31/HAreJElJPYurNv3756WgtOJ4FY7qENDrPbd+2Xb/r8KgVLfBzYE3verWXlmSpNNMDOXrRG9h3w9X+QnjfeeEO6d+/uv5e2nXsOyPjfF0u9NgOkUMm6TnhGyHXCs/P3uarNnBA8Q44d99U8iHW4xXeBcNukdWspWrCgNLvvPu29v/G558qsb77xP4v1iSirGGqJ4iTTQS0brIGBQ45vfyrlHlo8dvJk6lB76tSpQHi1PbY4FDkewfaxxx6TDz74QMeF0/hwNwoWfv+9tLz8cmnjNB76Fy8ue9es8T2AZR/DBg0RUTRYHZk5c6Y88MAD8vzzz8uWLVt0nRmL0IbPcIdZ7Bl9r3FvufhO3+HEZ+R5TUq+2VIGjJqmwTMYXm8dPNmAgIyejjH51vsxbluPyPY81KO0atLKdVv1vNsHXvpED1FG/bv5XzXlq26jZOfu09OB94kF+57GjRkj9znf0ytly8rkDh2kzdVX++rTiy/KXv8edt2zG4PvjignYagliiIUsVg0KkKxQp3ikOOWpwOtNiT855u6Q62FytPBdmzcDkXGIXTouRPCXo7O8+1Qrn3O+wwsUUIbDi0uvVTmu3rS5FZxIkpUWC9i2LFjhzzzzDO6l3bu3LmBx6LNHQhXrd8mb33eTUMs6s0/itaQ5l2Gaw1yQyhFiMXf9KbR6kBmrlNry0GDbojnzF60Wt7+orucf1t5DdpXFnhdp23/wSP+Z/imK9psfnv36iUPPfig1PnsMzm6fbsMeOEFrU8tr7hCFvbpo88B1ieizGOoJYqSaO+FTY81NNydQrn30FphTS/Uwulge3qPbaw7j8ou6ygKcIhXk/PP10OSh5YrJwe3btXx2nBIp3FFROQ1WI/berJGjRp6rfOBAwfq/bTCX6RYgIRDR45Jo2+Gynm34RDjypL/8Xekx6CJcuSo71QWwHPdtSczwgm1odgeXfdnbty6S75s94NcfKevoynsue09dLL/Ud90RpNvufnmoW7dulL4oYfkO3+Ind6unZ4qg/qEU2dwCg2wPhFlDkMtURRY0Vq1alVYRTgSrCiH6hQquMBnFGrB3i8enUdFak+3uwOOHUuWSO/HHtNOpNpcd50s818+CNydeRAReZmtq9ExFC4N99FHH+n9aNcc9x7NURPmSr5itTQgXvtAdenSf6wcPXY6zKJGZHUPqM1HVkOtmwVcs23nPqcu9pez8vo6rXrm9SayZMVGfcxXd/RmVKCm4TMOHDggJUqUkPsLFZL58+bpY1sXLpSeRYvqpX/Q2eHyYcN0PLA+EaWPoZYowqzoTps2TQ8Fa9q0qd6PRDjLiDvQBncKFRxoITOhFlLssY1x51FpsYZBOAKX93FeO9X5XnDZH3TUgcss4HILgOfE4rsiIsoqW0fNc8IQzqMtjv4CnHVYVtaL4bD1Pa4Li8N5UQ9wiR1cN3bXnoP6GISqN+GKZKg1mCZ3uEVPyqXebKWXCDo7Xxlp2+Mn/yO+eYgW+45mz56tHSK+/PLLss9fg7AB9rcmTaSRU5tw+Z9fatSQY/v362OsT0RpY6gliiAruFOnTpXChQtrsRo9erSOi3YhsgKcVqdQoT4/s6EWUgTbGHcelZ5wG3C6x9a/LDbPnKkXwsdW8fZ588rasWN1PHCrOBF5la33fvjhBylatKhMmTJF70cz0FqNwSkodz1XR3LlryL3vvix/DZ7uY4H1IJI1bpohFqDaXTXrT7DpsgVBapq3UTItQ6tolnbbF7atWunG8B/GDhQ65ON3zR9unS7916tT9/ccousHT9ex4MdeUREpzHUEkWIFaLffvtNDwXD+U0TJ07UcdFsaIA1NtLrFCqUcEItnA62se88yti8HDx4UPeGQ1aWr3XAcfLYMZnwySfS1Gk4YBj38cdy6uhRfYxbxYnI6zZu9B02G611Fd7XDiHuNWSSnIfOlvKWl/eb9A4capxenckqq0XRCLXGfVjy2o079NI/OJQ63+PvyMwF0a1tWF4YcBjy8OHD5fBh3+WNdLzVJ6cWjf3wQ2nmr0/jnVqFmgWsT0QpMdQSRYA70NoeWgu0kS7CwawgZ9QpVCjhhlo4HWxj33kU2PzUq1dPD7sb5j/nKCvL2b03dt2ECfLNrbfqVvFvCxTQreSgDQxuFScij3Cv06MdanT95/8IXP8VYfbiuypL/xFTfSMdVoMizdbp0Qy1xl27vmw3SOfzgtsryuBffHUAj0d7WQdz16c1Y8dKx/z5ffWpYEHZPGuWjmd9IjqNoZYom6zI4pBjHELk3kMbrQJsrDGRmU6hQslKqAX73Hh0HuVrZP1PL1vxxBNP6AaEIUOG6GNZWd54L2s84Lyln99+W89japQ7t/zWtGngMTsfl4go3tzrumgdCYS9mLp+dP5Wq9tF60v+x2vL/KVr9fFoBz2bx1iEWrD5hYGjfpfznVCL69t2/N53ClFmampW+Jbx6ffGbftOMc722h7bt09GVa+u/UA0PuMMmdqsWSDQsj4RMdQSZYsVWBwGiz20CLQTJkzQcdEsvuAOtJnpFCqUrIZasPAaj86jrOAvXbpUnnzyyWwHW3BvFf9j+HBp+/e/aw/J6Ilyx+LFvgfQwPB/NhFRTqVhyhlwzdfy77XXQ3ILv1ZPNm/bo49Hex0Pti6PVagFnWf/vE2b84f89f43nPpWQb7qNlLHxWK+jbuGu+sTeuxvd/31ute217/+pT36A2oT6xMlM4ZaoiyyYGW9HMfrkOPMdgoVSnZCLaQItjHuPMqmc4lT0BFsCxUqlO1gi+VmjYdD27bptWxxzcCm550nszp00PHAreJEFGtYP2H44IMPpE2bNrqey+y6Phy6Hvyvbyj3blvJlb+yPF6hgew/eEQft/oTbbYej2WoNSdP+j5nwbJ1cuMjb2uwbdNjlI6LVm3zLff/yqRJk+Snn3y9MFs7Q+FxV30aUras1qdmF1wgszt10vHA+kTJiqGWKAtQaDAgxCLQomOouB5ynIlOoULJbqiF08E29p1H2bRij+3jjz+uGxaG+q87m53vwQ73goV9+shXV14pbZzGQ39cNmPNGh3PreJEFCsWbmbOnKlHBFWvXl3XcSlCTwSgfliNeeMTHHJcRZ6o2EgOHz2u42IVaMHW4fEItWD1a+nKjXLdg2/pebbdBo7TcZGubVjuGI4ePaq1rEiRIrJnzx4dF/wdu+vTgl69pMVll/nq04svyr5163S81qYw2gJEOQFDLVGYrPicOHFCXnnlFd1DmAidQoUSiVALp4Nt7DuPsoK/ePHiiO2xVfie/e+NhsKAF17QhkOryy/XoGvcDQwiokizYIOhcuXK2kHeqlW+9Wuka46tr79s+4PWl4de/kz2HfD1yos9t7Fk8xavUAu2POYtWat17Yy8ZeXnSfN0XKQDvtWygQMH6oaLb775Ru8Hh1pwb1Tds3q19CteXOsTNsAu6ttXxwPrEyUThlqiLLDwuGLFCu3xGKJdbK2AZrVTqFAiFWrBpi8enUfZNIcKtllZLm7uQ7lmdeyoh3rhkC8cmnxw61Ydj4ZDdj+HiCgUCzXYS4tA+9FHH+n9UGEnO2wd3nf4FN0ricvabN2xV8fFOtCCF0ItWP0a//tiOffWinL5vf+Wpas26bhILhfUEAzYW1vcCamPPvqo7N27NzA+FHd9mvn113qqTCunPg2rWFEO79ih43HIMusTJQOGWqIIiHTjIpg70Ga1U6hQIhlqwYp/PDqPsul2dx7Vv39/HZ/d78e9VXy7E5zROQc6kUJnUst//FHHg7szDyKiSLD1e40aNXS9tmzZMr0fybpj4Wz+0nVy0V1V5JJ7qur5pGD1J9a8EmrB6lePQRP0/Np7in8oBw8f0+UWybxo89e3b1/dW9u7d2+9n953rfXJPxHbFy6UHkWKaCdS7W68Uf4YMULHA+sT5XQMtUTZgEITq0Cb3U6hQol0qIUUwTaOnUcVLVpUypUrJydPntRllJ3lZGyrOBoHuJxCw9y59fI/P//nP3q5BeBeWyKKFFuX/PHHH7qXFufSQiTrDj4D4ezI0eNy93N1dC/tgFG+69BGe52dHi+FWrBlUfPL7pIrfxWpVtfXOVMkQ7/Vqv3798tjjz0mzzzzjO65tfHpCdQn5++URo2kkVObUJ9+qVFDjh84oI+xPlFOxlBLlIFoh9b0WLGMRKdQoUQj1MLpYBu/zqNwaPjOnTv1diSLuO2xhc0zZsi3BQpIe6fh0CF/flkzzteJCLifR0SUFVZ/mjdvrqHWTneJZF2yOuMLa5WlVv0eej+egRa8FmpRR7Csjp84JfeV+Fj32A76ebo+Fslga98terjG3trx48fr/czMu7vubJo+Xbr885+617bTbbfJOn/fH8D6RDkRQy1ROqy4xGPLphXJSHUKFUq0Qi2cDrbx6zwqWrDsbav4yaNHZfwnn0hTp+GAYfzHH8vJY8f0MXbSQURZZeuxgwcPSsGCBeWpp56K6JEnYHVmwvQlup6+85k6cuTYceezU/e6G2teC7Vgh2kv+mODXHBHZbn2geqyc88BXVb2WHbhvfD9rl27Vg83r1Chgv/9M/d9uOvTKac+jfvoI2nm1KYmqE9OrTp13NeTNesT5TQMtURpsOK5ZcsW/RtL1tCIZKdQoUQz1ILNRyDY3vvvmO2xtYZBNLnPUcJeWuytxVbxrk4DdPPMmToe08Ct4kQULl13OAN62h8xYoT8+uuvOj6z4SYjeG/fYccn5NYn35Ez81eQqbOX62O27o4nL4ZasNrVtONQpzZXltc/8l3DPFKhFqx2ffjhh1K/fv1ArbbxmeGuT6ud306HPHm0PnV3gvKW2bN9D+A3xvpEOQRDLVEIVjinTZum57X06tVL70eqMZEed6CNZKdQoUQ71EKKPbYx7jwqLb7GXAQbhv7leHTfPvn57bf1PKaGzjC1adPA53CreHgNMiKKLqs1zToP03NEcfgxxGu9HMyroRbrMSy7EydPyb0vfiy58pSV3+et0McivTEgu+vMFPVp714ZVb26tHRqU4PcuWVq8+aB92d9Yn3KCRhqiYJY0Zw6daoULlxYD/8ZPXq0jov2Ss8KYjQ6hQolFqEWUgTbPOXkihjusU1PJDdSuLeKLx82TFpfd532kNz7scdkx5IlOh5bxJNxq7g2rPzzjb+hfsf43QX/9uy50f6/I/K6tP5vsgp7FfF+W3bslUv+WUWueaC67N53SMdFcr2YHbY+8FqoBavVeth23vLy8MufBZZppEXi+3DXp2WDB8tX116re237FCsmO5Yu1fGsT77fV6jvML36RN7BUEvkYistdMbx0EMPaScNE/2dK0S70FuRjFanUKHEKtTC6WAb+86jjC1DzOOCBQv0dkS/V+f9bYv3wW3bZGj58npN2ybnnSez/BfSB9tynmwOHz7sv0VEmYH1UzRqj9Wb2g17audQX/f6We/beC+wWuTFUAu2rEq+2cKp1xVlxDjfIb2RXIZWsyLyO3DXpy1bZEjZsr76dP75MruTrydnSKb65G5XsT4lPoZaIj93oLU9tBZoo11IrQhGs1OoUGIZasHC67f9fcE2lp1HgTUKvnECJnoSHTZsmN6P9Dy7D+Va0KuXtLjsMmnjNB4Gvvii7FmzRsfrlvMofa9egd8tljk6t8FvDNfZrFixoqxbty7wmH0no0aNkg4d7Nw03/gWLVroNYe3bt2q46P1f0CUTGyP4oYtu+XCOyrKTY+8pZfzwTgv/Y/ZetmrodbOoV2wbL2ckbesFHj+QznlTJ/XlmMwd32a37OnNLvkEq1PP5QqJfvWr9fx+hwPz0Mk2He0e/du+eKLL+TNN9/UdtCRI0cC36E9p0uXLjJ48GC9jdp07NgxvbxW2bJl5fhx7/3vJCuGWiKHFUoccvzwww+n2EMb7SJqgTbanUKFEutQCza/8ew8avbs2fLEE0/ohoshQ4boYxGfb+dz7JAvBNkBL7ygDYfml14qC/0X1Ad3AyOnscD6+eefS48ePXQZ33LLLdqLK+D3h+8DHeFcddVVcuONN+p9DGhY/O1vf5NczjLr1q1b4PkGz8H74S9RTmK/6R07dsjbb7+tG3zA/p+yy9bBdVv2c+pNZencd4zet/FeYetkr4ZasGD7yttfSa68FeXXKb4jgCK9LBcvXizDhw+P3PoO7+P/Pe1ZvVr6Fy+u9anFFVfIor59dTzk5PqEZYlw+sYbb8jkyZP1NupNvXr19HFsjIUNGzbo+JdeeknvAy4ZiHEY0J4A9/+n1SeKLYZaSnq24kGnUNhDi0A7YcIEHRftlZIVvlh0ChVKPEItnD4UOfadR1nhWbp0qe4FjGqwdbgbBTO//lqanneeHvI1rEIFObRtm47PiVvFbTn//vvvuocW8Hv7xz/+Ibfddpvet+W9bNkybRzY8xByYeTIkXLGGWekCLV4TSx+o0TxYr/vMWPGaE2yIxgi8bu3mrJ3/2G5vMDrcs39b8jBw0d1fLTrTbhsfr0caq1Oz1iwUjfSPlmxoY6P1AYIex8sg0KFCgWOWonU+7vr04x27aTJOedIK2dd/GPlynJ4xw4dnxPrk/2OsLG1VatWenvjxo1ynlOfK1WqpPexBxZ++OEHOfPMMwMdhqI+4Ttv1KiR1q158+bpeLwnalSkvhsKH0MtJTVb+SDQYg9tvA45jkWnUKHEK9RCimAb486jbB6XLFmiwRaNhagGW+d3Zh1woNOo3o8+qp10tPn732X5jz/qeHB35pHobDnWqlVLxo4dq/9rOBICjYD33ntPH7NGAw7twng0HgC/S/v9FyhQQC9nAu7GAs5/wmHkPDSZchr7neNSLqhJf/zxh96PRGPZ1q09Bk3UvbSftx6g960eeYmtQ7wcasEO50ZnUbnzlpXlqzcHxmeXzW+/fv20jfLzz75znyPxWzBam/zrz20LF8p3RYpofWp3ww2yYuRIHQ85qT7h+8KyLVeunO6JxfLs1KmT1qHvv/9en2P1CXtyMR4bwsHaTThs+eabb5b1/kO23VCXUJ/sPSg2GGopaWElhhXblClTpIizEkfHUHE95DjKnUKFEs9QC6eDbew7j7L5RKGyQ5GHDh2q46K1DGyrODrimNKokV72B5f/+blGDTm2f3/gsZwQ0GweZs6cKYcOHdLbOJQSjYM5c+bofTu8q3Tp0rpH1hoH9r8JaHSsWuXbi4/Dw7DXFuc/Pfvss/pe2DABkWzkEcWL/e7xe37++ed13WQN40isFxC0MDxQ6hM5K195WbnO9vx5b51j62Gvh1qr572HTdYNBZ9+1V/vR6KG2XoNdQo1qmHDyO4JdrP69KezXp7coIE0ctavzZ3hl1q1clx9AtSfGTNm+O+JLt8LL7xQ9u7dq/exjNFGypMnj54KY789W/a7du3S2oW6BDhdoE2bNnq6zd133y0XXXRRoPOpnLLMvI6hlpISVjAYDh48qI2G++67L8d3ChVKvEMtWOGPR+dR7gZDLA5FBvclEzY7ga/rvffqVvFOt94qa8aN8z/iTFuMv4dowzmyV199tZ5Ti+Vuv3M0LGw8lrn9b8J+pyGFreR2ODL+4ryyuXPnarjFIWE4twmi0cgjijX7HWNPD+qSrZcjURcsuC5bvdlZ15aRJwKHysau5oTD1sFeD7X23eCQ7ovv9HW8hWvYQna/N3v90aNHdeP7yy+/rONsiDR3fdowbZp0LVDAV59uu03WT5rkfyTn1aeVK1fqRlJ0/AS2wXXt2rWSO3duqVChgt7H78/+R3EFhffff19vYxzCMDqTwpEV2IB72WWXRXSDFGWMoZaSljWscegxDo+EaBfMkHto4xRowQuhFmy5xKPzKJtf7PHDBg73ocjR+j7wvrZV/KTTWBnzwQfS1CmoGMbXravjAM9J9GJojQMcEYFGA/ayghX7+fPn6/i33npL71ujAfM9yWlEffnll4HxbgMHDtTXMdRSTmK/83HjxunRQz179tT7kVgv23q2aadhukexx6AJ+n8W7XVsVtk8ez3Ugi3b8u+11+vWTpvjO2TcxmeH1QD0OYD6tH37dr0frXWeuz6dOHxYxtSpI82cdW0TZ5j4+edyyr9nMidc+sc2mLZv73xvzvxhoylYfcKhyBgf3K8D4LSZPn366O3g3yVOsbn44osZamOMoZbIL9qNYitu8eoUKhSvhFqwhlU8Oo+yebZzbLHHFud3Ynw0fxfurd1rJ0yQjvnz61bxrgULyuZZs/yPOAUxgQOb/cZwfiC2eKOXSbDGRPfu3XW8nU+LZW7fR+PGjbVxDzYOr8N3gnPMGGopp7HfeefOnTXU4qgEiMTv22pMoZJ15dxbysvm7Xv0vlf/d2xZJEKoRY3C8h02ZpZT2ysGanskapfNM0IUOrLEKR0Q7e/NXZ9Wjxkj3+TLp/Wp+wMPyBZ/j7/OTCd0fbJl+8ILL8jZZ58d6KMBG2PxfeIyP6gz6MwQsMzt/whtJjtlBuMwoD7hb+3atRlq44ChlpIeVlLRLg4WaOPZKVQoXgq1kCLYxrHzqEceeUT32h44cCBQrKJF39//2Uf37pVRThFt6RTRhk7Qm9qsWeCxRN0qbr+xKlWqaHjdsmWL3rdGA4Irxtt5tvge8P+IZY/GLM5Xci9/+54Yaiknst8xroFZsGDBiPV2a4cYb9iyS87I85p2agRRXLVlm/2vJ0KotXXUrr0H5dz85eSe4h/qMtf1ezYXsn3348eP1w0dae0djAZMu4XbI7t3y4hq1bQ+NTnrLJnWsmUg0CZqfbLv5vbbb5frr78+sEztb8mSJeXcc8/VU2EA4/EaXGLJOjx0/2/a6xhq44OhlpJCPFco7j208ewUKhSvhVo4HWzj13nUokWLAmEpVt+PhVdYPmyYtHUKbFun8dCnWDHZ6e910ZmYhNsqbr+xTz75REMoeowEW9bYM47x1sOrHa6M32Rv//V83b9Ju81QSzkZGsXohMb+f7K7HrJ156Cfp2sNavyN7xSLaK9Ts8P+1xMl1Np39FjZ+nJG3tKycatvXZfdc5Zt3bZ69WrdU2uncMRyneeuT8uGDJHW117rq0+PPy67li/X8ahNiVafbBk++uij2rcD2PeI/71rrrlGLr300sBGWHusZs2a2skU7jPUegdDLeV4tsKJx0rFvYc23p1CheLFUAvW0Ipn51FxgQLpX/4Ht2yRIWXLSmun4dDsggtkdseOOh7cDQyvw/LE7xwNsr/85S/agQZ+YxhatmypW7vRs2TlypV1HJ6LwIrfI36fwd+H/T4Zaiknw+/ZelWNBKtF7zToKbnyVpAJ0329htt4L7L/9UQItXDKP21ftP1BD0HGocgQqZqFgIRr6OMSNHHhqk8HNm+WQa++qvWpubNen92pk46HRKpP9nsaPXq01hP7neFIIXQChfp01lln6Tm3gN6MmzdvrrUL0qpPDLXxwVBLOZqtcPbt26d/Y8kaC17pFCoUr4ZasOUXj86j8LuJZ0hyNwoW9u4tLS67TNo4BXfgiy/KvnXrdLxuEU+QQmm/dewBx94nBNt3331Xf3eA85XKlCmjW78/+ugjbTBYgz74/8R+nwy1RJlnewvvK/GxnJOvrB4mC15ubNv/eqKEWqtZY6Yu1Hpf139EloXdnMJdnxZ89520vPRSrU8DSpaU/Rs36vhErE+//PKLHm6MIIvrq/ft21fHI/CWKlVKQ26dOnW0HwgIVXMYauOLoZZyLFu5/Pbbb9oJwJgxY/R+LBq/7kDrlU6hQvFyqAULr/HoPCo9sfgNuQ/l2rN6tfR97jltOLS84gpZ6D+nChJlq7j7N4/zk3A5LXCPx8Ynu6ZtWnAYGH6j1islAjHu22+ZKNHhf8KGSLD32XfgsFxydyW5/SnfuYBeZ7UoUUKt+7zl3HlKy7NVmuj9SH2PgNrjhQ147vq0e+VK6ffss1qfWl11lSzu77tOLyRKfXIvU5wiYx0Zun9v7vFpfadWnxCKEWpxKTvc98J3lgwYailHshXR1KlTpXDhwnq9P7tsTyQLTCgWaL3WKVQoXg+1kCLYxrjzqFDs+4tVkXJ3wDGrQwdpfO650sppPAyrUEEO79yp47Xh4KHfVVqwzNy/L7sdanxG/yejRo3Sw8J2+pcBEYVmYWvpqk26DsVlZ8BqlVfZOiFRQq2ts46fOCXXP1hdrnMGqxORqvt4HywDr4Qkd32a2a6dNDnnHK1PI6pUkSO7dun4RKlPwcvVfmtpjU/Pp59+KldccYX/HsUKQy3lOLbCwR5a9BSIAde7hGgXAvceWq91ChVKIoRaOB1sY995VCg4PxRi1bBwH8q1fdEi6Vm0qHbS0e7GG+UP/3X1wH0JBq/AMsJvyv3bx+1Q/wtpjXfDJYFwgfuXXnpJ99TWrVtXhg0bJvPmzdPHM3o9kdfh/yWSRx5YXfpl8nytSQ2+Hqz3vX5YrNWiRAm1YBsQirxWT87MU1p27Pb1mpuT10vu+rRt/nzpWbiwXvqn/U03yYpRo3Q8eLU+BdfxtL6rjL5DHGqMQ5gHDBggd911l9anr7/+Wn788UdZs2aNPof1KboYailHsYKHPbQPP/ywXm904sSJOi7axdAaDl7tFCqURAm1YOE1Hp1HgRW+IUOG6G8LwQpiubxsqzgaB1MaNZJGTtFs4Qy/1Kghx+1wXucxrxZOLCsMWd0YgPnCYcetW7eWtm3bSteuXfU2fr9oTEBW35so3uy3i05pXnnllcDlr7L7m7b14zd9Rjt1qaL0Guq7VnQ8NgiGw9atiRRqrR1Q6YMOTp0qI/OX+vpAsPFZZet0bFDFOm+pv0d8L63rrT79efKkTG7QQBo7tam5M4yuVUtO+E8rwXO8Wp/QHsLvK6vTh06kOnTooN8P/ofxm0VtwhDJ601T2hhqKcewYodAi72z6Po+1oHWy51ChZJIoRZsOcer8yh8j7NmzZLHHntMChUqpAEXYrnM9Fwm/+9p4++/S9cCBXSreKfbbpO1EyboeLDzneIF04jzi7CV+tdff021jPB4dhsRRDmJ/Y9gXYwNstu2bdP72Q61/vdFTULPx+OmLdb72Q1a0WbLIxFDbb02A51lXVHGTl2k97O7rO03gL5BihQpohv3wGvLw113Njptsc533631qfMdd8g6f3sMvFCf0H8DluPMmTP9Y0/D8saytbpPiYGhlnIEW7FPmzZNz6FFoEXX9xDJw7hCsWLl9U6hQkm0UAsWXuPReZQ1LLCVHNdXRcMzLsHW+U3ZVvETR47IuA8/lGZOw6GJM4z/5BM55e9xMZ5bxfG5GHCR+rx58+qF7atVq6Y9Sm7atMn/rNOw/PB7zKgRYc8LHuy7IUpU9ht+8803tR8I7PmB7P4PW6it/tm3zjqzvMxbslbvZ/f6qdFm69RECrVWg77u9Yvkyl9ZBv38u97Pbm2y38acOXP0SKGePXvqfS8uD/xeA/XJ+Q2PqVMnUJ8mfPaZ/Pek71rk8axPtjxxhM9VV10lt99+u/bIP3LkSNnlPxfYDcsZQ0bTi+ewPsUPQ22M4R/C/jk4RGbA3iDAHtoHHnhAChYsKOPGjdNxOMch1GsiNdhn45Dj/I/7Au2HzXrruOPHT+jKLNTrvDJg+WAacQkV9NaH2+jdL9RzvTJgGrFsoWMfp+GQp5xces/rgT22J09Gd5lb74cLFy7UC7Yj2NqhyJi2WH7nJ/3fFfzx00/S7uabfVvF77lHNs6YoePhzxhOk3uw/w+E2JudacM5RhhwvVosuy+//FJ+//33kNfjxOspttDwCv4OOcRusHVHlSpVNNRiT5J7fFaHEydO6nu8WqOVHhK7at1WvR/tdWV2B6xrMZ1Vq1aVzp07622v1yer+72HTnJCbSU9XQb3MT7U8zM7YF2K98FhrGjndOzY0fPLA/XJwtwfo0ZJ25tu0vr0rfPb3jR7to5HmxjzEer10R6sPqH/lXPOOSdQn6688kopXry4tGnTRhYsWJAqkGpoZ0j1JIZayhHQMC5atKiuiLBnKJY2bt0ttz75rp6r1LK777y+RNOpUye9PmgiGvzrPLnwrjd0j+2shb4OnGJlx44d8uqrr+qhyEOHDvWPja8Zn30mbc4+W1qcf75Ma97cM51zoAGBw7bPPPPMQOPBBgTeSpUqSf/+/WXr1q3+VxAlJ+yZRD2LtFff+UY3vB71bZdLGLiutV0zNFGM+X255LqtuvQYMs0/JjKwgRBHo3Xr1s0/JrFM//hjaX3WWdLuwgtlfsuW2JLmfyS+1q1bJ/nz509Vn8444wy54447dKP/iBEjZO/evf5XkBcx1MYItgoBDm3AxZ1ffvll/cshewMuiI1eUAsUKKBbtm+99VZtHL/44oshnx/JoUSJEvKKE2iu+mdpbShcme9RKV++vPPZJUI+34sD5uG1116TO++8U4MFbmNcqOd6cXjhhRelYsWKcuPtj+phdeff8oqUeum1kM+N9IDfGL5vND7vvfdeDbb4Pcbrf/vFF17Qz65QoYI8fPnl8oFTkPVc2/vvl7pOIxnjSznPKxGD/w33gGWCZVW6dGl54okntKGQO3dubTzgkjyhQu7dd98trVq1CnktW4o8q0/o3ATfGetT/Ab8v+BQfewtwv8N7od6XrgDvtNrbrxNcl14vTz73HNaN0M9z0uD1aebbrpJ7rnnnoSoT5g+bOh88GGnJv3lBrmzwIN6P7vTjdej87DHH39cLnfW76jZkXjfWA1Wn1AzCzjTf6+zni/kDE8+9JBuxEF90nmJw/y84EwbPh9H+aH+oCZZfUKoddcm3MdGhV69eukeZvIWhtoYsUbZqlWr9Bw87NXBXw7ZGwYNGqTLEiuYfv36yejRo+WHH34I+dxID4MGDXb+DpWqH7bTzjcuv72UfNO5uwwfPtyZhkGpnu/FAcsKh85WrlxZnnMaOriNZRrquV4bsPzx3ffu01duLPSqfgfPV20iQ4f9GPV5wHLCX2y5tT21KI62PO3xmA/4bGca0DHTrAkTZEiZMtLaKcT1nKGuEyjx28Q0Dxo4MKbTOND5PFxXtowzPQi0Z599tjYY3I0FDGjMo2GDc7xnzJgRODyMosvq0+zZs/X7Yn2K/eD+f8SGMuwdwqVBgh/LyuCrVUPkvicqSK5rCku3Hr1SjPfqYOtxBDmcZ4zl4PX6ZLX/o3rNJdffHpXXa3yaYnxWB/sNoNf3fPny6SHq7vEJMeD789cnnCLW4LXXpKqz3v+3M3zy1FNam1CjYlmf8Dmo2/hchFWEVtSn4I2tqFtY7gjlOL97yZIl3NjqQQy1RBFQq34PyZWvsjxRpYWcSMBTARP58OMqdbtJrvxVpET1FnIyyh1FBUNBRKcdCGIbN270j/WW+T17Svu//lXD7djXXxfZ77tuYqyNHTtW9z65GwrnnXee7uXGbw8NHR7aReSs05zAgnP1I630ux21Th0+nliN8UQ8/Hj01GV6+PF3wyJ7+PGGDRs0fPXo0cM/JrEt79ZNOl19tdancf/+t4j/0j+xhuvJoh6569Mll1yiG5gaNWqkG1mt4zbyLobaGMOWHfeJ6hwiM8SrgxNfBwe+c0LeadBTD0O+p/iHsmX7bh2HDjpCvc4rg3WkZR1F4bbXO+JA5yb4vo8cPSbPVW3iLHNfoD3uLGuIdqcT2HuIv3/88YfuoX3++ecDgTZeHV6EGnAurV02Yffq1fL9009LW6dQN7/sMpnf29eZGZyK4vdth2ehkxdrKNx44416GF337t1l2bJl+ribvZYdccRevNajHHyDrT/q1q2rhwejEe0en9XB6lC5d9tKrjxlZdmqTXo/ETqKwl/rKMo9zquDdQjV/Yfx2lHUd4Mnphif1cHqDno/RkdRibI80htsHb9r1Srp8+ST0sapDy0uv1wW9vNdPQKiVZ/wP2X1qWbNmoH6dMstt8jrr7+uRxeF2lBtr+deWm9iqKUcDyufaK6AfBsqfCvn2g19wfbe5z+W7bv26bjsXp8ummylniiX9LFLUBw9dkJefKOFBtpS/2klJ5zGGcTqEhX2e8IhVCtX+npd9moI+5/r+5zZvr00OfdcaeUU72EVK8qh7dt1vAbgCP+PYHlgwKFd2BuLhvqkSZNk3z7f/4WbNdqj+X9KlCiwsRFhJVLskj664TVvhUBP8V6uTWC1KBGvU9vy2xG6V3zk+Ll6P1KX9MEeQ1yysLd/w6TXl0dG7NI/ML1NG2l09tlan4ZXqSKHduzQ8dGqT1h2zZs3l4ceekiaNWump18E98SPz0V9wvNZn7yPoZaSRjRXSHjv4GBb8IWPZdtO3+GUXm08JFKotcCKPbIaaPNXkZecQIv7WP7xvOaiNTi8SvfY+n//O5YskV5Fi2onUu1uvFFWjByp48EdgCMBexfQj0Dw8sFvzBoKRBRdFmobfj1YQ+2IcXP0PkNt5Nkyfb9xb+28cMqs5Xo/u8va1pXoNwQhDOeAgteXR2a469O2BQukZ+HCWp/a/+MfsvKnn3Q8RLo+HT16VFavTn3FBCxTDKxPiYehlnKsUCE2tsG2shQs8bHs2O07h9GLDYhECbUWWI8dP72HtuSbLWO+hzYYil4iFT5rFGDr+OSGDaWR03Bo4Qw/16ghx/zn2uI50fg/4d5YoszB/0gk/0+s9vQeNtlZd1aUb/qM1vsWdr3KalEihlqcEpPr5tdkxVrfJcqyW6OszuCwWITaiRMn6n2vL49wWH3688QJmfTll9LYqU3NneEXp21i9Qm1K1r1CcuY9SmxMdRSjmSNAmyJq127tnz66acpxkcL3tuKV+2G32mwvfdF7+6xTYRQa8X82PGUe2hPB9roLtNo/l7iwc6zhY2//y5d77lHt4p3vv12WT95sv8RZ7lG6HcQ7f85Ikqf1Z3fZi+XXHkrygfN+uh9htrIs3Ud+tY4/7ZycvDwUb2f3XWgzXfr1q011M6cOVPvJ9JG1cxIUZ+mTZMud90l7Z361OXOO2Wdqz65n5cdrE05C0Mt5UjWkMZ1LnEZERSBhg0b6rhob43zfYbv/X3BtpLusfXiObZeD7W2HHGI8QtvNNc9tKXe9B1yDLHaQ5vjGg74//B/zycOH5YxdepIM6fh0MQZxn/6qZzyn1cUrb22RJSxSK2LbT25fvMuOSNvaXm2ShO97/X/7UQLtbY89x04LJfcXUHueOo9vR8JVoNw2PFbb70V6MQop9UmcNen404bbsz77+seW+y5nVivnpw6flwfc5+PSwQMtZRjWYFBsK1WrZp2roBgC7EIthZevdx5lJdDrTXE4tEplBZV/+9j925fT9Y5kTUcYPWvv8o3efPqXttuhQrJljm+8+50WeTAhhOR11hAwXnopUuXDlzGJrvBxdZl2Bj494eqy7UPVPNMDUpPooVaq0lLV22SXHnKSfn32uv9WG18zWmC69PXN9+s9amH05bbOm+e7wHWJ3JhqKUczRoD+/fv18sCYI9tgwYNdJw7uEQD3js42Hqt8yivhlprBMSjUyjf9+ZbBt988408+eSTgUvPRPP3Ei+YJ2s8HHEC/Kg335SWTsOhQe7cMrV588BhyNwqThRdtt5Bj+q4bMvnn3+u9yOxN87Wmc9UaaLneq5ct03vezlwJVqotR6O+wybIrnzV5avuvk64YvkYd74LUTi95AotN77lx/q0wjnt4D61OjMM2Vaq1aBmsz6RMBQSzmerfQOHDige2yDD0WOZoHAZ6QMtt7qPMqLodYaWfHoFMp+E4BGFBqWxYsX1z0n7sdyIvc5tMuGDJHW116r17Xt8/jjsmu5rwdPbBHnVnGi6LBahaOLChcuLBUqVND7Nj47LHA16zzMCVxVZNDP0/V+di81E02JFmr/9K8b3/zsW+1l+vd5K/R+pOp8Tq9B6XHvtV0ycKC0vuYarU/fP/mk7PZfVo/1iRhqKSlYIQwOtoAiEYlGQ1p8hcj3/l7rPMprodYKdjw6hXI3GLp27aqHq5coUUI2bdqk46L5G/EMZx6t8XBw82YZUqaMfOU0HJpecIHM7tRJx4O7gUFEkWPrmddee02KFCkihw8f1vvZXf9YeJ00Y6kGrrc+76r3vXDEUFoSKdTa94Nan//xmnLRHRXlwKHIdBJFfs5ytI2v+zdulEGvvCKtnfrU7KKLZK5Tsw3rU/JiqKWkYYUFW8FRJBFs69evHxgfzcKD904ZbL3ReZSXQq0tn3h0CuX7fk4HWuyhLVmypGzYsEHHRTNMe5G7UTC/Z09pfskl2nj4oVQp2W/LBM+J4v8MUTKydU29evWkUKFCgetoZncdZPXt0JFjcsndleQfRd/WjYUYH83alx2JFGqtPi1fvVly5Skjxf/dTO9Hom7Z97Njxw5Zt25d0tWjYO76hDCLUIv6NPCll+SAfyM061NyYqilpGIFEefYujuPOnHiRNQLBQqThVevdB7llVBrhT9enULZd4+GE34TyRxoDQ7jsq3ie1atkn7PPittnIZDq6uukkXff6/jwX3YMhFlj61/0UkUNryOHz9e70diPWTr0VdqtJZcecvJ3CVr9X4016/ZkUih1vaEt/vuZz0aq1PfMXo/Eod323ffpEkT/U1EakNHInMfarzrjz+k3zPPaH366uqrZcmAAToeuNc2uTDUUtKxQoBDkVEsce5Sly5ddFy0i0SoYBvPzqO8EGqtQRXvTqHskGMEWjvkOJkbDcbdAceMtm2l8Tnn6CHJP1aqJId37tTxaDhgWRJR9tg6Z+7cuXL//ffrdUkhEutlqy8DRk7T2vPZV77Gv1fPq02kUGvrvwdKfSJn5S0razft0PuRrF/oERuHpONoM+A6N2V9mu78rzQ880xp5dSnkVWrypFdu3Q861PyYKilpGQrOOyxbdasmaxd69tiHYsVHz4jZbCNX+dR8Q61VvDj0SmUW6hDjr3aeIoH91bx7QsXyndOwwqddLS94QZZMWKEjgfutSXKHqtBCC4FCxaUl156SYNuJGqTvcee/YfkL3dUlJuLvi0nnUCL8ZF4/0hLlFBrdWrZqs1yRr4y8q8yX+j9SNQv28ixywlo9913nx5hBtzgeprWJv/vF5f66fnww3rpn3b/+Ies/OknHQ+sTzkfQy0lrXgWcXy2Fbx4dh4Vz1BrRTkenUIB3h/z361bt0CgzckXtI8E2yqOxsGUhg31YvgtnGF0rVpywr/3AM/xYgOZKNF88MEH8v777+vpMRCJ/yurLZU+6KAdRo2dukjf14t7axMl1Noy/bRVf63lvYZO0vuRPPR46tSpeiRRJ3+HfaxRqVl9+vPkSZn4xRdan5o7w5j33pMThw7pY6xPORtDLSU1rNxsiDV8ZspgG/vOo+IVam2+49EpFNg84hA/Btrw2B5b2OA0tLrec49uFe94222ybpKvMQfu5xFReKJVl6yuTJm1TENtqTdb6v1or3OzIhFCrX1P6IDrugfflMvuqSz7DkSmx2qweoTD0FGrZs2apfdZp0Jz1531U6ZIl7vu0vrU6c47Zf3kyf5HWJ9yKoZaojhC0bNGRjw6j4pHqLXGUzw6hXLDssf89+vXT69DC2woZA6WnW0VP3n0qIypU0eaOQ2HJs4wsV49OXX8uD7GreJE2RON/x/9/3XWs/c+/4Gcla+8/LFmS2CclyRCqLUa3XPQRN1L+37jXno/UrUb3wvmGYeh43zaI0eOBMZTaPpb9tenE4cPy+jatXWPLfbcan3yH/nA+pTzMNQSpQMrvGiv9PD+wcE2Vp1HxTrUWqMpHp1CZYSBNnzuc5RWjR4tHfLk0a3i3QoVki2zZ/sfcX7jXLZEWYZ1UyTXT1ZT+o2YqvWm+qed9X40a01WeD3UWs3CBtnbnnxXzrmlvKzZuF0fi8SytO98/fr1upcWh6IDa1XmpKhPv/wiX998s/YF0ePBB2Xr3Lk6Xtt4XJ45BkMtUSZFM9ymDrax6TwqlqHWAmu8O4UKFukGY7LRRoH/N3Nkzx4ZWa2atHQaDo3OPFOmtWyJJ+hjtuWciOJL/2edAf0Z5CtWU87JX15Wrd+m4+K5YTGY10Ot1eXvf/xNNw5U+aCD3o9UvbZ57dmzp16l4ccff9TvyEvLwOvc9emoU5+GV6mivSM3Pvts7S3ZsD7lDAy1RCEg5Jw8eVJatGghn3/+uY6zhkC0uBsUseo8Klah1kJjvDqFiub3Rj7u6wEuHTxY2vztb7pVvFexYrJz2TIdjy3i3CpOlHlYN+K6pPPmzdP7kVqXnQ5kUzSQVXjva70frQ2oWeHlUIuvAfX68JHjkudfteS82ypEfMOAfddr1qzR+UcPyMB6Fj73XtslAwdKm2uu0frU56mn9Dq3wPqU+BhqiYKgYGA4evSoVKhQQS923rBhQ3+xisylFdLi+wzf+8ei86hYhFqbn3h1CmWi+b2Rn7OMrVFwYPNmGVy6tLR2Gg7N//IXmetvlAK3ihOlz9ZXx48fl2LFisnTTz+tG1oxPhLrMl+t+a9e0genu+TOW16mzfU17r0SbL0cam0ZNes8THLlr6xHWIGXNgpQEFd92r9pkwx6+WWtTy0uvljm9+ih48G9gZYSC0MtUQjWaDhw4IBeFw5d6SPYQiyCrRXGaHceFe1Qa4E1Hp1CYTna94SGIUTze6PT3I2CeU5jofkll2jjYUDJkrLffx1gbVzw+yBKk62Lv/zyS7n//vtlzpw5ug6L1JEtVksmTF8iufKUl0Il62rIxXgvrCu9Gmqtbq3dtEMuvquyXF2omuzed8j/3URuudl3gO8b8836FRnu+jS3a1dpdtFF0sapT4NeeUX2+euT7tnl8k44DLVEabCGw/79+6Vq1aq6x7Z+/fo6DsUlmgUG7x0cbKPReVQ0Q60V93h0CuVbfr75+Prrr/WSPZs3b/Z/bmSWHaXPfSjXnlWr5PtnntGGQ+urr9bDvwy3ihOFZuuw+fPna0dBn376qd6P5DrMakmlOu11j2OLLsP1vheuW2vz77VQa8vsuapNtDb3HDxR70eqLruxXkWHuz7h8OPvn3xSD0f+6q9/laU//KDjgfUpsTDUEqXDgqvtsUWwbdCgQSAcRbPg+IKZ7/2j1XlUtEKtBdZ4dArlDq5du3bVxuAzTqBat24dQ20cuA81ntG2rTQ55xztqOPHSpXk8I4dOh5bxe1/jYhOs3XWyy+/rPVn9+7dOj5S6zG8P4Yduw/ItQ9Wl/NuryDzl67Tx6IR0sLhxVBrYb9zvzEaaJ+u3EjvR3pZ2fdC0WX1Cf9P6DgKHUihPg1//XU5vHOn7zHWp4TBUEuUASui7mAby0ORLQBGo/OoaIRaa2zFo1Mo3/LyvT8CLQ4bL1GihGzatEnHsTDFh24V9y/7bfPnS8/ChXWrePubbpIVo0bpeHB35kFEp9fHAwYM0PVZr152HdTI/a9YjRk2ZqbkyltB7in+oXaAhPHxXGXaPHol1Fq9XfTHBvnLnVXkigL/lnWbdqSo05Fg68oPP/xQDz3H6TMYx/oVHe76hEv94JI/uDQdLgG0evRoHQ+sT97HUEuUCbbCO3jwoBZYOxTZCk00iw3eO2WwjVznUZEOtTad8egUyrecTgda7KHFYccb7ByZKIZpyhzbKv7nyZMyuUEDaeQ0HHBR/F9q1ZLjBw7oYzjcK5r/T0SJxP4X9u3bJ48++qgedRKNkGN1pEa97rretsvTxPMwZC+FWtQPLO8Dh47K3c99qOF/wKip+lgk99La5/zxxx96HjU6q8Q8s35Fn9WnU87/16Qvv5TGTm1q5gy/vvuunDh0SB9jffI2hlqiTLJiinNs3Z1HWcGJ5ooO722FM5KdR0Uy1FpgjVenUFb00fjBd8NA603urd0bpk6VznfdpVvFO99xh6yfMsX/iPOd8jsjUrb+ateunW5QHTx4sN6P5HrNagyOsHn45c+c9XdFad19pD4Wr2BrtSjeodaWDf6+WrO1Hn30XuPv9LFILxv7TnEpQWyYnTFjht5nDYsNd31CPerk1CWtT3ffrfXKsD55E0MtURissOBQZBRaXBC9tf8C3tEuOqGCbXY7j4pUqHXvoY1np1B2yDECrR1yzMaA9+hvwv/bO3H4sIypU0e3iDdxholOY+7PEyf0MXbSQeRbh+F/Bp3dFSlSRJo0aRIYH0m2nl63eYdc/9BbkitPWRn08+86Lh7B1guhFsvd5v2Dpn2cultZnq7cWE459RbLC49Hin3P2BiLjRdlypTRGh3Jz6CMYXlbfTp+8KCMrl1bjyjCkUWTvvhCTrE+eRZDLVGYrMAg2H7yyScyc+ZMvR+L8ITPThlss9d5VCRCrTWE4tEpFNj3gUYPtmyXKlVKNm7cqONi3QCi8Li3iq/65Rf5+v/+T7eK45ymLXPm+B8hIsC6bv369VGtNVZDps9bIRfcUUnOvaWC/DplgY6LdbD1Qqi1edbr0earKHc+W0d27T2o4yK/UcH3fthLi42zEyZM0PuxaFtQau76hL4f0AcE6lPPhx/WviHIexhqibLAglQ84LMtKGa386jshlortvHoFArw/hjce2gt0LIhkBj09+z/HR7ZvVtGVqsmLZ2GQ8Mzz5QpjRvLn/7zB4koNizIDR87S87MV04uurOKTPh9sY6LZbCNZ6jFOsfmtW2Pn/Qc2puKvi1rNmzXcVk5Mio9Vq9Wr16tG2fLlSun84rxXP/FkbPsbY/skV27ZETVqto7cqOzz5bfW7b0nWuL5/A78gSGWqIswkrMhljDZ6YMtlnrPCo7odY+Px6dQoE1ArA1G4dq8ZDjxObeKr500CBpedll0vr669loIHJxr9twO1rrOgt06AwpV54yutf254nzdBwei8X/Y7xCrW+5+uavaadhGmhxOPbiFb4+GiIdaAGfiXmrXbu2htqp/vM3o/X9Unjchxov6tdPWlx6qTR0wu2+tWt1HM+x9QaGWqIEhUaFFdesdh6V1VBrBT8enUIZa1QdPXpUOnToIKtWrdL7bAQkMIRX/+9v98qVsmvZMr3NBgNR2qIVMC3YDvp5upyVr7yckbe0fDdkoo7DR0Z7PR+PUOuumx82/96pbRXlxkfejnqgheXLl2uPx2+88Ybex/cai40HlEmu+rTrjz9k5U8/6W1+R97BUEsUJb6tvdFtjGNlGhxsw+k8Kiuh1hoy8egUKiMMtDmDe68tEaWE9SzW3X379pX27dvruGit+yzY/jRxrlx6z+uSK095qd9+kI6DaIQ8E+tQa/O6d/8hebVmG6eeVpZ/Fv8oaoccu+E7PXnypO6hXbNmjY5jPfMmd31ioPUWhlqiGIjmig/vnTLYZr7zqHBDrQXWeHUKFQrmPxYbECi29IL4/E6JUrD13YkTJ+Tll1/WQ1Xn+DtVi3awnbdkreQt9o7WGJxq4q4x0ahxsQq1qFu27OYsWiN3PVdHcuWvLM9VbSZ79vmuTxrNQEuJB7WJG1+9h6GWKMIsYPXr10/q16+v41Dwo1H0ja+h43v/cDqPCifUWtGPV6dQ0Vx+RESJwta1S5cu1VD7yiuvyPHjx3V8tNaTVkO27tgrz1drpjXmH0VryujJvp6RIdLBL9qhFsvKAjt83esXOTtfWcmVt7xevseWczQDLT7DXTuD7xNR5jHUEkWYr1Ce0kL88MMPS8OGDf2hM7q9GPo+wx1sM+48KrOh1t43Xp1C2XKL5vIjIkoUFnzatGmjHeW1a9dO70djT6axGoLPbvD1IMl1cxm9lm2NL7sH9mhiHR2pEBitUItpdIfZZas2y7NVmmjNvKJAVRkwcpqO99XU6AVM1jOiyGKoJYowK1S4jm21atX0UjMIthCLYGsNisx0HpWZUGuBNR6dQmF+WPiJiFLCehH1BB3lvfrqq1KoUCGZMWOGPhbNYOuuYROnL5G7nq3j1ITKcmORt6XX0Ek6HqwWZWf9HelQa9NkDhw6qucHn5XXCef5KkqJ6i1k7Ubf+bMIvdmZ9oxYWMZ84ZJ0qMX4vGh+JlFOx1BLFAVWmBBsq1atqlvSGzRooOOiXbjw3sHBNq3OozIKte49tLHuFMo3H75pQWcob775pi7PaC8/IqJEYOvHJUuW6GHIzz//vK4jIdp7GK2OHD5yTOq1+UHO9AfDIq/V006l3BAQs1IrIhFqrU656x420HYdOF7+r2hNDeTXPfim9Bk2xf9oyhoZDfbdzJ49W3s7fvrpp+Xw4cOsbUTZxFBLFCVWnGyPLYJtLA9FThlsQ3celV6otUZIPDqFsmUEaMxgbzcK/5YtW1I8RkSUzGxd+N133+l68u2335YjR47o+GjWGHCHv+Wrt0iZ2u0kV55yek5q0TJfyLAxszTQGqtLma0dWQ21vhqRMsjC7n2HpEPv0ZLnXwizleTcW8pJ3Zb9Zffeg/o4XhPNugb2fe3atUs3QmBjxMKFC3Uc6xpR9jDUEkWRFeDgYAsovNFsdFhhh7Q6j0or1FpxjUenUL7p9r0/DstCQ61EiRKyefNmHRfNZUZElEjc68uaNWtKyZIlZffu3To+FutKfIY7PE6ZtczXkVSesk7NqSi3PfmetPx2hKzdtMP/jNO0Bmm98U1r8PRmJtTa69zvFWz2otXyToOecnmBKloHz8jzqrz9RXdZtW6b/xm+aYk2TCe+K8xDjRo1tLb17t1bH4tmTSVKFgy1RFFmhfrgwYNanBFs0SuyFWN7PBp8RdT3/qE6jzp+/IT+dYfak/7gGo9OoXzTezrQYis2GmkbNtiF7zPeSk9ElEyshqDGHDp0usOmWEJdcNeG+UvXyb/rdpEL76igQTLXza9KsXL19bDfpas2+Z+VGt4D4RQD6hPCJk7h6dy5i2/ciROBx9Oaxz+dGoLLDzX+ZqgUKvmJP2BXkmsfqC6ftR4gq/3XnQW8f6yWldW21q1bazvg888/1/sMtESRwVBLFAMWxvbv35+i8ygUMwzRLKp4b9sKHarzKHy0hVrcxvTEq1MoK+52yLE70LLwExFlzOqJrVOjWV+Coda468T2Xful/Xe/yIMvfeaEyzJ6/Vf0mnz7k+9JzS97SN/hv8miPzbIoSPH/K9I7T//+Y/06dPHfy8lfBYOK/593grp3G+slHu3vdxQ+C3fYdC6V/YV3XM8YNQ02X/wiP9Vqacz2qx+DRgwQDfWli9fnufREkUYQy1RjFhRw6HI2GOLy/00btxYx0U7sKFoBgdbdB61ZftuHde8eQs9dA2OHjse106h7JBjBNpNm3xb9BloiYjSl15ASmt8tKBeWM0xS1ZukrY9f5InKzWSi+6s5NQh7MV1/uYpK+ffVk57Un7xjebyn3rd5PPWA6RNj5HSfdBkeaTYM1Kp+nvS9YeJ0qLLMPmo+ffy77qd5anKjfT82Nw3vyq58vpCLMLsNfdX0/N7ew+dLFt2+E63MbEOs2D1a/LkyVrbihcvztNpiKKAoZYohqyA4TCxWrVqyYgRI/R+LEIbPjtlsK0s9xT/UA4eOSHffPONvPfe+4Ja/1xVXK8vdp1CgS0X7KHFVuxSpUrJxo0bdRwPOSYiyjxbn+JQ5A4dOgTWpfHYOIhJcXcWZXbvOyi/zV4uX3UbKWWdAFrg+Q/l0n/69uKio6lceZ3Ai+GWapLr4ryS668P+m4HHnP+3vyaBtjCr34u1T7pLN1/mKCHHeNIIzcL2PEKkPa5a9eu1bo/b948vc+NtUSRxVBLFGPxLGQorhZQrfOoJ19vKR9/+oXUrFlLKn/cLaadQoG9v3sPbTwbYUREiczWmxMmTNBzN8uUKaOdR0G81qlWe3AubFobSXHd2I1bd8ucxWvk1ykLpN+I36T3j1OlyGPP6p7aPj9Okx9+miYTpi/RQ5a37dwnR44e9786pYw+KxawrNMK0vEK2EQ5GUMtURxYQYtHYbPGBdSq30OD7YV5n5PL8j+ngRZ7aGPRKRRYAwt7rNH4wh5aHnJMRJQ9WH9iwFE42FhYqVIlvYyMPRZvqEPYe4oh1J5cN1ym6Pvvv/ffSw3vhQBr7xePuhos1DLGdNlARJHHUEsUJ/EsbPhsFH/QYIvDufJV0l6OT/obGLHYwm3LYPv27dKgQQM9PAsYaImIss4dntq0aaPBFntst23zXcbGa6d12PSi7mBAfTpx4qSG1ddfP937McbhMXuezaOX2LJdsWKFnDzp20DsxekkymkYaok8yLayRxOKrAXbV95sKIWeezsmnUJlhIGWiCj7sC63MNWxY0cNtrjm96pVq3Sc14OWhcP0rlPrJb7a6atf48eP16OPmjRpovdZ14iij6GWyOOi2fDAVmS8PzoT+eCDD3TcqVO+c2ljyRoDXm9kERElEnfQ6tGjh9x///3yxBNPaE+87se8KJFCrbt+9evXTwoVKiSPPPKIjBs3Tscx1BJFH0MtkYdY4Zs4caK0aNFCb6NQRivsWYBt2bKV1KqF69Ri7613t4QTEVF43OF11KhRGmw//vhjvR+t2hIJiRJqbdli2lq3bh24bM+SJUt0PAMtUWww1BJ5iDUwcM1YXMe2UaNGgQZJNBofFmq/+uoreeedd/R2tBoNmH4vN6CIiHIyW7cvWLBALysHtk62OuMliRBqbfnhXOW33npLDzmuXLmybNmyRcd7bXqJcjKGWiIPseC3d+9eqVatmm7xbdiwoT4WjWAbq1Ab6ekmIqLwZbQujtYG1KzweqjFcsIwZcoUefbZZ7Ve16tXT44cOaKPcw8tUWwx1BJ5jDUoDhw4IFWrVtUtv+gZGKyIRkq0Qy2m1Qp7u3bttOAfO3aMxZ6IKE7cwdXWxevXr9dDk40X1tFeDLXu+mu369atq4d041xawxpHFHsMtUQeZMUSwRZ7bBFsscfWQqK7sGZHNEOtTSugQYKt2E8//bTs3r1bH4vUPBARUdbY+v7999/XOlO/fn3ZuXOnjnOvw+PBa6E2eFlYDduzZ48sXLhQb0eyPhNReBhqiTzKindwsIVIhcJohVp3Y6hr164aaEuWLCmbN2/WcSz6RETxZ7Vk+fLlUr16dV1Xo3fkn376yf+M+AU1r4RafGZm5j+eGwCIiKGWyNOskKJTDxR225JuDZHsNjSiEWoxTe5A+8ADD2ig3bBhg45j4Sci8g6rI1g34xDawoULa7hFh4VLly7Vx+Ih3qEWy8Ndr3B5HpwStHr1ar1vj7lrHhHFD0MtkcdZEd+/f3+qzqOyG2wjHWrdxd0OOWagJSLyNqybrZZgfY3rluM80fvuu0+aNGki27dvz3a9CVe8Qq27jgEuzYP6iA20uP7smDFjdDzrGZG3MNQSJQArnjgUGQUel/v54osvUhXfcEUy1GJa7LVogNge2k2bNuk4NgCIiLwruJ5MmzZNSpcurUFuxYoVOs4et+diwO1oiFeoNTgk+5NPPtH5R8BH0F+5cqU+Fq15JqKsY6glShBWRA8dOqRFvmPHjoFGRVZFMtTadLgD7caNG3VcLBsiRESUde66cvToUb2ubUayW4tCiXaoRU0NFU7nzp0rn332me6lRi3DIccI+IaBlsibGGqJEog1GiyMZlekQq1NFxoedsgx99ASESUu97rbgpz93bJlizRu3Fhmz56d4nm4jRoSifV+NEItpt+mMZjNGz4PR0PhdB9cg9bgdZGYLyKKDoZaogQT3LjIjkiEWivy6GAEHVmVKlUqsIeWDQAiosRlIdDY7ZEjR+r6Hofl4hBlrP9tQ2akRCLU2vTb4BY8zm6jcyx3mIXg1xKR9zDUEiWgSARaiESotWlZtmyZ1K5dWy/iD2wEEBHlPFjnHz58WGbMmKGH6SLY4ggdHK775ptvyuDBg7WzKdSX4FqFuoAag78Y0qtlkQi1wTBNqFXdu3fXI4r69Omj40PVK0xbRtNIRN7BUEuUw4RTiCN1+HGwUA0EIiLKeXbs2KFBFofrFixYUPfg4u/atWv18YzqgdUs1B53/XGH2s6dO+tzTp48GXieDenVOzyG66OPHTtWrxpQvHhxDeE4V/aRRx4JhGX3NOK2+z4RJQaGWqIcLKNgG8lQi8+ygYiIci6s50OFPxyCPGDAAA2QCKDgrgk//PCDDBkyRObNmyc7d+5MNzxaLUJHTb1799bbmWGft2fPHilTpozuQcaeZITZp59+Wvcu47I8eBxYs4hyBoZaohwGh1Z16tTJfy/9gh2tPbVERJQcEExtj2koVoNOnDghjz/+uHbChIB577336v0KFSrIp59+Ku3bt9c9vvY+VouqV68uH330kcycOVPGjRsno0ePloEDB+pe1tatW8u7776rQRXwWfZ5CNXYy4vTYhCKFy9erL05uzHQEuUcDLVEOYQ1BNA4KFy4sDRq1EgLNsanVbjDDbV4r7QaLkRElNysRoSqExiHTph++uknadOmjbz11lvy0ksvSZEiRXRvKsLus88+G3it1SeE0rx58wbCMA4dxoC9r/iL68iWL18+8PyM2PQx0BLlLAy1RDkECjSG3bt367lNKPg4BAzSKuDhhFo2AIiIKNIOHjyo573iKCMMxmoRwm/ZsmW1UyfsccXeXJwjO2fOHFm1apVs3bpVjhw5kmaNQv2zPcmsY0Q5F0MtUQ5iBfvAgQN6HhI67GjQoIGOw2PBBT0zoRavQWMAOnTooId8WQOBiIgos9wBM6MaYrUItaxv3756m4goLQy1RDmMO9hijy2CLfbYWqh1B9uMQq070Hbt2lX3/qL3SGxZD34vIiKicFgdsZDrDrpWi6z3Y9zHebnuUGwDaxERMdQS5UDWGAgOtuAOo+mFWmtogAVaXNcPh4kBGxFERBQt7lAbqevUElHOxVBLlENZ6MReVTQKEGzr168fCKv4m1aoDQ606IwDgRYX1Ad7jIiIKBoYaokoHAy1RDmYNQD279+fqvMosOsIukMtgq6FVjQkbA8tAy0REcUKQy0RhYOhliiHsxCKYGudR+GafgivofbUWtBFI8L20OKC+sBAS0REscBQS0ThYKglSgJ2KPKhQ4ekUqVKei1b63ADEGpr1aqlt8EdaDdu3Kjj2JggIqJYYaglonAw1BIlCdvLevToUf0L7sOPLdR27NgxcMgx99ASEVE8MNQSUTgYaomSiO2xNXb4cYsWLXTv7bBhw/Tw5FKlSgX20DLQEhFRrDHUElE4GGqJkgyCrYVbC7UtW7aUunXrysKFC6VKlSrcQ0tERHHFUEtE4WCoJUpioTqKskYDAy0REcULQy0RhYOhliiJBYdaBFk0GhhoiYgonhhqiSgcDLVESSzUnlobR0REFC8MtUQUDoZaoiSW3uHHRERE8cJQS0ThYKglSmIMtURE5EUMtUQUDoZaoiTGUEtERF7EUEtE4WCoJUpiDLVERORFDLVEFA6GWqIkxlBLRERexFBLROFgqCVKYgy1RETkRQy1RBQOhlqiJMZQS0REXsRQS0ThYKglSmIMtURE5EUMtUQUDoZaoiTGUEtERF7EUEtE4WCoJUpiDLVERORFDLVEFA6GWqIkxlBLRERexFBLROFgqCVKYgy1RETkRQy1RBQOhlqiJMZQS0REXsRQS0ThYKglSmIMtURE5EUMtUQUDoZaoiTGUEtERF7EUEtE4WCoJUpiDLVERORFDLVEFA6GWqIkxlBLRERexFBLROFgqCVKYgy1RETkRQy1RBQOhlqiJMZQS0REXsRQS0ThYKglSmIMtURE5EUMtUQUDoZaoiTGUEtERF7EUEtE4WCoJUpiDLVERORFDLVEFA6GWqIkxlBLRERexFBLROFgqCVKYgy1RETkRQy1RBQOhlqiJMZQS0REXsRQS0ThYKglSmIMtURE5EUMtUQUDoZaoiTGUEtERF7EUEtE4WCoJUpiDLVERORFDLVEFA6GWqIkxlBLRERexFBLROFgqCVKYgy1RETkRQy1RBQOhlqiJMZQS0REXsRQS0ThYKglSmIMtURE5EUMtUQUDoZaoiTGUEtERF7EUEtE4WCoJUpiDLVERORFDLVEFA6GWqIkxlBLRERexFBLROFgqCVKYgy1RETkRQy1RBQOhlqiJMZQS0REXsRQS0ThYKglSmIMtURE5EUMtUQUDoZaoiTGUEtERF7EUEtE4WCoJUpiDLVERORFDLVEFA6GWqIkxlBLRERexFBLROFgqCVKYgy1RETkRQy1RBQOhlqiJMZQS0REXsRQS0ThYKglSmIMtURE5EUMtUQUDoZaoiTGUEtERF7EUEtE4WCoJUpiDLVERORFDLVEFA6GWqIkxlBLRERexFBLROFgqCVKYgy1RETkRQy1RBQOhlqiJMZQS0REXsRQS0ThYKglSmIMtURE5EUMtUQUDoZaoiTGUEtERF7EUEtE4WCoJUpiDLVERORFDLVEFA6GWqIkxlBLRERexFBLROFgqCVKYgy1RETkRQy1RBQOhlqiJMZQS0REXsRQS0ThYKglSmIMtURE5EUMtUQUDoZaoiTGUEtERF7EUEtE4WCoJUpiDLVERORFDLVEFA6GWqIkxlBLRERexFBLROFgqCVKYgy1RETkRQy1RBQOhlqiJMZQS0REXsRQS0ThYKglSmIMtURE5EUMtUQUDoZaoiTGUEtERF7EUEtE4WCoJUpiDLVERORFDLVEFA6GWqIkxlBLRERexFBLROFgqCVKYgy1RETkRQy1RBQOhlqiJMZQS0REXsRQS0ThYKglSmIMtURE5EUMtUQUDoZaoiTGUEtERF7EUEtE4WCoJUpiDLVERORFDLVEFA6GWqIkxlBLRERexFBLROFgqCVKYgy1RETkRQy1RBQOhlqiJMZQS0REXsRQS0ThYKglSmIMtURE5EUMtUQUDoZaoiTGUEtERF7EUEtE4WCoJUpiDLVERORFDLVEFA6GWqIkxlBLRERexFBLROFgqCVKYgy1RETkRQy1RBQOhlqiJMZQS0REXsRQS0ThYKglSmIMtURE5EUMtUQUDoZaoiRmobZ169ZSu3Ztvc1GAxERxZvVomrVqknXrl31NusTEaWFoZYoiVmobdGihbz99tt6m40GIiKKN6tFlStXls6dO+tt1iciSgtDLVESs1DbpUsXqVevnt5mo4GIiOLNalGdOnWkb9++epv1iYjSwlBLRHL8+HE5evSo/x4REZE3HDlyRGsUEVF6GGqJiIiIiIgoYTHUEpH873//04GIiMhLWJuIKDMYaomIiIiIiChhMdQSERERERFRwmKoJSIiIiIiooTFUEtEREREREQJi6GWiIiIiIiIEhZDLRERERERESUshloiIiIiIiJKWAy1RERERERElLAYaomIiIiIiChhMdQSERERERFRwmKoJSIiIiIiooTFUEtEREREREQJi6GWiIiIiIiIEhZDLRERERERESUshloiIiIiIiJKWAy1RERERERElLAYaomIiIiIiChhMdQSERERERFRwmKoJaKks31sJ2nWrJkO/Rf4R3redhnTqZOM2ea/axb0l2YDFvrvkA+WVSJ9tz4LB8R3muP9+ZGg/9tJ8/8Q4ne+bYx08q/buF4gomTCUEtESQcN305jt/vvga9xmHKcx6CxGqKRunBAiKAbZwhH8V2WiRhqF0r/TmOcKc8mDTX9nXcLV4Q+P66cecjSvCcwfN+hvjdu7CKiJMNQS0RJJ2uhFg3m4AAZalx0YJpThzRvBBGE2Gau5ZBuqLU9SVFtcAeF2ph8ZjY5ISRLGwKC5y2DUBv8XQW4P1/fw3sbSzKS+v86LVnZ6JH6f133CjvLPjPvo89N8fvD+znfRbb/fzEvob9PhloiSiYMtUSUdBIv1CZWw5V7asOHZRaR6c0g1KYlxecnZKgN5zvPyu8je//rqUNt5IQM8wy1RJRkGGqJKOmkF2p9e7J8Q+A5aCD6x/kGp3E7OcQ4NHgtVKR4TXBj2L+XxgZrfOprXfcNxofYo5MqCNnrdUj5mRY0tXEd/LlBdBm4P8//vu7P0vex5+i8ng5S9lnGPtP3+tPL2scCRspl4n69SmfewP29NevUX/qnCC2hPzPwfGfIOOCkN302D6enwx5PsbxtSPVd4r39yy/Esk71ffinJeTy1Ne7Q61/utP4rnxcnw/6HqmX8Wkpl0Wq7yPo/yX4ewg8FrwcUnzHmflO3ILmQQVNJ37vQZ9x+nPS+U2E+v/H/KZaTqHmL/X72v+dfq9B/4Mpfsfu905zmTrwWPD/cqhxREQ5GEMtESWdtEJtisaiNiIzaOinOc55L1eD0hdsTr8XGq7uz98+tn/gPdy3TerphQyCiN5P+ZmYv5ThJ2jaTdBrsSw6DcBwep5SzEPQskrvMVvWp+fHln3wvLi+iwzmTZevOyAFvz7oM/H8VKEgxTQG84WjtN7v9DyECBtByyVk0MDz0lq2+t5OSHefO51i/oOmJb3HINS8Bn1+quUdJPg87pTLH8vK/bgzDQN8j+nz3P8XzueOSes71vcJWp7pSTHfPimXIz7f/rdSv3eGv4lQyyRoXHrzF+q7Dx6n91P8jhc6r8e9tJepwnQEbyAI/k6JiHI4hloiSjpofKZo6KORGNz4D25IZqJRq0KNS9GIDvVZ6cHzg9/PEdRoTd1o9n2ONdQzejyllI1+X4hxxqUVXIICAD7LN38p38cneP5DLw/39KY/7Wl/xulxoT/jtFDvcVrK0OaXYp59759yGkNMd9ByMnie+7NTfB5+T857uENXyvAUNG/6+/N9RsbT7RP8+aF/w+lwPz+d16b+Hk8L9VjI6U8LPjfFc9P7ztP/vn2CnhNqvoLGhTt/Kcals9zSfQxSzbsjaP1ARJTTMdQSUdJBYzllYzdUAxiNWldDMhONWhWyARoqeDgNWmcI3eh2c6YjRMPeHXLs/YMb6Wg02/unblSHfo05/Vo8DyEIf/3zpdPvCkYhQ+1Cff/UoSRoWaS673M60ISezsD0BU+LCn5N6s/Q9/d/BzZkvCzc3L+PdObBvcyxnEIuj6Dpd8+T8xp9X1dISTk9QZ9tr9XvJMQ8BX1XaX9+8G84JUxDyuV3+vmnl23we/iCoj6Wmd9iyO82DXhu8LLV1/s+L+V3ExRY/dL9TYRaJqnGpTV//uWV3riQv43T0l6mjlDz7vq9EBElA4ZaIko6aCCmbOSGCiXu0OLIVKPWEWpcuo12NFTTabg7jdOU0wXBQcTVmA4a7LWpG9VpTJOfNqLRUHY1mDEOz9fH3O8VFJQCgWfAmBDLNXhZh1r27s/IYN70szNa3ik/Q987xWtChxwf32tTBQT/d+d7Teh58L2vfU467xM8zjU9WJa+z3DG6ffgfk8I+uzAb8p5ztjgAOsI+q5Cfr6+R/AyPc33/Qa9R4jn+5ZziHnWefBPo77Gdz/V8gv53aZBpyFoXk1gmdjjp5evyfA3EWoe01xOwfPnjEn1/5dynO/z05h+l5DLFNPBUEtESY6hloiSDhqGKRvQoUIJGqauBmtmG7VhNX7B99lphaPTocYlRCMWz0sVClxSN6rdnxuCTrPTyHYax4H39TeUU31WUFDSz7LpSzXvwfMYatmnHJf+vKUOKKnnLaP3C/Uep2mQCBUaAvMcah4cOu/OsrAh+D0cqX+LPr5pxN5u92c4y3GB/3vRcRD02f7PtHnR78L9vQd9VyE/P9V35ha8bB3pPV8fc0/vae7vIdV0OkIu9zQF/b+m4p7u1N93hr+JUPOY7nJK+Z6h5i/FuAzeK4XgZer/v0wh1DgiohyMoZaIkk6WQm2IhnDIcdrgdL+X771PN85x39UgdTdm/a893RjF+6cOBJkOIttw8K5P6kZ1iHCSAh7vpB0UpWjYO9PeP/gc3xCh1j19KT87eFkHLx/f/KXYa5aZeUv1eve8pfzM4LCU+vnBfN/z6WkOvh88Tz76vukGC98yTjFfRkMJlvXp6cR89nfGhfoeA5+tyyqN3xek+K7S+PxQy9sl+Lek9+35eK3rMfeyTtnBVND/jn5mOvczQZdPiu88reWQ+vvK+DeR1v/66XlKb/6C3x9SLkffNKV4zoIxGS5TSDnffgy1RJRkGGqJKOmgUZgygKRu5Poape5Gqr8x6TRU3Y3dVOP8DV2EQRufoqG6baEs1MNC/Y85Q3AYCgjZME0jiIA/CJz+XKdRH2hwO/dTvJdvnoPnw904ThFWlL/hHRy0Mwi1vmVpnx+8rP330btyYNpDzF8683Z6uvyD8zkpG/rBn+mfHv9g5/+mtyxSv8Y9f8Hvb1K+xobA+2KegoJOgM2v+zvT5ZzBZ+vrUn4/vvnxL1P3d5XW59tnBw82LUGP+y7H5Hv/7c7tMfq7scG+S/zug943xe/Rkep9/eMzy/3/si2D/zP/sjw9Pv3fBKT1v565+XO9v3+Zp/6f9I8LvAfWUwvTWaaA9w36fwT3siAiSgIMtUSUdNA4TR1AIiRFQzd7UgYzP7x/WkEoIaUVCBNf6nDvcIXKqP4OMyHen595oTcO2HB6HtIIeDlZWuGVoZaIkgxDLRElnVR7XCIpYqE2dAM9cYJIZuXUUIvvL8TvIBBqMd+R2fiRNfH+/OjQ/+2kCXMhvkP33m6GWiJKIgy1RESRFME9tckhp4baUPOVU+eViIgovhhqiYiIoiL1YbMRPzKAiIiIGGqJiIiIiIgocTHUEhERERERUcJiqCUiIiIiIqKExVBLRERERERECYuhloiIiIiIiBIWQy0RERERERElLIZaIiIiIiIiSlgMtURERERERJSwGGqJiIiIiIgoYTHUEhERERERUcJiqCUiIiIiIqKExVBLRERERERECYuhloiIiIiIiBIWQy0RERERERElLIZaIiIiIiIiSlgMtURERERERJSwGGqJiIiIiIgoYTHUEhERERERUcJiqCUiIiIiIqKExVBLRERERERECYuhloiIiIiIiBIWQy0RERERERElLIZaIiIiIiIiSlgMtURERERERJSwGGqJiIiIiIgoYTHUEhERERERUYIS+X+hv89gUuDh3AAAAABJRU5ErkJggg==)"
      ],
      "metadata": {
        "id": "x9pd9RBboTwh"
      }
    },
    {
      "cell_type": "markdown",
      "source": [
        "- Lasso는 |b|를 이용하여 마름모 형태의 제약조건이 생깁니다. 이 문제가 제약조건과 만나는 지점이 해가 됩니다. 그래서 L1 Regularization에서는 몇 개의 축에서 \\betaβ값을 0으로 보냅니다. 이는 저번 차시에서 coefficient를 비교하면서 확인해 보았습니다.\n",
        "\n",
        "- 이와 다르게 L2 regularization은 \\beta^2β \n",
        "2\n",
        " 이므로 원의 형태로 나타나게 됩니다. 그러므로 0에 가지는 않고 0에 가깝게 감을 확인할 수 있습니다. 또한 제곱이 들어가 있기 때문에 절댓값으로 L1 Norm을 쓰는 Lasso보다는 수렴이 빠르다는 장점이 있습니다. 이는 이전의 같은 문제에서 iteration을 제약조건으로 주며 실험해보겠습니다."
      ],
      "metadata": {
        "id": "MAU2rZGapcM7"
      }
    },
    {
      "cell_type": "code",
      "source": [
        "# L1\n",
        "\n",
        "from sklearn.datasets import load_wine\n",
        "import pandas as pd\n",
        "import numpy as np\n",
        "from sklearn.model_selection import train_test_split\n",
        "from sklearn.metrics import mean_absolute_error, mean_squared_error\n",
        "\n",
        "wine = load_wine()\n",
        "wine_df = pd.DataFrame(data=wine.data, columns=wine.feature_names)\n",
        "target_df = pd.DataFrame(data=wine.target, columns=['Y'])\n",
        "X_train, X_test, y_train, y_test = train_test_split(wine_df, target_df, test_size= 0.3, random_state=101)"
      ],
      "metadata": {
        "id": "1L4LLY7qp5xT"
      },
      "execution_count": null,
      "outputs": []
    },
    {
      "cell_type": "code",
      "source": [
        "# L1 regularization으로 iteration 횟수를 5회 적용\n",
        "from sklearn.linear_model import Lasso\n",
        "\n",
        "L1 = Lasso(alpha=0.05, max_iter=5)\n",
        "L1.fit(X_train, y_train)\n",
        "pred = L1.predict(X_test)\n",
        "\n",
        "print(\"result of Lasso\")\n",
        "print('Mean Absolute Error:', mean_absolute_error(y_test, pred))\n",
        "print('Mean Squared Error:', mean_squared_error(y_test, pred))\n",
        "print('Mean Root Squared Error:', np.sqrt(mean_squared_error(y_test, pred)))\n",
        "\n",
        "print(\"\\n\\n coefficient of Lasso\")\n",
        "print(L1.coef_)"
      ],
      "metadata": {
        "colab": {
          "base_uri": "https://localhost:8080/"
        },
        "id": "3J3HUUt6qOGA",
        "outputId": "a0b3d5e1-8b2b-41ef-cd72-e147a438ef45"
      },
      "execution_count": null,
      "outputs": [
        {
          "output_type": "stream",
          "name": "stdout",
          "text": [
            "result of Lasso\n",
            "Mean Absolute Error: 0.24845768841769433\n",
            "Mean Squared Error: 0.10262989110341268\n",
            "Mean Root Squared Error: 0.32035900346862844\n",
            "\n",
            "\n",
            " coefficient of Lasso\n",
            "[-0.          0.         -0.          0.03295564  0.00109495  0.\n",
            " -0.4027847   0.          0.          0.06023131 -0.         -0.12001119\n",
            " -0.00078971]\n"
          ]
        },
        {
          "output_type": "stream",
          "name": "stderr",
          "text": [
            "/usr/local/lib/python3.7/dist-packages/sklearn/linear_model/_coordinate_descent.py:648: ConvergenceWarning: Objective did not converge. You might want to increase the number of iterations, check the scale of the features or consider increasing regularisation. Duality gap: 3.924e+00, tolerance: 7.480e-03\n",
            "  coef_, l1_reg, l2_reg, X, y, max_iter, tol, rng, random, positive\n"
          ]
        }
      ]
    },
    {
      "cell_type": "code",
      "source": [
        "# L2 regularization으로 iteration 횟수를 5회 적용\n",
        "\n",
        "from sklearn.linear_model import Ridge\n",
        "\n",
        "L2 = Ridge(alpha=0.05, max_iter=5)\n",
        "L2.fit(X_train, y_train)\n",
        "pred = L2.predict(X_test)\n",
        "\n",
        "print(\"result of Ridge\")\n",
        "print('Mean Absolute Error:', mean_absolute_error(y_test, pred))\n",
        "print('Mean Squared Error:', mean_squared_error(y_test, pred))\n",
        "print('Mean Root Squared Error:', np.sqrt(mean_squared_error(y_test, pred)))\n",
        "\n",
        "print(\"\\n\\n coefficient of Ridge\")\n",
        "print(L2.coef_)"
      ],
      "metadata": {
        "colab": {
          "base_uri": "https://localhost:8080/"
        },
        "id": "OWUX77tuqkGk",
        "outputId": "2e6940cf-f5ca-4732-efaf-2945e999ae86"
      },
      "execution_count": null,
      "outputs": [
        {
          "output_type": "stream",
          "name": "stdout",
          "text": [
            "result of Ridge\n",
            "Mean Absolute Error: 0.251146695993643\n",
            "Mean Squared Error: 0.10568076460795564\n",
            "Mean Root Squared Error: 0.3250857803841251\n",
            "\n",
            "\n",
            " coefficient of Ridge\n",
            "[[-8.12456257e-02  4.35541496e-02 -1.21661565e-01  3.65979773e-02\n",
            "  -3.94014013e-04  1.39168707e-01 -4.50691113e-01 -4.87216747e-01\n",
            "   9.54111059e-02  5.37077039e-02 -1.28602933e-01 -2.89832790e-01\n",
            "  -5.73136185e-04]]\n"
          ]
        }
      ]
    },
    {
      "cell_type": "markdown",
      "source": [
        "- L2 Regularization의 문제는 Linear Regression과 같은 값이 나오지만, L1 Regularization에서는 앞 step과 같은 값을 확인할 수는 없었습니다.\n",
        "\n",
        "- 심지어 수렴하지 않았다는 경고가 나온다.\n",
        "\n",
        "### 정리\n",
        "\n",
        "- L1 Regularization은 가중치가 적은 벡터에 해당하는 계수를 0으로 보내면서 차원 축소와 비슷한 역할을 하는 것이 특징\n",
        "\n",
        "- L2 Regularization은 0이 아닌 0에 가깝게 보내지만 제곱 텀이 있기 때문에 L1 Regularization보다는 수렴 속도가 빠르다는 장점"
      ],
      "metadata": {
        "id": "4Sx9PulmrJvr"
      }
    },
    {
      "cell_type": "markdown",
      "source": [
        "# 26-5. Extra : Lp norm\n",
        "\n",
        "1. vector norm\n",
        "- L1 / L2 Regularization에서 배운 Norm은 벡터에서 사용한 Norm으로 아래와 같이 정의\n",
        "\n",
        "![벡터.PNG](data:image/png;base64,iVBORw0KGgoAAAANSUhEUgAAAMcAAABHCAYAAACztVMeAAAAAXNSR0IArs4c6QAAAARnQU1BAACxjwv8YQUAAAAJcEhZcwAAEnQAABJ0Ad5mH3gAAAlRSURBVHhe7Z3/SyPpHcf7Z+RHf/IX0R+CyLHdg6JbDrciWQjdinuyRLweqd3eJiw11raKRf2hnsGtSb2uYquyoNSyoZYVhF0QFC5toJdLW/ayrTkLsgqWQN3NLrLvPs/Mk687k0wmM5mJ/bxgWJ8Yxzgzr+f5fJ7nM7PfAEEQipAcBKECyUEQKpAcNiS+6ML7Lc3wPIhga34J66sz8LpDiJ6LNxB1geSwKakVFxw31pC6kNvRyWZ4t07lBlEXSA6b8mJjCI6pmGgxOabYSLJBctQTksOmkBzWQ3LYFJLDekgOm0JyWA/JYUNSj2fgu94KR9cwph/HEF2dgMfZjDb3KMKPj8S7CLMhOQhCBZKDIFQgOQhCBZKDIFQgOQhrOU4ilRFf2wySgzCNdGIN4e3y08/xxRCiokTGbpAc9eQkAm9TMxzZzdkNd69L08YLEXM/p7gNY/tM/B6LST+Zgee2H74bldZmElheyK/l2A2So86kHg7lL+iWCezpqbTNpJE+TGB3Yw6BG+25/fWv2msNpOLCZWIJwT2bxlQMkqPeXBxha7A1d0G3DW7mKm/1kk5sYpwvGl4NIV7jvv76xZe49h0XPvR8H/fDnyF4PwTvJ358/ucY3r59K96ljUpyxBfnYGM39Mpxiq2pTbwQrSzRqRlExdfVo7xPRGcQ1L9Ty0ltsfCitNT8bAeBXJjUCu+GAT2+kM73KC1e0M/n0b/glucjvDiRP3fy+T+l9vN/HUptXCSxfrfy/SXl5WD7WDiA7MYpdke60cGOh2+KjSZTIYTHhtA/Eqm546gFksNEMuyze6Zi4gIohn+vR4wejqZuhBPiG7VwfoDpwTWkRFMvXI57oz/Dq1evpDb/l7d/t/5Qakscs/zpevmRqqwcyTUsFw0b7PzfZu9/mO0oMuznO9Ezq3z86gHJYRbnTzHuLJdT8JPfLeRgWxc7dkbc6XeeRqbG3rZUDs6n8wvSVggvjuxZULe6nByp1VBJSCXLUXSu2bl3NLFjaJEdJIdJpFZu4tp8heGAhyc3sqNHM65NZsMMaymV4+XLl/D/+Cf4/R8iUjtHho1ULeqzZOpysL97/mnJ36ogx/EmPE1D2DoW7TpDcpjBRQLhqy6sJ0W7HEeb8BbmHza4FbY050j8/R9S++ujf0vtPBns/bxVdZZMVQ4WUoWflHYDCnLss5GjhV1TFuUdJIcZsM/c1jKHuGhWIr3tR1s2vGphPaXFM7JcjiHvHYQ+eyCFUnzU+DLxN/HdYvhnd/Qq5zlqcqRWSkMqjixHYc6xN9ZaNmwzG/PkONnBeK8LPU75pLe9x5I3cQDki+AK3L1LBReQ2XKcYtvbDodzFLsmL5ZJD0e4swPt80Yl+UfBgxWMgj/RxH39ipCwHT6+cs2ObfZ3dnS5MC5Ws5VyDlXYKOBu8mO34I9NR9nIMCvfg+JwDmB8dg67YqJLOaTiyNdGYH5Nmq2avjsA3/wB0pd6toqFDR528HM9CO9VFef2zZYjieUudrJYz7ydjWEzMazf8cNXxRZ8ohAmlMCfFFJ4F58mzmMI8s8nLtYelVmu2mASTnbCcZWdJ2nn/ILsRnC/WOOq5EjvINDUqX227XANy++EVBxZDjtFCXUJq3hy6mhhvctZGrv3hlXCBrPlYFxkkDH+iitBPslqszRlYb1wv5CDT+8G5SvYWPgsGstxpHAlEXpnqpmvZXxyL4Bvdn6AX/36N/jveaUpNCY1+7xaz9G7s1RZ/k/lkBJU1iu2OdvhzcWUpdRBjrpQgxyM1MZQQf6hs7ykAnKO046O6+x8Kex/6ber8I+M4fz8pXilHLIcgW0tQeQR1heUQqo0oquj6GfSdtyawHq09oVMI6hbQp7Zn8H7bPid3lfrDUkOGZYb5cpLRG5gOEfY6mP7v61cuvLHPz3GL4P38fr1a/FKOaqQ4ySCLasWLXRQJzn4zMMAPH28/ke5t9IkB0/yu3ih3TCCi+z1+TmMD97E+COd0zum5By1ysGQ4niDykqUYOGbp29ACuHys0N6qS6saiTqIkfmyQQ8K8l8vKtYEqBBDk52YSh7TtkFHrzK4vOYhh6J5Rxp0zsu3hGwXrnahDyHPHNlTkLO4AuPfXK4JueCBRMUeqg2IW8gzJcjfYBpPlqI4VuOd5Uu5mrkKP49fD7dMaYUyxaiMFtlEtVP5ebhOUeHAZW6aqRWh/KjRTYXHIzkjvth6mt8t/82vjfgwdnZf8SrZVCYyr0smCdHbAnuXrnSkq/8+h7xMOMUu3fE/QfSOocLy7kOVr8c0gPQWPz8zs8WUb91Dv6Zq1kEzJLaHoXbHULc8CScV7264H5P5DJOvubEiIVyN1HxdQ73yI50DL9KPsdHP/iRJjmkRcCKx74xqVtCXpkaRo5J1vvpDmNMQKo50lg+IpCqdI0qPqwRXqL+8Q/vapCjfPlIo9OgchTkHFIeY1DJt4HEF7orFx5m4fVVTuvLRrJolqNC4WGj06ByjCK8wl6fn0Hg1jDC+2ZMd9ZIxZJ1gbQybtyC37PtCJ7VuCutclQqWW90LkVYZVfK3ewkIcSY1lCSoglequON6JoIKESTHPxmpz7ja8DshH45ZvMzHFmis9UnoXmU94noHIKF6UQDycFRvE2WI93W2m7cWsZhBIGuZowr1i1ph5eP/HTiF7jyrW9Ld/69efNGfKcAjbfJNjo65bCIdAzrIzel0gfP2BpsUmWgAwPXMjJH2Fv0w81nnXi5iTHRGcFoLDkuCfzxPG3uJcRP0kifVbOd4ln0AHt7EazPsnzLnS1BlzdbzdhdAkiOOlNUWGjo1onwF+KXEIZActSTTBLbLC8Lm7Lt1PzUEaIYkoMgVCA5CEIFkoMgVCA5LOTZYjfa+jb15wrHTxFcoRkqsyA5LOTFIz/cYzpK2xOb8PYNwzfYWcN9I0QlSI4GpvT/KieMheRoYEgOcyE5rOJkBwHp5iP9dWIkh7mQHFYiPfBOyHHCkmuFBzoUb0uIF9ROkRzmQnJYSY0VxiSHuZAcVkJy2BqSw0oK5aCwynaQHFZCI4etITms4nAHYenGrW74HsSqWwjkPzs7Ax//H2RbXPBNztnm+bKXCZKDIFQgOQhCBZKDIFQgOQhCBZKDIFQgOQhCBZKDIFQgOQhCBZKDIFQgOQhCBZKDIFQgOQhCBZKDIFQgOQhCEeB/g6x7CCJbeucAAAAASUVORK5CYII=)\n"
      ],
      "metadata": {
        "id": "nRyjdUv6r-21"
      }
    },
    {
      "cell_type": "code",
      "source": [
        "# p의 값과 x의 형태를 바꾸어가며 실험해보기\n",
        "\n",
        "x = np.array([1,10,1,5,1])\n",
        "p=5\n",
        "\n",
        "norm_x = np.linalg.norm(x, ord=p)\n",
        "making_norm = (sum(x**p)**(1/p))\n",
        "print(\"result of numpy package norm function : %0.5f \"%norm_x) \n",
        "print(\"result of making norm : %0.5f \"%making_norm)\n",
        "\n",
        "# result of numpy package norm function : 10.00008 \n",
        "# result of making norm : 10.00008 \n",
        "\n",
        "# result of numpy package norm function : 10.06179 \n",
        "# result of making norm : 10.06179 "
      ],
      "metadata": {
        "colab": {
          "base_uri": "https://localhost:8080/"
        },
        "id": "Sdz1l1bEslKM",
        "outputId": "1dae7027-9a49-435e-d848-980e4fdb6c43"
      },
      "execution_count": null,
      "outputs": [
        {
          "output_type": "stream",
          "name": "stdout",
          "text": [
            "result of numpy package norm function : 10.06179 \n",
            "result of making norm : 10.06179 \n"
          ]
        }
      ]
    },
    {
      "cell_type": "code",
      "source": [
        "# p=∞ 인 Infinity norm의 경우는 가장 큰 숫자를 출력합니다.\n",
        "norm_x=np.linalg.norm(x, ord=np.inf)\n",
        "print(\"result of infinite norm : %0.5f \"%norm_x)"
      ],
      "metadata": {
        "colab": {
          "base_uri": "https://localhost:8080/"
        },
        "id": "77INaRgDtFDa",
        "outputId": "0791d48b-9b02-41bb-aeee-171e09751f50"
      },
      "execution_count": null,
      "outputs": [
        {
          "output_type": "stream",
          "name": "stdout",
          "text": [
            "result of infinite norm : 10.00000 \n"
          ]
        }
      ]
    },
    {
      "cell_type": "markdown",
      "source": [
        "2. matrix norm\n",
        "\n",
        "행렬의 norm의 경우는 벡터와 조금 다르며, 주로 p=1, inftyp=1,∞ 인 경우만 알면 됩니다.\n",
        "\n",
        "현재 AA는 mm X nn 행렬입니다.\n",
        "\n",
        "p=1인 경우에는 컬럼의 합이 가장 큰 값이 출력되고, p=\\inftyp=∞인 경우에는 로우의 합이 가장 큰 값이 출력됩니다.\n",
        "\n",
        "![matrix norm.PNG](data:image/png;base64,iVBORw0KGgoAAAANSUhEUgAAANUAAACeCAYAAACl308sAAAAAXNSR0IArs4c6QAAAARnQU1BAACxjwv8YQUAAAAJcEhZcwAAEnQAABJ0Ad5mH3gAABUHSURBVHhe7Z3NSxtd+8d/f4ZLV24kWYiPlHJ3UwsPihSFgJQUKREpBBGqFGopqBRMeECUggmFWxGqFBQCFQK3EKgQ0EUgi4YsbsnCkIVYoTALYRaB7+86kzNxMs4kk+TE1+sDQ5s3kzlzPnNd52XO/B8YhlEKS8UwimGpGEYxLBXDKIalYhjFsFQMoxiWimEUw1IxjGJYKoZRDEvFMIphqRhGMSwVwyiGpWIak91A4IkPXW82kErEsLYSxezwKNYyF8htRRFZWUJ4eA7Jknz/I4elYrxR2EagewjxfOWh/nMJXb1TSEiRit8n4F/JVh48clgqxhtnewh1R5GRD5GJUuTaw7l8eL47ha5llkrAUjHeYKk8w1Ix3mCpPMNSMd5gqTzDUjGNOT1AZGYU/u4hzH4+QCazjcXX/ejqHb16HPCha3AakW9ZaPJjjxWWimEUw1IxjGJYKoZRDEvFMIphqRhGMSwVwyiGpWKILNZ6e9DVLbfepwi8HPW0jfRZPue4PUf8l/yaRwJLxRjoR1G8qIowjp2CfKEZyjq0swIyP7axOPkUfvn3/AvH0OVbHgMsFSPRkVkeklLRNhhF5lK+1Cpnx4iLQeLuaST/yOceAYqkukBi+WrKSpVMFGvVeS3tk1m2TJMxOdvD2u6FfMC0RTmP+KAZrXowspxtP8KUNUPWF1/kNSNuKK4r13Gpox3g9qUqi3ye0o1T+bgOLNUNUNpDuNq+8mE+qWDSUbmExOQS0vUMZanstCEVvUfk3oGtxkk8S3UzFHenqu0h64WIbaFr0Mvy/06wVHZalyqz7KscvJfbKMrn3GCpbgod6U/yuIjtzR6K9YRQAUtlp0WpRA4/Nof5N+LgNU4BWaob5JLScmv7akVB+6oeLJWdFqX6FUOQGrAi3RAHLvitfp7BUt0w+RhGzGjVPUTHsoNasVR2WpMqtz5eGRgkMULiwI3VTwHvn1RZbL4cxTOj4U+//fcx4u8mEHo5hIHepwh/zUPT8kgsTCEoBlKfPEXw08G1VEs7imE2MG68JzA4hOC7Dfpb8kWBWO2o+j09GJg5oGNBkcYUom8IgQ/iueapbV8tId1uN7sb9rpSvkDmyzSCtN/GIPPgOOa/HkNrOQ19FFKJ7luqaEYh0eeNFJAaxWfGi440JRUdlNTyNnLyYX1KSH2ew+xME9v3Bl3EFopbo7RvomJftU20H9P0nA/+Ydons4PtX5KDKm9tj1sWcTFroXe1ui/F7xTZHcaRKgO4z6sRRVyNO7LcTkUkjJ67q/aVf7JD7St7XcnGMCC+z1yhSfwOqiP2bv6Tr0Pwv6LfJB8bqzoNbuBEPr7iMUglUgvL5dfFb+PGQQvViTrepKIz/+QEVfwpqmAO778FjEvNu0drZylQ2Yj9nf1RK5CILvYy0ApZpPOW52Rkv97dLTsYBmPIifbq6+vitcTlIRYt3ezh3Q4s8HctUmkoZo5xYonIlXKcQ8qy2+c/5hCg6G4+pf2zhMC7fQd5HoFUxa3x2tdOtxEUB82y7oGdpiKVUfHuklS23yKlqi0fZ6kEWuEQO5+mKRUaR+jNqHEWdzwB/TnAPAkw0DeKyJG6NpBOv/eqfdXiNKZ6ONUVIVZqG4tvKe0NTFHaLGZn1M9m3HnwUhWwMzaEUNiaUk0hYEzOdC+0xymVjszKKPy9U9j5Jc/HMlK5RXWRAhnlqDSg6MitmNOYfAisK17kxV5XRO/jMKXHk5TCyylOlXJkqZylKlBUclh5x0wBa1OiKzonVWfbVG1JRe8THQU1ZWKVStdrB1XLdMJ6NYHQWCXqK23/UEq5+V9F05fs2OpKZfyyds6gVSr9kn7Bb4rKYjlqs2xFh82giGZOx/2BS3Ut9TMxlhamyhDed1yR5zFGqspnJ2qjTulKqvPdaM2Zu7g1gcWfVOHEiUu0fxIOZdMioidw4EY6Kqg+iY4rSweEoBqBzyz1zSgLS9n+3kf40UklzqRjtkpShRrXf4n0wnlW82OR6sW6JQrKsaLQd1lgcoKq+KyQKrf+EUmzMU/t0pClIubW6X2UNiZbSpdqMdpUKmauu2GrK8Zvt6aw2rEcjBZSUT15Lzsjrh1nUYZOx/1BSnWB1AfLRW19Q1hMWmQwxlqGjAa4eN3/RFwE9xEpS+/P/ZOqMk5V2Wcfng2P0j5njXIw7qJh7ueHA+SSHxEYltcgiXGllxvVLnRjnGrwqfH5YGAa8aMLnHybMDojZv/Oo2T9bHc/4kZmnUVcfkfl79WWZTPoYpB+mD6vtI1mw34CluNUYuxOdM4EwzFkzuiE/LofA8PT2PwlE9DHLVX73NdIda8Rs9b7LBGjU7RaV1iq9riXUp0dYm2r1Z4yHZnP/fC/vxqHuVGM+X8dnp5kwlLZuUtSlZBaWZXLFPsQmIkifhtLEefpDP9qGrOTz5taY1yjz0Xe71VnBOT+nkBo3WNvG6VM6fU5rKUV7K0xk6Jf2UCvltlHul7brpW6cnqA+IdxOs5DlAbLY1w+RoSl8k5TkeqOYHRSeJBKLx1T4/sjNtMt7EtZQ253CfP/28eJirOHKdRWQU3X+SVV9DExy0M+dqLdumJer+WaodxHqVYcpoZkVrHWaubjQIYi0LW5fEIqhd3Gqmko1dkxNkmmeKrQ/Bw9kunkxyrmF7apES+fa5vKWhXKxqK0LOIByhgaXYTaVl3RkHov5wmKLnbHidkudbQDKJKKccNVKmN2+jQiu3lXmc5Fr55xr93rZ9jzdAyz4RjSJZeqb7lPb3I3hs1v24hMjiPeoH2kbCxKRM8fUYSMnk9vyyW0w/k/HxGcXMLi29u/9zBL1WGcpBL3yx2YpLOpl4qbXYW/Rioxzjfqrd1kDKZb5ukdRdE16X621uj1kf+IrnMN2p/mtuKvY6TTh0h8XaWKfTU0Ymx15nM+RFiqDuMWqbRfe4iEl5DIN5BDtBHslVIvIb0+jdkvxzivJ6a9fUHtFrcKXjthVu3mNu3socJSdZhGbaqGaZyTVCaNUkjPUl0g/fcq4tRmVb9Re+9xOcVSdZqGHRUC4xKHmHOHQz2pTM6y2Flw6OxoIlIx6mCpOownqUyMrvEoFlcOryq+F6kkRrf8J5FSyqjHUt0KLFWnEAOTK1HMDvtQuTfuKna85kHWaCO6iJsVQXze9T694yTtQd21QJj2YKnuKpdyMPMWoot93YemaWp9kIcHS3UL6KUs0mnRBe22/URssKdyLdRR1HbXDA0njp+52nJunR4esa/74J27tz7IbcBS3QbiljMOYz3WTcz5C84sYf5t7PqqSZrzZ6pbe061j70t98hgqRj1sFQMY8G+7kMrsFQMY6Nm3YcLpFdsi944bDtZS87JUjGMjXalYKkYxgZL1RYsFXOdGik4/WsWloq5DkeqtmCpmFqc1n3wzB1ZH+SWYakYRjEsFcMohqViGMWwVAyjGJaKYRTDUjGMYlgqhlEMS8UwimGpGEYxLBXDKIalYhjFsFQMoxiWimEUw1IxjGJYKoZRDEvFMIphqRhGMSwVwyiGpWLa4AKpD5VbkUa+H2Dzyx52vs4hOLPf/j2D7zEsFdMmOtKfeuD/dChvolBC4pWvjTvN339YKqZtMss9CO1eyEcXSLzpwdpjXUqJYKmYtmGpamGpmLZhqWphqZi2YalqYamYNtCQ+baEUF8P/IGP2Mlkkfo8h0BvD0beRr3f4/iBwVIxjGJYKoZRDEvFMIphqRhGMSwVwyiGpWIYxbBUjDO/9xHu7kGXufUNIfBy1NP2rNfyOcdtGsk/8nseICwV40rx+9SVCL1LSF/KF5pB16Cd5pHaXcX8WH/17wW/leQbHh4sFeNOuYTEpK8qgn9yr+1LOrT8HhaH6W/+FUPugV4e0pJUmWWH+7me7WGtOlVFAZmow1SXCySW93AuHzE3wJ8DzFfTOR/CuwoijJR19sfDnHFx41Jlln3eQj9LdWfQ6ViMyGjV1T2EeF6+0A6Xx4hMbqMoH17nBo616kAguVmpylmsibPey3qFKWGp7hA6HfMhKRVtg3T8W2lf2bnUoLumgCyVtx9IoviNAzOKnYJ8zg2W6m5RLmBnTEpF24vPx/JK307BUnn6gbkv45ifqfQoNUwBWaq7R2kPYWv7KqG+Ql7BUjX+geU84mMx5OjAhMRBGWuQArJUdxItOSezDdp6p5DoWM84S9X4B+ZjCH4RLVwqrDfioIxj57TykiMPUKrz5EcEBitjNaHdAk52lxB+NY7AEx8GxpaQKuk4T8cwG6Dnhp/i2eA0Nn/VJln6v3tYfDOOoBhoHR7CyGQUyX+t7xErHNFr8nu6ep8inqXv3jXHnHx4NjyKzZYXZrG1r8TJsSNd4yxVwx+YWx+qSmIe4KurRR24FalKxkV2szNNbN+b7ArTD7FI+/5icIL2T8ogovhfQoB++nvmqV9H6j09J8Zz5DNi/5NhUZmnkPxdeUY/iuKFU8QQ3dbi5PXGLC/RSUTvq3ci88ol/a1B8Tsq28hytgPtK4djfVlA4tMUgoHKzI2RwSms/SjYvruAzUEfQpZyzHzuh//9Aa514N9vqajSiB4j84x2uo2gOCDVA+7Ag03/qEKKfa8u6SWg/RIC2AZEKycfW1mf5ZHOlCyfrfy9F+sOchdEOfswn9QobfuIWRVjTCbG3zbFEidM1VpdP9baj2nj+6ptOdEt/5d97IxOPO9GsfjPlUK5vycQWncQ/15LJQ4Anc2uKMmeJDpznsmn7DxwqWqjtJTKdpJxlEpwlkViZQ4hOluHJicqY0g15XuFyBBEBBxQMBvCTpF+31X7qsVpTK44HOvyBXLpLIqW7xHrY9RG8ya4z1IVt8Yx8mq6Jm0KvzTbFi47xVI5SlVMTGOAIkMkRdHKkERGPhepoNPZ/D+d6gKnqFCdxkSpa1JlBXU51iRWRswjfE0p4KsphIw01KE+euH+SiXGN+j99rOkmQKG96/nuoImpNKOqHE/SA374WmsUWWrIg7AVxKYCj88E4X1JWduoE3VjlRUxqLn9IXR4WNikaqsXxtM1X8uIfRqgiLKc0SO1GsF7QDzqqYv1eBwrEv7mO2jNtzCIc7lrhiRylJG58m5yix5eZIxOoeekPhOTY17K9W11M+EZHspCsTlMgCPUunZGBa/U2NVFz1nqwhSgRoNZ9FQD08gnjWVpQbr1w3kOlCvmqMNqahMRFSIHMnHgjJFIlMqe5ldHmLxleidE0szU8UaXFW8/5WewJvpqJBlZGt3WqXSZVpY/D5RG7mzq/A/JKlE6nfVE1NLbv25UUkcJ1Z6kooqy5ZNMvrciDhzTk4ZDfQa/uwj8fO2rWpWqjmkzN2Qk1utqZy4PMNo11AlEp0R1TXMyxrSn0V0ko/lZ0dW1Akg2lSdaKtVsB9rGZFp361kPptS0etSJKPcrFKJCP8QpLKOyYh8e+TDQU0BbYouUQrlxuu9T40u0kVrTu5JKnq8ayk8Ax25FTGO4hQBqYHfgUL0ilEmw08rEhgX/VHkzG7Qv5U7ZxjlROWwmbWWT2VcySwbY5wqIMawRhEMTGFxt4DizygC9PdCCwdUwWvL1k/ptSgvkRZVvqPy9wJf7eXWHEWxLwGKGko7J6zYj7WG1Iy4ZITqnvmdp+YMD3pOpKF0whA8WKnaxqNUyW/WrukKufVR+Kmw/ZOVClVFP0TCHr2YpjGyAVWTal2xH2vCGKcax7MndEIKjCP8aQ8np4eIDNPJ6LUYPK+8jaVyw5NUYtrMBlKWiKQdRRESqZAxT82H4Dr9X6YnJ1urNe9lWkCUa18npyeZOEjlEZbKDY9SiZkDqYWPiKysIvJugoQ6rEpkpErDPvifiCk944j8VF+Anjk7xNpWiymXSG16+zvTe9cMxkwKdQO9J8l9nLj+qdakKv6zSumx6JSZxqa57LSYb8pSEV6lMrnUoLkcIF2rd91Oh8nTmV2M0U0+rz17NkBcdh55T+mNeKBnEX89gU0vvfdnx4i/W0VadZYrhVJ2YhIV3W04xaD1SFXFvF6L6tLd71KnqHBtBFv8QJWXAmRWHe7GRwW9Ymsn3ROupSQu6CWS4v1HbKabLMs/eSQoYq/9yFcjtTKMy9/71Y1Fne5jfrAHi3V7YtuVSswBlFOaqEngX3AY/L5LUjHN01AqijCbJFM8VWhOCi2P5P8o/f2WxXlHorHCsSi9hPTXyl1BjGlNdf9guydQ3ZjzF5xZwvzbmHOniupAIGGpbghXqUiKxMI0IrvuESb3tdLlXjO2Vb5A+gullevH1dkF1xDd9cZsgg2kEjGsrUQxOzxKafUFcltRaocuITw8h2SdAGSMgwU2kPtN6fWfZrYLnGSOkU7vY4e+dz4ghxLk5m8iFb5vsFQ3hJNUYgrRgFj8xEOEEYOcVanELJWXUaS99GTSewOWxVrEd1ovLhSzD/xyfMdOzYRZpdtzxH/JL3mAsFQ3hFuk0n7tIRJeQiJfv2eh9m6FIpOitld4GvFGbS9KcUL2qU6WRrtrBNULSFLbOd6R7aDxwj/3GJbqhmjUpjKu+A3HkC4553J2qUyMXkIh5S8XKVuVimkZluqG8FR5yxqKqRjmF7aRsV1n5iaVyXlmG5H3MaQKNrlYqhuHpbohmqq8JFduN4rFlcNq5W8klUG5ssbF4qe9q9noLNWNw1J1mtMDakOIXjcfunpHMft51fsNpo0ODHGzavr8YOVm1Skva0yIz4mNvjsyMwp/9xB97wEyFM0WX/fL3yEfy9kHokve9VeJCx37fJi3XKLeNHSiOPlGkVSurfGQYamYxpTz2Hwtrk1rZaTqAunlKYTfTSNYb/mEBwRLdYvopSzSaTGW47YVnKPHn4LDe61b1n3s6tYQ10OxVEynoTaQ88CpubmY0fBztzjX0RWWimEklcU5xboPDTtK6sJSMUwNuRVfjVQn3y2L37hskX+s859YKoapQXS9c6TyBkvFeIKl8g5LxXjCLhWnf+6wVIwnOFJ5h6ViPCEuEWlNKjEjZBXxTxPGNWEDr5d4ljrzuNHlwh+e5h4yBiwV486/GxihlE3cCyvz2YdI/evfGQlLxbijizl/45hdmMPsl06sl/4wYakYRjEsFcMohqViGMWwVAyjGJaKYRTDUjGMYlgqhlEMS8UwimGpGEYxLBXDKIalYhjFsFQMoxiWimEUw1IxjGJYKoZRDEvFMIphqRhGKcD/A2uDbebm4YvwAAAAAElFTkSuQmCC)\n"
      ],
      "metadata": {
        "id": "3MAGNCo0tewl"
      }
    },
    {
      "cell_type": "code",
      "source": [
        "A = np.array([[1,2,3], [1,2,3], [4,6,8]])\n",
        "inf_norm_A = np.linalg.norm(A, ord=np.inf)\n",
        "print(\"result inf norm of A :\", inf_norm_A)\n",
        "one_norm_A=np.linalg.norm(A, ord=1)\n",
        "print(\"result one norm of A :\", one_norm_A)"
      ],
      "metadata": {
        "colab": {
          "base_uri": "https://localhost:8080/"
        },
        "id": "Apqfxdkstuqi",
        "outputId": "c08bdd12-6028-43c9-96a2-c2c20747b5d2"
      },
      "execution_count": null,
      "outputs": [
        {
          "output_type": "stream",
          "name": "stdout",
          "text": [
            "result inf norm of A : 18.0\n",
            "result one norm of A : 14.0\n"
          ]
        }
      ]
    },
    {
      "cell_type": "markdown",
      "source": [
        "# 26-6. Dropout\n",
        "\n",
        "- 이름 그대로 몇 가지의 값들을 모든 뉴런에 전달하는 것이 아닌 확률적으로 버리면서 전달하는 기법\n",
        "\n",
        "- 드롭아웃은 오버피팅을 막는 Regularization layer 중 하나\n",
        "\n",
        "- 확률을 너무 높이면 제대로 전달되지 않으므로 학습이 잘되지 않고, 너무 낮으면 FC layer와 같다."
      ],
      "metadata": {
        "id": "-Ly3IwT_uo_N"
      }
    },
    {
      "cell_type": "code",
      "source": [
        "# Dropout 실습 (fashion mnist)\n",
        "\n",
        "import tensorflow as tf\n",
        "from tensorflow import keras\n",
        "import numpy as np\n",
        "import matplotlib.pyplot as plot\n",
        "from sklearn.model_selection import train_test_split\n",
        "\n",
        "fashion_mnist = keras.datasets.fashion_mnist"
      ],
      "metadata": {
        "id": "MQ6ScMSru_4A"
      },
      "execution_count": null,
      "outputs": []
    },
    {
      "cell_type": "code",
      "source": [
        "(train_image, train_labels), (test_image, test_labels) = fashion_mnist.load_data()\n",
        "class_names = ['T-shirt/top', 'Trouser', 'Pullover', 'Dress', 'Coat',\n",
        "               'Sandal', 'Shirt', 'Sneaker', 'Bag', 'Ankle boot']\n",
        "\n",
        "train_image = train_image / 255.0\n",
        "test_image = test_image / 255.0"
      ],
      "metadata": {
        "id": "CCBknZVYv_Uv"
      },
      "execution_count": null,
      "outputs": []
    },
    {
      "cell_type": "code",
      "source": [
        "# Dropout = 0.9 적용\n",
        "model1 = keras.Sequential([\n",
        "    keras.layers.Flatten(input_shape=(28,28)),\n",
        "    keras.layers.Dense(128, activation='relu'),\n",
        "    # 여기에 dropout layer를 추가해보았습니다. 나머지 layer는 아래의 실습과 같습니다.\n",
        "    keras.layers.Dropout(0.9),\n",
        "    keras.layers.Dense(10, activation='softmax')\n",
        "])\n",
        "\n",
        "model1.compile(optimizer='adam', loss = 'sparse_categorical_crossentropy',\n",
        "              metrics = ['accuracy'])\n",
        "\n",
        "history1 = model1.fit(train_image, train_labels, epochs=5)"
      ],
      "metadata": {
        "colab": {
          "base_uri": "https://localhost:8080/"
        },
        "id": "ix341LCEwYdj",
        "outputId": "ef2e535a-5db8-4cd2-aee8-6d1a37aba240"
      },
      "execution_count": null,
      "outputs": [
        {
          "output_type": "stream",
          "name": "stdout",
          "text": [
            "Epoch 1/5\n",
            "1875/1875 [==============================] - 5s 2ms/step - loss: 1.3605 - accuracy: 0.4679\n",
            "Epoch 2/5\n",
            "1875/1875 [==============================] - 5s 3ms/step - loss: 1.1484 - accuracy: 0.5375\n",
            "Epoch 3/5\n",
            "1875/1875 [==============================] - 4s 2ms/step - loss: 1.0981 - accuracy: 0.5534\n",
            "Epoch 4/5\n",
            "1875/1875 [==============================] - 5s 3ms/step - loss: 1.0710 - accuracy: 0.5656\n",
            "Epoch 5/5\n",
            "1875/1875 [==============================] - 4s 2ms/step - loss: 1.0465 - accuracy: 0.5742\n"
          ]
        }
      ]
    },
    {
      "cell_type": "code",
      "source": [
        "history_dict1 = history1.history\n",
        "print(history_dict1.keys()) # epoch에 따른 그래프를 그려볼 수 있는 항목들"
      ],
      "metadata": {
        "colab": {
          "base_uri": "https://localhost:8080/"
        },
        "id": "sngE7xuoxwp0",
        "outputId": "b9fd6f25-ae08-45e2-a25b-e1c10838e89d"
      },
      "execution_count": null,
      "outputs": [
        {
          "output_type": "stream",
          "name": "stdout",
          "text": [
            "dict_keys(['loss', 'accuracy'])\n"
          ]
        }
      ]
    },
    {
      "cell_type": "code",
      "source": [
        "# Loss, Accuracy 그래프 시각화 \n",
        "acc = history_dict1['accuracy']\n",
        "loss = history_dict1['loss']\n",
        "\n",
        "epochs = range(1, len(acc) + 1)\n",
        "\n",
        "plt.plot(epochs, loss, label='Training loss')\n",
        "plt.title('Training loss')\n",
        "plt.xlabel('Epochs')\n",
        "plt.ylabel('Loss')\n",
        "plt.legend()\n",
        "\n",
        "plt.show()"
      ],
      "metadata": {
        "colab": {
          "base_uri": "https://localhost:8080/",
          "height": 295
        },
        "id": "TA25ORRyxz60",
        "outputId": "88797a40-5315-4076-a092-f2e0e645194e"
      },
      "execution_count": null,
      "outputs": [
        {
          "output_type": "display_data",
          "data": {
            "text/plain": [
              "<Figure size 432x288 with 1 Axes>"
            ],
            "image/png": "[encoded data removed]"
          },
          "metadata": {
            "needs_background": "light"
          }
        }
      ]
    },
    {
      "cell_type": "code",
      "source": [
        "plt.clf()   # 그림을 초기화합니다\n",
        "\n",
        "plt.plot(epochs, acc, label='Training acc')\n",
        "plt.title('Training  accuracy')\n",
        "plt.xlabel('Epochs')\n",
        "plt.ylabel('Accuracy')\n",
        "plt.legend()\n",
        "\n",
        "plt.show()"
      ],
      "metadata": {
        "colab": {
          "base_uri": "https://localhost:8080/",
          "height": 295
        },
        "id": "FGeXBtUBx8yb",
        "outputId": "81ec45c6-0da8-407a-b5e9-48ee25592e7a"
      },
      "execution_count": null,
      "outputs": [
        {
          "output_type": "display_data",
          "data": {
            "text/plain": [
              "<Figure size 432x288 with 1 Axes>"
            ],
            "image/png": "[encoded data removed]"
          },
          "metadata": {
            "needs_background": "light"
          }
        }
      ]
    },
    {
      "cell_type": "code",
      "source": [
        "# Dropout 없이 모델 학습해보기\n",
        "model2 = keras.Sequential([\n",
        "    keras.layers.Flatten(input_shape=(28,28)),\n",
        "    keras.layers.Dense(128, activation='relu'),\n",
        "    keras.layers.Dense(10, activation='softmax')\n",
        "])\n",
        "\n",
        "model2.compile(optimizer='adam', loss = 'sparse_categorical_crossentropy',\n",
        "              metrics = ['accuracy'])\n",
        "\n",
        "history2 = model2.fit(train_image, train_labels, epochs=5)"
      ],
      "metadata": {
        "colab": {
          "base_uri": "https://localhost:8080/"
        },
        "id": "zNlKa27KxKTD",
        "outputId": "cc9a4908-ec02-402c-e2a4-cf10d7afdbcd"
      },
      "execution_count": null,
      "outputs": [
        {
          "output_type": "stream",
          "name": "stdout",
          "text": [
            "Epoch 1/5\n",
            "1875/1875 [==============================] - 6s 3ms/step - loss: 0.4965 - accuracy: 0.8260\n",
            "Epoch 2/5\n",
            "1875/1875 [==============================] - 4s 2ms/step - loss: 0.3735 - accuracy: 0.8647\n",
            "Epoch 3/5\n",
            "1875/1875 [==============================] - 4s 2ms/step - loss: 0.3340 - accuracy: 0.8783\n",
            "Epoch 4/5\n",
            "1875/1875 [==============================] - 4s 2ms/step - loss: 0.3103 - accuracy: 0.8861\n",
            "Epoch 5/5\n",
            "1875/1875 [==============================] - 4s 2ms/step - loss: 0.2934 - accuracy: 0.8919\n"
          ]
        }
      ]
    },
    {
      "cell_type": "code",
      "source": [
        "history_dict2 = history2.history\n",
        "print(history_dict2.keys()) # epoch에 따른 그래프를 그려볼 수 있는 항목들"
      ],
      "metadata": {
        "colab": {
          "base_uri": "https://localhost:8080/"
        },
        "id": "0gXp1XqtyJ_7",
        "outputId": "7a123092-9e87-4a5d-8f34-3fe93784aa4e"
      },
      "execution_count": null,
      "outputs": [
        {
          "output_type": "stream",
          "name": "stdout",
          "text": [
            "dict_keys(['loss', 'accuracy'])\n"
          ]
        }
      ]
    },
    {
      "cell_type": "code",
      "source": [
        "# Loss, Accuracy 그래프 시각화 \n",
        "acc = history_dict2['accuracy']\n",
        "loss = history_dict2['loss']\n",
        "\n",
        "epochs = range(1, len(acc) + 1)\n",
        "\n",
        "plt.plot(epochs, loss, label='Training loss')\n",
        "plt.title('Training loss')\n",
        "plt.xlabel('Epochs')\n",
        "plt.ylabel('Loss')\n",
        "plt.legend()\n",
        "\n",
        "plt.show()\n",
        "\n",
        "plt.clf()   # 그림을 초기화합니다\n",
        "\n",
        "plt.plot(epochs, acc, label='Training acc')\n",
        "plt.title('Training  accuracy')\n",
        "plt.xlabel('Epochs')\n",
        "plt.ylabel('Accuracy')\n",
        "plt.legend()\n",
        "\n",
        "plt.show()"
      ],
      "metadata": {
        "colab": {
          "base_uri": "https://localhost:8080/",
          "height": 573
        },
        "id": "7w9n63ZEyRRF",
        "outputId": "ca2e8c03-b4e2-4b6a-b238-9d2d378dabdb"
      },
      "execution_count": null,
      "outputs": [
        {
          "output_type": "display_data",
          "data": {
            "text/plain": [
              "<Figure size 432x288 with 1 Axes>"
            ],
            "image/png": "[encoded data removed]"
          },
          "metadata": {
            "needs_background": "light"
          }
        },
        {
          "output_type": "display_data",
          "data": {
            "text/plain": [
              "<Figure size 432x288 with 1 Axes>"
            ],
            "image/png": "[encoded data removed]"
          },
          "metadata": {
            "needs_background": "light"
          }
        }
      ]
    },
    {
      "cell_type": "markdown",
      "source": [
        "# Overfitting\n",
        "\n",
        "- overfitting이 되는지 확인해 보려면 train set과 validation set의 loss function을 그려보는 것이 가장 첫 번째 시도\n",
        "\n",
        "- 데이터를 이제 train:valid=99:1로 split 한 뒤에 loss function의 값을 그려보고, overfitting 이 나는 fully connected layer를 만들어보도록 합시다."
      ],
      "metadata": {
        "id": "847mm9UFyokw"
      }
    },
    {
      "cell_type": "code",
      "source": [
        "# 실습 (Overfitting)\n",
        "\n",
        "X_train, X_valid, y_train, y_valid = train_test_split(train_image, train_labels, test_size=0.01, random_state=101)\n",
        "X_train = X_train / 255.0\n",
        "X_valid = X_valid / 255.0\n",
        "\n",
        "#Dense layer만으로 만들어 낸 classification 모델입니다.\n",
        "model3 = keras.Sequential([\n",
        "    keras.layers.Flatten(input_shape=(28, 28)),\n",
        "    keras.layers.Dense(256, activation='relu'),\n",
        "    keras.layers.Dense(10, activation='softmax')\n",
        "])\n",
        "\n",
        "model3.compile(optimizer='adam', loss = 'sparse_categorical_crossentropy',\n",
        "              metrics = ['accuracy'])\n",
        "\n",
        "history3 = model3.fit(X_train, y_train, epochs=100, batch_size=512, validation_data=(X_valid, y_valid))"
      ],
      "metadata": {
        "colab": {
          "base_uri": "https://localhost:8080/"
        },
        "id": "WxMkALtjyfxG",
        "outputId": "608c3df5-e7d7-4927-aede-ddfde93ec079"
      },
      "execution_count": null,
      "outputs": [
        {
          "output_type": "stream",
          "name": "stdout",
          "text": [
            "Epoch 1/100\n",
            "117/117 [==============================] - 4s 28ms/step - loss: 2.0476 - accuracy: 0.4904 - val_loss: 1.6422 - val_accuracy: 0.6100\n",
            "Epoch 2/100\n",
            "117/117 [==============================] - 2s 19ms/step - loss: 1.4028 - accuracy: 0.6254 - val_loss: 1.1854 - val_accuracy: 0.6550\n",
            "Epoch 3/100\n",
            "117/117 [==============================] - 2s 13ms/step - loss: 1.0776 - accuracy: 0.6801 - val_loss: 0.9591 - val_accuracy: 0.7167\n",
            "Epoch 4/100\n",
            "117/117 [==============================] - 2s 13ms/step - loss: 0.8970 - accuracy: 0.7178 - val_loss: 0.8163 - val_accuracy: 0.7517\n",
            "Epoch 5/100\n",
            "117/117 [==============================] - 2s 15ms/step - loss: 0.7891 - accuracy: 0.7351 - val_loss: 0.7424 - val_accuracy: 0.7567\n",
            "Epoch 6/100\n",
            "117/117 [==============================] - 2s 20ms/step - loss: 0.7224 - accuracy: 0.7486 - val_loss: 0.6862 - val_accuracy: 0.7767\n",
            "Epoch 7/100\n",
            "117/117 [==============================] - 2s 20ms/step - loss: 0.6784 - accuracy: 0.7598 - val_loss: 0.6488 - val_accuracy: 0.7933\n",
            "Epoch 8/100\n",
            "117/117 [==============================] - 3s 22ms/step - loss: 0.6457 - accuracy: 0.7686 - val_loss: 0.6267 - val_accuracy: 0.7917\n",
            "Epoch 9/100\n",
            "117/117 [==============================] - 3s 24ms/step - loss: 0.6206 - accuracy: 0.7778 - val_loss: 0.5967 - val_accuracy: 0.7883\n",
            "Epoch 10/100\n",
            "117/117 [==============================] - 2s 20ms/step - loss: 0.5992 - accuracy: 0.7855 - val_loss: 0.5808 - val_accuracy: 0.7950\n",
            "Epoch 11/100\n",
            "117/117 [==============================] - 3s 23ms/step - loss: 0.5807 - accuracy: 0.7942 - val_loss: 0.5698 - val_accuracy: 0.7933\n",
            "Epoch 12/100\n",
            "117/117 [==============================] - 2s 18ms/step - loss: 0.5652 - accuracy: 0.8000 - val_loss: 0.5506 - val_accuracy: 0.8017\n",
            "Epoch 13/100\n",
            "117/117 [==============================] - 2s 18ms/step - loss: 0.5521 - accuracy: 0.8041 - val_loss: 0.5412 - val_accuracy: 0.8000\n",
            "Epoch 14/100\n",
            "117/117 [==============================] - 2s 16ms/step - loss: 0.5399 - accuracy: 0.8103 - val_loss: 0.5339 - val_accuracy: 0.8033\n",
            "Epoch 15/100\n",
            "117/117 [==============================] - 2s 14ms/step - loss: 0.5294 - accuracy: 0.8137 - val_loss: 0.5277 - val_accuracy: 0.8033\n",
            "Epoch 16/100\n",
            "117/117 [==============================] - 2s 14ms/step - loss: 0.5210 - accuracy: 0.8162 - val_loss: 0.5187 - val_accuracy: 0.8050\n",
            "Epoch 17/100\n",
            "117/117 [==============================] - 2s 14ms/step - loss: 0.5119 - accuracy: 0.8198 - val_loss: 0.5089 - val_accuracy: 0.8067\n",
            "Epoch 18/100\n",
            "117/117 [==============================] - 2s 13ms/step - loss: 0.5052 - accuracy: 0.8230 - val_loss: 0.5005 - val_accuracy: 0.8167\n",
            "Epoch 19/100\n",
            "117/117 [==============================] - 2s 14ms/step - loss: 0.4980 - accuracy: 0.8249 - val_loss: 0.4949 - val_accuracy: 0.8217\n",
            "Epoch 20/100\n",
            "117/117 [==============================] - 2s 14ms/step - loss: 0.4914 - accuracy: 0.8282 - val_loss: 0.4910 - val_accuracy: 0.8217\n",
            "Epoch 21/100\n",
            "117/117 [==============================] - 2s 13ms/step - loss: 0.4868 - accuracy: 0.8289 - val_loss: 0.4864 - val_accuracy: 0.8183\n",
            "Epoch 22/100\n",
            "117/117 [==============================] - 2s 13ms/step - loss: 0.4803 - accuracy: 0.8310 - val_loss: 0.4803 - val_accuracy: 0.8250\n",
            "Epoch 23/100\n",
            "117/117 [==============================] - 2s 13ms/step - loss: 0.4750 - accuracy: 0.8339 - val_loss: 0.4760 - val_accuracy: 0.8250\n",
            "Epoch 24/100\n",
            "117/117 [==============================] - 2s 13ms/step - loss: 0.4706 - accuracy: 0.8353 - val_loss: 0.4709 - val_accuracy: 0.8283\n",
            "Epoch 25/100\n",
            "117/117 [==============================] - 2s 13ms/step - loss: 0.4663 - accuracy: 0.8364 - val_loss: 0.4677 - val_accuracy: 0.8267\n",
            "Epoch 26/100\n",
            "117/117 [==============================] - 2s 13ms/step - loss: 0.4626 - accuracy: 0.8379 - val_loss: 0.4619 - val_accuracy: 0.8317\n",
            "Epoch 27/100\n",
            "117/117 [==============================] - 2s 17ms/step - loss: 0.4585 - accuracy: 0.8396 - val_loss: 0.4611 - val_accuracy: 0.8317\n",
            "Epoch 28/100\n",
            "117/117 [==============================] - 2s 13ms/step - loss: 0.4547 - accuracy: 0.8398 - val_loss: 0.4546 - val_accuracy: 0.8300\n",
            "Epoch 29/100\n",
            "117/117 [==============================] - 2s 13ms/step - loss: 0.4509 - accuracy: 0.8422 - val_loss: 0.4518 - val_accuracy: 0.8317\n",
            "Epoch 30/100\n",
            "117/117 [==============================] - 2s 14ms/step - loss: 0.4472 - accuracy: 0.8435 - val_loss: 0.4505 - val_accuracy: 0.8333\n",
            "Epoch 31/100\n",
            "117/117 [==============================] - 2s 13ms/step - loss: 0.4451 - accuracy: 0.8440 - val_loss: 0.4455 - val_accuracy: 0.8283\n",
            "Epoch 32/100\n",
            "117/117 [==============================] - 2s 13ms/step - loss: 0.4413 - accuracy: 0.8459 - val_loss: 0.4433 - val_accuracy: 0.8300\n",
            "Epoch 33/100\n",
            "117/117 [==============================] - 2s 13ms/step - loss: 0.4385 - accuracy: 0.8459 - val_loss: 0.4393 - val_accuracy: 0.8417\n",
            "Epoch 34/100\n",
            "117/117 [==============================] - 2s 13ms/step - loss: 0.4365 - accuracy: 0.8470 - val_loss: 0.4385 - val_accuracy: 0.8333\n",
            "Epoch 35/100\n",
            "117/117 [==============================] - 2s 13ms/step - loss: 0.4332 - accuracy: 0.8479 - val_loss: 0.4364 - val_accuracy: 0.8400\n",
            "Epoch 36/100\n",
            "117/117 [==============================] - 2s 13ms/step - loss: 0.4300 - accuracy: 0.8492 - val_loss: 0.4332 - val_accuracy: 0.8317\n",
            "Epoch 37/100\n",
            "117/117 [==============================] - 2s 13ms/step - loss: 0.4286 - accuracy: 0.8497 - val_loss: 0.4294 - val_accuracy: 0.8333\n",
            "Epoch 38/100\n",
            "117/117 [==============================] - 2s 13ms/step - loss: 0.4250 - accuracy: 0.8510 - val_loss: 0.4291 - val_accuracy: 0.8350\n",
            "Epoch 39/100\n",
            "117/117 [==============================] - 2s 13ms/step - loss: 0.4232 - accuracy: 0.8511 - val_loss: 0.4279 - val_accuracy: 0.8367\n",
            "Epoch 40/100\n",
            "117/117 [==============================] - 2s 13ms/step - loss: 0.4209 - accuracy: 0.8528 - val_loss: 0.4247 - val_accuracy: 0.8383\n",
            "Epoch 41/100\n",
            "117/117 [==============================] - 2s 13ms/step - loss: 0.4186 - accuracy: 0.8539 - val_loss: 0.4251 - val_accuracy: 0.8350\n",
            "Epoch 42/100\n",
            "117/117 [==============================] - 2s 13ms/step - loss: 0.4163 - accuracy: 0.8548 - val_loss: 0.4198 - val_accuracy: 0.8350\n",
            "Epoch 43/100\n",
            "117/117 [==============================] - 2s 13ms/step - loss: 0.4145 - accuracy: 0.8551 - val_loss: 0.4182 - val_accuracy: 0.8333\n",
            "Epoch 44/100\n",
            "117/117 [==============================] - 2s 13ms/step - loss: 0.4132 - accuracy: 0.8556 - val_loss: 0.4192 - val_accuracy: 0.8333\n",
            "Epoch 45/100\n",
            "117/117 [==============================] - 2s 13ms/step - loss: 0.4108 - accuracy: 0.8564 - val_loss: 0.4196 - val_accuracy: 0.8317\n",
            "Epoch 46/100\n",
            "117/117 [==============================] - 2s 13ms/step - loss: 0.4103 - accuracy: 0.8556 - val_loss: 0.4181 - val_accuracy: 0.8333\n",
            "Epoch 47/100\n",
            "117/117 [==============================] - 2s 13ms/step - loss: 0.4070 - accuracy: 0.8576 - val_loss: 0.4108 - val_accuracy: 0.8417\n",
            "Epoch 48/100\n",
            "117/117 [==============================] - 2s 13ms/step - loss: 0.4049 - accuracy: 0.8586 - val_loss: 0.4080 - val_accuracy: 0.8400\n",
            "Epoch 49/100\n",
            "117/117 [==============================] - 2s 13ms/step - loss: 0.4035 - accuracy: 0.8590 - val_loss: 0.4059 - val_accuracy: 0.8383\n",
            "Epoch 50/100\n",
            "117/117 [==============================] - 2s 13ms/step - loss: 0.4024 - accuracy: 0.8590 - val_loss: 0.4095 - val_accuracy: 0.8367\n",
            "Epoch 51/100\n",
            "117/117 [==============================] - 2s 13ms/step - loss: 0.4020 - accuracy: 0.8586 - val_loss: 0.4044 - val_accuracy: 0.8383\n",
            "Epoch 52/100\n",
            "117/117 [==============================] - 2s 13ms/step - loss: 0.3977 - accuracy: 0.8607 - val_loss: 0.4030 - val_accuracy: 0.8367\n",
            "Epoch 53/100\n",
            "117/117 [==============================] - 2s 13ms/step - loss: 0.3966 - accuracy: 0.8611 - val_loss: 0.4059 - val_accuracy: 0.8400\n",
            "Epoch 54/100\n",
            "117/117 [==============================] - 2s 13ms/step - loss: 0.3953 - accuracy: 0.8612 - val_loss: 0.4078 - val_accuracy: 0.8383\n",
            "Epoch 55/100\n",
            "117/117 [==============================] - 2s 18ms/step - loss: 0.3937 - accuracy: 0.8618 - val_loss: 0.4006 - val_accuracy: 0.8367\n",
            "Epoch 56/100\n",
            "117/117 [==============================] - 2s 13ms/step - loss: 0.3920 - accuracy: 0.8621 - val_loss: 0.3967 - val_accuracy: 0.8383\n",
            "Epoch 57/100\n",
            "117/117 [==============================] - 2s 13ms/step - loss: 0.3909 - accuracy: 0.8625 - val_loss: 0.3978 - val_accuracy: 0.8383\n",
            "Epoch 58/100\n",
            "117/117 [==============================] - 2s 16ms/step - loss: 0.3888 - accuracy: 0.8638 - val_loss: 0.3957 - val_accuracy: 0.8417\n",
            "Epoch 59/100\n",
            "117/117 [==============================] - 2s 20ms/step - loss: 0.3886 - accuracy: 0.8638 - val_loss: 0.3958 - val_accuracy: 0.8350\n",
            "Epoch 60/100\n",
            "117/117 [==============================] - 2s 14ms/step - loss: 0.3863 - accuracy: 0.8646 - val_loss: 0.3917 - val_accuracy: 0.8483\n",
            "Epoch 61/100\n",
            "117/117 [==============================] - 3s 22ms/step - loss: 0.3846 - accuracy: 0.8647 - val_loss: 0.3904 - val_accuracy: 0.8333\n",
            "Epoch 62/100\n",
            "117/117 [==============================] - 2s 18ms/step - loss: 0.3836 - accuracy: 0.8649 - val_loss: 0.3956 - val_accuracy: 0.8367\n",
            "Epoch 63/100\n",
            "117/117 [==============================] - 2s 13ms/step - loss: 0.3833 - accuracy: 0.8656 - val_loss: 0.3928 - val_accuracy: 0.8517\n",
            "Epoch 64/100\n",
            "117/117 [==============================] - 2s 14ms/step - loss: 0.3814 - accuracy: 0.8664 - val_loss: 0.3907 - val_accuracy: 0.8450\n",
            "Epoch 65/100\n",
            "117/117 [==============================] - 2s 13ms/step - loss: 0.3793 - accuracy: 0.8664 - val_loss: 0.3888 - val_accuracy: 0.8400\n",
            "Epoch 66/100\n",
            "117/117 [==============================] - 2s 13ms/step - loss: 0.3781 - accuracy: 0.8676 - val_loss: 0.3860 - val_accuracy: 0.8417\n",
            "Epoch 67/100\n",
            "117/117 [==============================] - 2s 13ms/step - loss: 0.3770 - accuracy: 0.8677 - val_loss: 0.3915 - val_accuracy: 0.8433\n",
            "Epoch 68/100\n",
            "117/117 [==============================] - 2s 13ms/step - loss: 0.3767 - accuracy: 0.8667 - val_loss: 0.3863 - val_accuracy: 0.8483\n",
            "Epoch 69/100\n",
            "117/117 [==============================] - 2s 13ms/step - loss: 0.3760 - accuracy: 0.8677 - val_loss: 0.3854 - val_accuracy: 0.8433\n",
            "Epoch 70/100\n",
            "117/117 [==============================] - 2s 14ms/step - loss: 0.3731 - accuracy: 0.8688 - val_loss: 0.3837 - val_accuracy: 0.8450\n",
            "Epoch 71/100\n",
            "117/117 [==============================] - 2s 13ms/step - loss: 0.3737 - accuracy: 0.8685 - val_loss: 0.3790 - val_accuracy: 0.8417\n",
            "Epoch 72/100\n",
            "117/117 [==============================] - 2s 13ms/step - loss: 0.3707 - accuracy: 0.8694 - val_loss: 0.3848 - val_accuracy: 0.8517\n",
            "Epoch 73/100\n",
            "117/117 [==============================] - 2s 13ms/step - loss: 0.3701 - accuracy: 0.8704 - val_loss: 0.3782 - val_accuracy: 0.8467\n",
            "Epoch 74/100\n",
            "117/117 [==============================] - 2s 13ms/step - loss: 0.3693 - accuracy: 0.8698 - val_loss: 0.3801 - val_accuracy: 0.8483\n",
            "Epoch 75/100\n",
            "117/117 [==============================] - 2s 13ms/step - loss: 0.3677 - accuracy: 0.8707 - val_loss: 0.3786 - val_accuracy: 0.8483\n",
            "Epoch 76/100\n",
            "117/117 [==============================] - 2s 13ms/step - loss: 0.3666 - accuracy: 0.8706 - val_loss: 0.3759 - val_accuracy: 0.8500\n",
            "Epoch 77/100\n",
            "117/117 [==============================] - 2s 13ms/step - loss: 0.3657 - accuracy: 0.8714 - val_loss: 0.3796 - val_accuracy: 0.8467\n",
            "Epoch 78/100\n",
            "117/117 [==============================] - 2s 14ms/step - loss: 0.3646 - accuracy: 0.8709 - val_loss: 0.3752 - val_accuracy: 0.8517\n",
            "Epoch 79/100\n",
            "117/117 [==============================] - 2s 13ms/step - loss: 0.3638 - accuracy: 0.8725 - val_loss: 0.3763 - val_accuracy: 0.8517\n",
            "Epoch 80/100\n",
            "117/117 [==============================] - 2s 13ms/step - loss: 0.3628 - accuracy: 0.8719 - val_loss: 0.3726 - val_accuracy: 0.8433\n",
            "Epoch 81/100\n",
            "117/117 [==============================] - 2s 14ms/step - loss: 0.3613 - accuracy: 0.8734 - val_loss: 0.3729 - val_accuracy: 0.8467\n",
            "Epoch 82/100\n",
            "117/117 [==============================] - 2s 13ms/step - loss: 0.3617 - accuracy: 0.8725 - val_loss: 0.3698 - val_accuracy: 0.8500\n",
            "Epoch 83/100\n",
            "117/117 [==============================] - 2s 14ms/step - loss: 0.3592 - accuracy: 0.8738 - val_loss: 0.3758 - val_accuracy: 0.8483\n",
            "Epoch 84/100\n",
            "117/117 [==============================] - 2s 14ms/step - loss: 0.3601 - accuracy: 0.8728 - val_loss: 0.3747 - val_accuracy: 0.8567\n",
            "Epoch 85/100\n",
            "117/117 [==============================] - 2s 14ms/step - loss: 0.3592 - accuracy: 0.8731 - val_loss: 0.3686 - val_accuracy: 0.8533\n",
            "Epoch 86/100\n",
            "117/117 [==============================] - 2s 14ms/step - loss: 0.3568 - accuracy: 0.8743 - val_loss: 0.3750 - val_accuracy: 0.8400\n",
            "Epoch 87/100\n",
            "117/117 [==============================] - 2s 13ms/step - loss: 0.3570 - accuracy: 0.8736 - val_loss: 0.3709 - val_accuracy: 0.8517\n",
            "Epoch 88/100\n",
            "117/117 [==============================] - 2s 14ms/step - loss: 0.3563 - accuracy: 0.8742 - val_loss: 0.3694 - val_accuracy: 0.8567\n",
            "Epoch 89/100\n",
            "117/117 [==============================] - 2s 14ms/step - loss: 0.3544 - accuracy: 0.8745 - val_loss: 0.3692 - val_accuracy: 0.8550\n",
            "Epoch 90/100\n",
            "117/117 [==============================] - 2s 15ms/step - loss: 0.3544 - accuracy: 0.8745 - val_loss: 0.3704 - val_accuracy: 0.8583\n",
            "Epoch 91/100\n",
            "117/117 [==============================] - 3s 22ms/step - loss: 0.3528 - accuracy: 0.8752 - val_loss: 0.3627 - val_accuracy: 0.8550\n",
            "Epoch 92/100\n",
            "117/117 [==============================] - 2s 14ms/step - loss: 0.3518 - accuracy: 0.8763 - val_loss: 0.3638 - val_accuracy: 0.8550\n",
            "Epoch 93/100\n",
            "117/117 [==============================] - 2s 13ms/step - loss: 0.3506 - accuracy: 0.8757 - val_loss: 0.3635 - val_accuracy: 0.8567\n",
            "Epoch 94/100\n",
            "117/117 [==============================] - 2s 13ms/step - loss: 0.3496 - accuracy: 0.8773 - val_loss: 0.3683 - val_accuracy: 0.8600\n",
            "Epoch 95/100\n",
            "117/117 [==============================] - 2s 14ms/step - loss: 0.3499 - accuracy: 0.8763 - val_loss: 0.3621 - val_accuracy: 0.8533\n",
            "Epoch 96/100\n",
            "117/117 [==============================] - 2s 14ms/step - loss: 0.3483 - accuracy: 0.8773 - val_loss: 0.3610 - val_accuracy: 0.8550\n",
            "Epoch 97/100\n",
            "117/117 [==============================] - 2s 14ms/step - loss: 0.3480 - accuracy: 0.8768 - val_loss: 0.3605 - val_accuracy: 0.8550\n",
            "Epoch 98/100\n",
            "117/117 [==============================] - 2s 13ms/step - loss: 0.3468 - accuracy: 0.8778 - val_loss: 0.3604 - val_accuracy: 0.8517\n",
            "Epoch 99/100\n",
            "117/117 [==============================] - 2s 13ms/step - loss: 0.3464 - accuracy: 0.8776 - val_loss: 0.3611 - val_accuracy: 0.8500\n",
            "Epoch 100/100\n",
            "117/117 [==============================] - 2s 14ms/step - loss: 0.3449 - accuracy: 0.8783 - val_loss: 0.3589 - val_accuracy: 0.8483\n"
          ]
        }
      ]
    },
    {
      "cell_type": "code",
      "source": [
        "history_dict3 = history3.history\n",
        "print(history_dict3.keys()) # epoch에 따른 그래프를 그려볼 수 있는 항목들"
      ],
      "metadata": {
        "id": "DIja9aUk4Yoz"
      },
      "execution_count": null,
      "outputs": []
    },
    {
      "cell_type": "code",
      "source": [
        "# loss 값을 plot 해보겠습니다.\n",
        "y_vloss = history3.history['val_loss']\n",
        "y_loss = history3.history['loss']\n",
        "x_len = np.arange(len(y_loss))\n",
        "\n",
        "plt.plot(x_len, y_vloss, marker='.', c='red', label=\"Validation-set Loss\")\n",
        "plt.plot(x_len, y_loss, marker='.', c='blue', label=\"Train-set Loss\")\n",
        "plt.legend(loc='upper right')\n",
        "plt.grid()\n",
        "plt.title('Loss graph without dropout layer') \n",
        "plt.ylim(0,1)\n",
        "plt.xlabel('epoch')\n",
        "plt.ylabel('loss')\n",
        "plt.show()"
      ],
      "metadata": {
        "colab": {
          "base_uri": "https://localhost:8080/",
          "height": 295
        },
        "id": "OOr-UMT33k8M",
        "outputId": "e5ed4c77-86d4-4cd9-bb1a-863d5be84ad3"
      },
      "execution_count": null,
      "outputs": [
        {
          "output_type": "display_data",
          "data": {
            "text/plain": [
              "<Figure size 432x288 with 1 Axes>"
            ],
            "image/png": "[encoded data removed]"
          },
          "metadata": {
            "needs_background": "light"
          }
        }
      ]
    },
    {
      "cell_type": "code",
      "source": [
        "# accuracy 값을 plot 해보겠습니다.\n",
        "y_vacc = history3.history['val_accuracy']\n",
        "y_acc = history3.history['accuracy']\n",
        "x_len = np.arange(len(y_acc))\n",
        "\n",
        "plt.plot(x_len, y_vacc, marker='.', c='red', label=\"Validation-set accuracy\")\n",
        "plt.plot(x_len, y_acc, marker='.', c='blue', label=\"Train-set accuracy\")\n",
        "plt.legend(loc='lower right')\n",
        "plt.grid()\n",
        "plt.ylim(0.5,1) \n",
        "plt.title('Accuracy graph without dropout layer') \n",
        "plt.xlabel('epoch')\n",
        "plt.ylabel('accuracy')\n",
        "plt.show()"
      ],
      "metadata": {
        "colab": {
          "base_uri": "https://localhost:8080/",
          "height": 295
        },
        "id": "pDJWRT9u3oey",
        "outputId": "f48926dc-323d-4711-befc-7e5adffbd39f"
      },
      "execution_count": null,
      "outputs": [
        {
          "output_type": "display_data",
          "data": {
            "text/plain": [
              "<Figure size 432x288 with 1 Axes>"
            ],
            "image/png": "[encoded data removed]"
          },
          "metadata": {
            "needs_background": "light"
          }
        }
      ]
    },
    {
      "cell_type": "markdown",
      "source": [
        "위의 droupout layer가 없는 fully connected layer에서 100번 정도의 학습을 하니 train set의 accuracy는 올라가고, loss는 점점 떨어졌습니다.\n",
        "\n",
        "그러나 validation set의 accuracy와 loss는 어느 정도 값에서 수렴함을 볼 수 있었습니다.\n",
        "\n"
      ],
      "metadata": {
        "id": "sMvjBrfl4lJN"
      }
    },
    {
      "cell_type": "code",
      "source": [
        "# 오버피팅을 만든 환경에서 Dropout layer를 추가해보기\n",
        "#Dense layer만으로 만들어 낸 classification 모델입니다.\n",
        "model4 = keras.Sequential([\n",
        "    keras.layers.Flatten(input_shape=(28, 28)),\n",
        "    keras.layers.Dense(256, activation='relu'),\n",
        "    # 여기에 dropout layer를 추가해보았습니다. 나머지 layer는 위의 실습과 같습니다. \n",
        "    keras.layers.Dropout(0.5),\n",
        "    keras.layers.Dense(10, activation='softmax')\n",
        "])\n",
        "\n",
        "model4.compile(optimizer='adam', loss = 'sparse_categorical_crossentropy',\n",
        "              metrics = ['accuracy'])\n",
        "\n",
        "history4 = model4.fit(X_train, y_train, epochs=100, batch_size=512, validation_data=(X_valid, y_valid))"
      ],
      "metadata": {
        "colab": {
          "base_uri": "https://localhost:8080/"
        },
        "id": "_2WZaTtn4vyT",
        "outputId": "5d6000a9-a7a3-4f78-8771-590cc3ceec85"
      },
      "execution_count": null,
      "outputs": [
        {
          "output_type": "stream",
          "name": "stdout",
          "text": [
            "Epoch 1/100\n",
            "117/117 [==============================] - 2s 17ms/step - loss: 2.0728 - accuracy: 0.4562 - val_loss: 1.6880 - val_accuracy: 0.6400\n",
            "Epoch 2/100\n",
            "117/117 [==============================] - 3s 22ms/step - loss: 1.4620 - accuracy: 0.5704 - val_loss: 1.2189 - val_accuracy: 0.6550\n",
            "Epoch 3/100\n",
            "117/117 [==============================] - 3s 21ms/step - loss: 1.1563 - accuracy: 0.6212 - val_loss: 1.0061 - val_accuracy: 0.7083\n",
            "Epoch 4/100\n",
            "117/117 [==============================] - 3s 23ms/step - loss: 0.9916 - accuracy: 0.6676 - val_loss: 0.8739 - val_accuracy: 0.7450\n",
            "Epoch 5/100\n",
            "117/117 [==============================] - 3s 22ms/step - loss: 0.8875 - accuracy: 0.6979 - val_loss: 0.7866 - val_accuracy: 0.7517\n",
            "Epoch 6/100\n",
            "117/117 [==============================] - 3s 24ms/step - loss: 0.8174 - accuracy: 0.7153 - val_loss: 0.7312 - val_accuracy: 0.7667\n",
            "Epoch 7/100\n",
            "117/117 [==============================] - 4s 31ms/step - loss: 0.7728 - accuracy: 0.7244 - val_loss: 0.6925 - val_accuracy: 0.7767\n",
            "Epoch 8/100\n",
            "117/117 [==============================] - 3s 24ms/step - loss: 0.7353 - accuracy: 0.7386 - val_loss: 0.6663 - val_accuracy: 0.7833\n",
            "Epoch 9/100\n",
            "117/117 [==============================] - 2s 21ms/step - loss: 0.7074 - accuracy: 0.7469 - val_loss: 0.6403 - val_accuracy: 0.7900\n",
            "Epoch 10/100\n",
            "117/117 [==============================] - 2s 16ms/step - loss: 0.6851 - accuracy: 0.7509 - val_loss: 0.6218 - val_accuracy: 0.7967\n",
            "Epoch 11/100\n",
            "117/117 [==============================] - 2s 16ms/step - loss: 0.6642 - accuracy: 0.7603 - val_loss: 0.6033 - val_accuracy: 0.7967\n",
            "Epoch 12/100\n",
            "117/117 [==============================] - 2s 21ms/step - loss: 0.6477 - accuracy: 0.7665 - val_loss: 0.5897 - val_accuracy: 0.7983\n",
            "Epoch 13/100\n",
            "117/117 [==============================] - 2s 15ms/step - loss: 0.6325 - accuracy: 0.7722 - val_loss: 0.5764 - val_accuracy: 0.8033\n",
            "Epoch 14/100\n",
            "117/117 [==============================] - 2s 15ms/step - loss: 0.6190 - accuracy: 0.7799 - val_loss: 0.5673 - val_accuracy: 0.7983\n",
            "Epoch 15/100\n",
            "117/117 [==============================] - 3s 28ms/step - loss: 0.6072 - accuracy: 0.7830 - val_loss: 0.5599 - val_accuracy: 0.7950\n",
            "Epoch 16/100\n",
            "117/117 [==============================] - 2s 15ms/step - loss: 0.5946 - accuracy: 0.7864 - val_loss: 0.5445 - val_accuracy: 0.8050\n",
            "Epoch 17/100\n",
            "117/117 [==============================] - 2s 20ms/step - loss: 0.5858 - accuracy: 0.7901 - val_loss: 0.5362 - val_accuracy: 0.8033\n",
            "Epoch 18/100\n",
            "117/117 [==============================] - 2s 20ms/step - loss: 0.5748 - accuracy: 0.7945 - val_loss: 0.5278 - val_accuracy: 0.8067\n",
            "Epoch 19/100\n",
            "117/117 [==============================] - 2s 18ms/step - loss: 0.5678 - accuracy: 0.7986 - val_loss: 0.5216 - val_accuracy: 0.8083\n",
            "Epoch 20/100\n",
            "117/117 [==============================] - 3s 24ms/step - loss: 0.5575 - accuracy: 0.8010 - val_loss: 0.5139 - val_accuracy: 0.8100\n",
            "Epoch 21/100\n",
            "117/117 [==============================] - 2s 16ms/step - loss: 0.5511 - accuracy: 0.8036 - val_loss: 0.5064 - val_accuracy: 0.8133\n",
            "Epoch 22/100\n",
            "117/117 [==============================] - 2s 15ms/step - loss: 0.5426 - accuracy: 0.8079 - val_loss: 0.4997 - val_accuracy: 0.8117\n",
            "Epoch 23/100\n",
            "117/117 [==============================] - 2s 15ms/step - loss: 0.5382 - accuracy: 0.8099 - val_loss: 0.4973 - val_accuracy: 0.8150\n",
            "Epoch 24/100\n",
            "117/117 [==============================] - 2s 15ms/step - loss: 0.5302 - accuracy: 0.8118 - val_loss: 0.4883 - val_accuracy: 0.8167\n",
            "Epoch 25/100\n",
            "117/117 [==============================] - 2s 15ms/step - loss: 0.5236 - accuracy: 0.8134 - val_loss: 0.4841 - val_accuracy: 0.8250\n",
            "Epoch 26/100\n",
            "117/117 [==============================] - 2s 15ms/step - loss: 0.5194 - accuracy: 0.8149 - val_loss: 0.4805 - val_accuracy: 0.8167\n",
            "Epoch 27/100\n",
            "117/117 [==============================] - 2s 18ms/step - loss: 0.5132 - accuracy: 0.8177 - val_loss: 0.4744 - val_accuracy: 0.8167\n",
            "Epoch 28/100\n",
            "117/117 [==============================] - 2s 15ms/step - loss: 0.5098 - accuracy: 0.8187 - val_loss: 0.4695 - val_accuracy: 0.8200\n",
            "Epoch 29/100\n",
            "117/117 [==============================] - 2s 15ms/step - loss: 0.5052 - accuracy: 0.8215 - val_loss: 0.4654 - val_accuracy: 0.8217\n",
            "Epoch 30/100\n",
            "117/117 [==============================] - 2s 15ms/step - loss: 0.5005 - accuracy: 0.8216 - val_loss: 0.4617 - val_accuracy: 0.8200\n",
            "Epoch 31/100\n",
            "117/117 [==============================] - 2s 15ms/step - loss: 0.4976 - accuracy: 0.8235 - val_loss: 0.4620 - val_accuracy: 0.8183\n",
            "Epoch 32/100\n",
            "117/117 [==============================] - 2s 15ms/step - loss: 0.4926 - accuracy: 0.8241 - val_loss: 0.4548 - val_accuracy: 0.8200\n",
            "Epoch 33/100\n",
            "117/117 [==============================] - 2s 15ms/step - loss: 0.4882 - accuracy: 0.8281 - val_loss: 0.4521 - val_accuracy: 0.8200\n",
            "Epoch 34/100\n",
            "117/117 [==============================] - 2s 15ms/step - loss: 0.4847 - accuracy: 0.8283 - val_loss: 0.4510 - val_accuracy: 0.8217\n",
            "Epoch 35/100\n",
            "117/117 [==============================] - 2s 15ms/step - loss: 0.4822 - accuracy: 0.8296 - val_loss: 0.4470 - val_accuracy: 0.8200\n",
            "Epoch 36/100\n",
            "117/117 [==============================] - 2s 15ms/step - loss: 0.4790 - accuracy: 0.8300 - val_loss: 0.4449 - val_accuracy: 0.8233\n",
            "Epoch 37/100\n",
            "117/117 [==============================] - 2s 15ms/step - loss: 0.4731 - accuracy: 0.8317 - val_loss: 0.4397 - val_accuracy: 0.8267\n",
            "Epoch 38/100\n",
            "117/117 [==============================] - 2s 15ms/step - loss: 0.4720 - accuracy: 0.8332 - val_loss: 0.4404 - val_accuracy: 0.8300\n",
            "Epoch 39/100\n",
            "117/117 [==============================] - 2s 15ms/step - loss: 0.4678 - accuracy: 0.8345 - val_loss: 0.4348 - val_accuracy: 0.8333\n",
            "Epoch 40/100\n",
            "117/117 [==============================] - 2s 15ms/step - loss: 0.4648 - accuracy: 0.8355 - val_loss: 0.4355 - val_accuracy: 0.8317\n",
            "Epoch 41/100\n",
            "117/117 [==============================] - 2s 15ms/step - loss: 0.4625 - accuracy: 0.8368 - val_loss: 0.4280 - val_accuracy: 0.8333\n",
            "Epoch 42/100\n",
            "117/117 [==============================] - 2s 15ms/step - loss: 0.4597 - accuracy: 0.8369 - val_loss: 0.4318 - val_accuracy: 0.8333\n",
            "Epoch 43/100\n",
            "117/117 [==============================] - 2s 15ms/step - loss: 0.4568 - accuracy: 0.8383 - val_loss: 0.4278 - val_accuracy: 0.8333\n",
            "Epoch 44/100\n",
            "117/117 [==============================] - 2s 15ms/step - loss: 0.4548 - accuracy: 0.8393 - val_loss: 0.4233 - val_accuracy: 0.8283\n",
            "Epoch 45/100\n",
            "117/117 [==============================] - 2s 15ms/step - loss: 0.4522 - accuracy: 0.8393 - val_loss: 0.4193 - val_accuracy: 0.8400\n",
            "Epoch 46/100\n",
            "117/117 [==============================] - 3s 22ms/step - loss: 0.4495 - accuracy: 0.8401 - val_loss: 0.4194 - val_accuracy: 0.8333\n",
            "Epoch 47/100\n",
            "117/117 [==============================] - 2s 19ms/step - loss: 0.4455 - accuracy: 0.8422 - val_loss: 0.4180 - val_accuracy: 0.8400\n",
            "Epoch 48/100\n",
            "117/117 [==============================] - 2s 15ms/step - loss: 0.4463 - accuracy: 0.8426 - val_loss: 0.4139 - val_accuracy: 0.8350\n",
            "Epoch 49/100\n",
            "117/117 [==============================] - 2s 15ms/step - loss: 0.4421 - accuracy: 0.8435 - val_loss: 0.4128 - val_accuracy: 0.8383\n",
            "Epoch 50/100\n",
            "117/117 [==============================] - 2s 15ms/step - loss: 0.4419 - accuracy: 0.8438 - val_loss: 0.4103 - val_accuracy: 0.8383\n",
            "Epoch 51/100\n",
            "117/117 [==============================] - 2s 15ms/step - loss: 0.4406 - accuracy: 0.8449 - val_loss: 0.4102 - val_accuracy: 0.8383\n",
            "Epoch 52/100\n",
            "117/117 [==============================] - 2s 15ms/step - loss: 0.4361 - accuracy: 0.8439 - val_loss: 0.4110 - val_accuracy: 0.8383\n",
            "Epoch 53/100\n",
            "117/117 [==============================] - 2s 15ms/step - loss: 0.4345 - accuracy: 0.8459 - val_loss: 0.4084 - val_accuracy: 0.8383\n",
            "Epoch 54/100\n",
            "117/117 [==============================] - 2s 15ms/step - loss: 0.4335 - accuracy: 0.8472 - val_loss: 0.4045 - val_accuracy: 0.8450\n",
            "Epoch 55/100\n",
            "117/117 [==============================] - 2s 15ms/step - loss: 0.4315 - accuracy: 0.8476 - val_loss: 0.4034 - val_accuracy: 0.8500\n",
            "Epoch 56/100\n",
            "117/117 [==============================] - 2s 16ms/step - loss: 0.4298 - accuracy: 0.8490 - val_loss: 0.4002 - val_accuracy: 0.8450\n",
            "Epoch 57/100\n",
            "117/117 [==============================] - 2s 16ms/step - loss: 0.4273 - accuracy: 0.8477 - val_loss: 0.3980 - val_accuracy: 0.8417\n",
            "Epoch 58/100\n",
            "117/117 [==============================] - 2s 15ms/step - loss: 0.4263 - accuracy: 0.8482 - val_loss: 0.3999 - val_accuracy: 0.8433\n",
            "Epoch 59/100\n",
            "117/117 [==============================] - 3s 22ms/step - loss: 0.4238 - accuracy: 0.8495 - val_loss: 0.4006 - val_accuracy: 0.8400\n",
            "Epoch 60/100\n",
            "117/117 [==============================] - 2s 16ms/step - loss: 0.4231 - accuracy: 0.8493 - val_loss: 0.3969 - val_accuracy: 0.8450\n",
            "Epoch 61/100\n",
            "117/117 [==============================] - 2s 15ms/step - loss: 0.4203 - accuracy: 0.8507 - val_loss: 0.3981 - val_accuracy: 0.8433\n",
            "Epoch 62/100\n",
            "117/117 [==============================] - 2s 15ms/step - loss: 0.4185 - accuracy: 0.8517 - val_loss: 0.3930 - val_accuracy: 0.8417\n",
            "Epoch 63/100\n",
            "117/117 [==============================] - 2s 15ms/step - loss: 0.4189 - accuracy: 0.8518 - val_loss: 0.3907 - val_accuracy: 0.8433\n",
            "Epoch 64/100\n",
            "117/117 [==============================] - 2s 15ms/step - loss: 0.4174 - accuracy: 0.8523 - val_loss: 0.3927 - val_accuracy: 0.8417\n",
            "Epoch 65/100\n",
            "117/117 [==============================] - 2s 15ms/step - loss: 0.4166 - accuracy: 0.8525 - val_loss: 0.3933 - val_accuracy: 0.8450\n",
            "Epoch 66/100\n",
            "117/117 [==============================] - 2s 16ms/step - loss: 0.4136 - accuracy: 0.8538 - val_loss: 0.3896 - val_accuracy: 0.8400\n",
            "Epoch 67/100\n",
            "117/117 [==============================] - 2s 15ms/step - loss: 0.4112 - accuracy: 0.8538 - val_loss: 0.3864 - val_accuracy: 0.8417\n",
            "Epoch 68/100\n",
            "117/117 [==============================] - 2s 16ms/step - loss: 0.4095 - accuracy: 0.8556 - val_loss: 0.3847 - val_accuracy: 0.8450\n",
            "Epoch 69/100\n",
            "117/117 [==============================] - 2s 15ms/step - loss: 0.4083 - accuracy: 0.8559 - val_loss: 0.3848 - val_accuracy: 0.8500\n",
            "Epoch 70/100\n",
            "117/117 [==============================] - 2s 15ms/step - loss: 0.4075 - accuracy: 0.8547 - val_loss: 0.3856 - val_accuracy: 0.8467\n",
            "Epoch 71/100\n",
            "117/117 [==============================] - 2s 15ms/step - loss: 0.4056 - accuracy: 0.8564 - val_loss: 0.3817 - val_accuracy: 0.8450\n",
            "Epoch 72/100\n",
            "117/117 [==============================] - 2s 16ms/step - loss: 0.4050 - accuracy: 0.8564 - val_loss: 0.3821 - val_accuracy: 0.8467\n",
            "Epoch 73/100\n",
            "117/117 [==============================] - 2s 17ms/step - loss: 0.4031 - accuracy: 0.8574 - val_loss: 0.3835 - val_accuracy: 0.8483\n",
            "Epoch 74/100\n",
            "117/117 [==============================] - 2s 21ms/step - loss: 0.4007 - accuracy: 0.8585 - val_loss: 0.3815 - val_accuracy: 0.8450\n",
            "Epoch 75/100\n",
            "117/117 [==============================] - 2s 15ms/step - loss: 0.4004 - accuracy: 0.8567 - val_loss: 0.3787 - val_accuracy: 0.8467\n",
            "Epoch 76/100\n",
            "117/117 [==============================] - 2s 15ms/step - loss: 0.3999 - accuracy: 0.8578 - val_loss: 0.3782 - val_accuracy: 0.8467\n",
            "Epoch 77/100\n",
            "117/117 [==============================] - 2s 15ms/step - loss: 0.3990 - accuracy: 0.8577 - val_loss: 0.3785 - val_accuracy: 0.8483\n",
            "Epoch 78/100\n",
            "117/117 [==============================] - 2s 15ms/step - loss: 0.3987 - accuracy: 0.8584 - val_loss: 0.3757 - val_accuracy: 0.8450\n",
            "Epoch 79/100\n",
            "117/117 [==============================] - 2s 15ms/step - loss: 0.3977 - accuracy: 0.8592 - val_loss: 0.3747 - val_accuracy: 0.8450\n",
            "Epoch 80/100\n",
            "117/117 [==============================] - 2s 15ms/step - loss: 0.3961 - accuracy: 0.8592 - val_loss: 0.3768 - val_accuracy: 0.8450\n",
            "Epoch 81/100\n",
            "117/117 [==============================] - 2s 15ms/step - loss: 0.3943 - accuracy: 0.8608 - val_loss: 0.3716 - val_accuracy: 0.8467\n",
            "Epoch 82/100\n",
            "117/117 [==============================] - 2s 18ms/step - loss: 0.3931 - accuracy: 0.8605 - val_loss: 0.3715 - val_accuracy: 0.8467\n",
            "Epoch 83/100\n",
            "117/117 [==============================] - 3s 22ms/step - loss: 0.3898 - accuracy: 0.8616 - val_loss: 0.3709 - val_accuracy: 0.8450\n",
            "Epoch 84/100\n",
            "117/117 [==============================] - 2s 15ms/step - loss: 0.3905 - accuracy: 0.8615 - val_loss: 0.3742 - val_accuracy: 0.8417\n",
            "Epoch 85/100\n",
            "117/117 [==============================] - 2s 15ms/step - loss: 0.3909 - accuracy: 0.8609 - val_loss: 0.3696 - val_accuracy: 0.8467\n",
            "Epoch 86/100\n",
            "117/117 [==============================] - 2s 15ms/step - loss: 0.3876 - accuracy: 0.8628 - val_loss: 0.3701 - val_accuracy: 0.8467\n",
            "Epoch 87/100\n",
            "117/117 [==============================] - 2s 15ms/step - loss: 0.3883 - accuracy: 0.8629 - val_loss: 0.3703 - val_accuracy: 0.8517\n",
            "Epoch 88/100\n",
            "117/117 [==============================] - 2s 15ms/step - loss: 0.3871 - accuracy: 0.8619 - val_loss: 0.3675 - val_accuracy: 0.8500\n",
            "Epoch 89/100\n",
            "117/117 [==============================] - 2s 15ms/step - loss: 0.3861 - accuracy: 0.8635 - val_loss: 0.3668 - val_accuracy: 0.8450\n",
            "Epoch 90/100\n",
            "117/117 [==============================] - 3s 25ms/step - loss: 0.3827 - accuracy: 0.8638 - val_loss: 0.3667 - val_accuracy: 0.8550\n",
            "Epoch 91/100\n",
            "117/117 [==============================] - 2s 17ms/step - loss: 0.3828 - accuracy: 0.8635 - val_loss: 0.3659 - val_accuracy: 0.8500\n",
            "Epoch 92/100\n",
            "117/117 [==============================] - 2s 15ms/step - loss: 0.3831 - accuracy: 0.8619 - val_loss: 0.3650 - val_accuracy: 0.8533\n",
            "Epoch 93/100\n",
            "117/117 [==============================] - 2s 15ms/step - loss: 0.3793 - accuracy: 0.8662 - val_loss: 0.3649 - val_accuracy: 0.8533\n",
            "Epoch 94/100\n",
            "117/117 [==============================] - 2s 15ms/step - loss: 0.3801 - accuracy: 0.8649 - val_loss: 0.3630 - val_accuracy: 0.8417\n",
            "Epoch 95/100\n",
            "117/117 [==============================] - 2s 15ms/step - loss: 0.3800 - accuracy: 0.8666 - val_loss: 0.3636 - val_accuracy: 0.8500\n",
            "Epoch 96/100\n",
            "117/117 [==============================] - 2s 15ms/step - loss: 0.3770 - accuracy: 0.8654 - val_loss: 0.3630 - val_accuracy: 0.8550\n",
            "Epoch 97/100\n",
            "117/117 [==============================] - 2s 15ms/step - loss: 0.3785 - accuracy: 0.8662 - val_loss: 0.3652 - val_accuracy: 0.8467\n",
            "Epoch 98/100\n",
            "117/117 [==============================] - 2s 15ms/step - loss: 0.3778 - accuracy: 0.8665 - val_loss: 0.3603 - val_accuracy: 0.8483\n",
            "Epoch 99/100\n",
            "117/117 [==============================] - 2s 16ms/step - loss: 0.3758 - accuracy: 0.8674 - val_loss: 0.3599 - val_accuracy: 0.8500\n",
            "Epoch 100/100\n",
            "117/117 [==============================] - 3s 23ms/step - loss: 0.3749 - accuracy: 0.8658 - val_loss: 0.3589 - val_accuracy: 0.8433\n"
          ]
        }
      ]
    },
    {
      "cell_type": "code",
      "source": [
        "# loss 값을 plot 해보겠습니다.\n",
        "y_vloss = history4.history['val_loss']\n",
        "y_loss = history4.history['loss']\n",
        "x_len = np.arange(len(y_loss))\n",
        "\n",
        "plt.plot(x_len, y_vloss, marker='.', c='red', label=\"Validation-set Loss\")\n",
        "plt.plot(x_len, y_loss, marker='.', c='blue', label=\"Train-set Loss\")\n",
        "plt.legend(loc='upper right')\n",
        "plt.grid()\n",
        "plt.title('Loss graph with dropout layer') \n",
        "plt.ylim(0,1)\n",
        "plt.xlabel('epoch')\n",
        "plt.ylabel('loss')\n",
        "plt.show()"
      ],
      "metadata": {
        "colab": {
          "base_uri": "https://localhost:8080/",
          "height": 295
        },
        "id": "veqal_gv5ChN",
        "outputId": "298029f4-3ae3-492e-fe78-b0f7fd6816ce"
      },
      "execution_count": null,
      "outputs": [
        {
          "output_type": "display_data",
          "data": {
            "text/plain": [
              "<Figure size 432x288 with 1 Axes>"
            ],
            "image/png": "[encoded data removed]"
          },
          "metadata": {
            "needs_background": "light"
          }
        }
      ]
    },
    {
      "cell_type": "code",
      "source": [
        "# accuracy 값을 plot 해보겠습니다.\n",
        "y_vacc = history4.history['val_accuracy']\n",
        "y_acc = history4.history['accuracy']\n",
        "x_len = np.arange(len(y_acc))\n",
        "\n",
        "plt.plot(x_len, y_vacc, marker='.', c='red', label=\"Validation-set accuracy\")\n",
        "plt.plot(x_len, y_acc, marker='.', c='blue', label=\"Train-set accuracy\")\n",
        "plt.legend(loc='lower right')\n",
        "plt.grid()\n",
        "plt.ylim(0.5,1) \n",
        "plt.title('Accuracy graph with dropout layer') \n",
        "plt.xlabel('epoch')\n",
        "plt.ylabel('accuracy')\n",
        "plt.show()"
      ],
      "metadata": {
        "colab": {
          "base_uri": "https://localhost:8080/",
          "height": 295
        },
        "id": "aFI-kYAk5ED0",
        "outputId": "89bb3625-e19d-41d5-c1f4-cd6fed8a63f2"
      },
      "execution_count": null,
      "outputs": [
        {
          "output_type": "display_data",
          "data": {
            "text/plain": [
              "<Figure size 432x288 with 1 Axes>"
            ],
            "image/png": "[encoded data removed]"
          },
          "metadata": {
            "needs_background": "light"
          }
        }
      ]
    },
    {
      "cell_type": "markdown",
      "source": [
        "좋은 데이터를 가지고 오버피팅을 만드는 환경이 조금 어렵긴 했지만, Dropout layer 하나만으로도 오버피팅을 막고, 두 데이터 셋이 정확도도 비슷하게 나옴을 확인하였습니다. 사실 더 복잡한 네트워크나, 더 어려운 데이터의 경우에는 이러한 오버피팅이 더 자주 있는 일이므로, Dropout layer를 추가하는 경우가 많습니다. 하지만 이 또한 확률 값이 파라미터로 들어가므로, 어떠한 값을 선택하느냐는 데이터와 네트워크에 따라 달린 일입니다."
      ],
      "metadata": {
        "id": "CJXLM0IY5Iwj"
      }
    },
    {
      "cell_type": "markdown",
      "source": [
        "# 26-7. Batch Normalization\n",
        "\n",
        "- 아무것도 하지 않은 fully connected layer와 Batch Normalization layer를 추가한 두 실험을 비교\n",
        "\n",
        "-  중점적으로 봐야 할 내용은 정확도 비교와 속도의 차이\n",
        "\n",
        "[batch_normalization](https://arxiv.org/pdf/1502.03167.pdf)"
      ],
      "metadata": {
        "id": "tAX7T_SZ7hwX"
      }
    },
    {
      "cell_type": "markdown",
      "source": [
        "![batch.PNG](data:image/png;base64,iVBORw0KGgoAAAANSUhEUgAAAqQAAAI9CAYAAADsL2oiAAAAAXNSR0IArs4c6QAAAARnQU1BAACxjwv8YQUAAAAJcEhZcwAAEnQAABJ0Ad5mH3gAAFaASURBVHhe7d3/bxztv991/gxL/GIEMgdZ9kEhJ9xKE7XEd3vq4BN8g0sICSFyan2KsVJ9bG41iQK3TYrtHhHFuqXYhN4JoYmJjt3j01iyuA2GO5JpUrHSosYYzh3yQyxTRY6r0D1VpD2SpTfXNXPN7ny5Znb2m8e7+3xIo2RnZ2euuWZ29uVrZq75FwQAAADIEIEUAAAAmSKQAgAAIFMEUgAAAGSKQAoAAIBMEUgBAACQKQIpAAAAMkUgBQAAQKYIpAAAAMgUgRQAAACZIpACAAAgUwRSAAAAZIpACgC1+vRWlu9NyMg3fdLVPSEbn814VC+/KGe6T8vQpety5/Fr2SuY8QA6AoEUQIYOZev2sIxcPCv93T0q1PVI/zfq9aXyMHRKhZRrU/J0+9B85oTYX5Xx3h4Z+n5V3hOeGqa4/1rmBtS+MDAvua9mJIAT6WB7USYHTjvH7q5TgzI5uy7va/zeEkhr8WlVRlXlj66csB/INHLz7o6jhxurcmBGA9k6lLUb7n65kDOjPEcFyc0Oqvf6ZORBXopmdNYOVsZUma7L2r4ZgcZ54x6npn85KVsbrcr9no7J2iczAg1zsDYm/d2DsrBt/iL/8lYWnD8mF2XnyB1VjdYLpF6gms2bESmYABn7mUrvh7VsIM3LQkuWuxW4dVtTyK9y/8vNqmm75yWc245bYw/0CYFUO1L126vfvyBL78y4jLnbgR+6pjDH+VTHKv8f2YEh++8I0mnmMa2dA6lTb5k1LO3K0jm1/PtvzWtX8ZcZ5/s398aMqEJsIHU34sn7UpfKVU0gVZJ2+Kp32FYNpM6Bmx/QpvBCZS3fF+8HNeWBpdEHb2d+VX6ftGMNpL73v320a8Zly90OfJ+aooZAGt5v3O0Ttz+1rlq/rw3lHO8at+83+pjmRyBtks/rMm77jlbz3Q1puUDqHWSq/kImhLGqNyqBFBlq9MHbmV8LBdKRZx/MuGy524HvU1M0IJCW9pnMWpCao9bva0MRSE8Ep96y2r9jcpDbQnpBlmpoN6gukIZagdydyBtCO5M5SLiVZU5nekPgy1T+oQlWbPkzzgqXlh0ezHK992M3Ttzp6rjxCWI2xIlHIG0LjT14m+9fMwOpdyxIXEaFQOp9v3vHZOOE7L/udrCsf/6JczPWeecSAz2cliW96l49mHFDtzdbKCiZm8+8mxfU0D++rsrvO37rcd8My9NGZCVTV6mOsWZa237TzKCTjdq/rw3V4N+SZm6nTgqkbj3GHEO/7srTa/r7e1omAxe+e9/hy7L80YxKI5SDil8KUvhakO17fTKk9s9arv6uMZDGDP4wGDj4WobSF8p3QKsnkJaWF7dTm+WEA2vkixUKz7Z5WgJpeMdwmXlFDh7Bg7itzOX6N0Nk3mHhcge/gN6OGve+Zt2ZvXpPXH7Sss17ts9b6jG834R/kJwyOvVZXmZ4Godtf6lQh26du9siUF/e9gvNM/ilj/5QxM4vZj+xroeFOy8931C9x8y39L4z+PY1Wx2F94vI97j8vv9An7R+pX05sf7L34nIwfTTW1kY6ZOuU9fl6buTc5OLu87R71HJvlu/5++/dQ/OR/uyfKVHhn54LQc1XPB/MhQld/+CWm/fzVzbM84fCsu7DexqwOx3qb4TZtrYQOrtdymOCc6+6ozzHaNDx5vyED5u+77HgWWV95Hk44CW8NtQw/e1muNn6XvqDTHf18A6eIPvuBddh5iA5OPOM80xTUuoIwv/ccovvL7hMtrW0zqNrT7NtnKmD2yTmONFhe3mCG9/VTdrevmlOirXi+3zB2t35c7z17L1/K4M6S7qvpg3CptyR32m/wdznErLlMdZljl975Tr9+dl25t3leoIpOXx5Q3nm9Zfwb6dqjytt2F8O1dg54t+YQLTBr4A6dh2zPIXofzautP5y+bfEEZkGodZB39ZLZ9166pcBrecvrpUbOUqMXUdeD92XMwXwrDVR3S9fNIsO2a54fUML9vb3tF6npcFNfgXGaQ/F16e2XcS9hv/AapUdrO9FmbVOvjqIbqNovO3zs+2T5hxgX0igVtPevAv38zXV0Y9XWC7KNHtGV8vbvmD9XiQUwfBnFvO9OuXhimHmV9kGFEHuY9VHC7fLcp523wqDEOP055nKsrW9+ozvWobJITLnUe6d4DLsqyvMvikDto3V2XPNv1RQd4/X5StVujH9Iv6AetVP2D3XqtaKMrOg8sy96bBfyiY793ITykuz7Adgxz+fVv/v/IxwfteL8wGp033XTL7vh5C30P3mBX9ngS+8yl+G5K+r85yajx+Ro9n7rTROjVijunWdbCNC3HLHi5/9JiWro6CoscxU4eWbVdaXz3PcB1b1jmuPr1yOuvkm090G9nGRbebu2x7vQbXI15uY1O8Pxl3frwgdzbcV+4pdnOMqkZ4W3wtSKFoekTpvSxLNTQe1BxIAzuqqazAxrKN0yLzMDuHHhfz5S5vBN+0li9kReEK9OZXaV7hHTEyHzWJs2OGdwyzDuEdMjJdcAe0TxMnfh0iO7rlCxXlO1A665k0fdpl++ZZElxnr04jB0CnzOV1cOdbaR3sbAddv+iBSzPrGN4ekfJG68I+P7MOln29VBel705w8JYV2a4e87lIHfpF9oGYbWjZx8PSr18aphwx5T/YmlF/1es+P9ftge44qfC482xM+nuHVVkrHHSLatvqblD0j9bN65aD/qFsq/Az/tsJuVrjfp0Ft7uXCzL9YEZGnGDaeHtrE3Kme1DmtvalmLTNY/b7NMeK8DHBfV3hO+SJfJeix3tHUvl83xP79yZ0nKzwfY2U21l25eNn1d/ZyLq74uYTd6zwuOWqfExLV0dBkWXHlN2ZLrEOor9jcfUZe/wMLzvVdjPb3FK2qrebZ3dRhh7ofago2z/0Sf+tclhNLW4di29lTl+uVEPXT8cfSL0vrRrcFSn/EAUrNjyd5pvWEoIqC32Z43YGpbz+3hDdiSI7ZmTHCB+goju0x/m8N12p7uxlC0hYh8jOH34dx7f8xHquYtmR+nE+W37frW/LASk0nXsAsEwXw53eP8R/NnLgcsQcDCLrHtq3FPv8bOsQv1/YxNaBKVN4Pon7sqXcWlzZ/dKvXxrl73bcPr/37LLzvtsyl42dH801lBcfSi7laanim3n5Vn/mh2D3KEF6H0iu7xPlaN9sryqvO6tScfeFjP+eu19Mvor5fviPV/4h5oc66ZhQab9P/i6Fj/eGKV94v3bKUSpjyt+GxO9r3DGhXMbY76avDuO+fwGh47sr4TgWOV4GxZYrcExLW0dB4W0arHcfZ51CZTDLL2/v4PLTldsntC+k2m5x81Ji16WSIxUa9eec7vRq7Eovtlwq5N7T9VL9jU0dFkiDO4B1ZyiV27eOoZ3ItiHsO4ZZB6+svvqzDv7Ph6eNW99w2fzC7zmvw9vDxqt7yxfFr45lO3XvW1/3ix0/ePOJPQCElPff0DIT1t/+vtnnwtvWbJ/yukd/KOKWF10Ht75tBxyb2DoI75dmG/jrL7rN7D9waeo5/fqlUf5ul8sWov6qd4Jd95RsNfByxarpjvofXZb+tKelvqzLpC534g1Zeh+I3zdPIn3aT28v3dLSlBbSDX2t26DcefWhphbSsDTHhLh9Ot13KXS898SUz/meeMeV1L8NSd/X+MFbduJ3M+1vjuasU6iewscfv6T3lNhy+T+Xuo6Cgtu0fJyxD9503m+gGkr1EN2+qcrtF9oXUm03M6/w/qM5n49Z72SHsnFTlVsfU8fXq28d1RK26d6z4XL5q3D8gbQ03rJRAhVb3iHKK+zbmZK+LElKG9f2xbZ/2cM7kW1D2HeM8A7svrZtwCRe/Vg/l7BTRMrtvA5tDwt3XdxrnhLruZplm7p1p/X/3+XubzEHSh+3LipNZ6/n2B8bw/6+2SfC27a0H5nXln0nbnnRdahuv4itg8D2SLkvx0xXqa609OuXhilHoGwhH17IiHq/Urkcu0+cU/x6ftUM51P3cVqQjXH1mXOLsmPG2BVk69awLKy9cB4zGn9qTO8DKdbrpFA/ZCM3X8jGA32N7GCwJUT3MqCf7X/jiWytLcrCg3mZvKgvbziUnWfzMvdgRsYvTslG0hOuzGm/b39MsT0i+7RNumNC4jGg4nfJXUbl6VzucdY7rqQ9BiR9Xxt1/PSmSyiPs07heopZfy3pt0JJd0xLW0dB4W0arHc7e31G1y9duX1C+0Kq7ZZQd2nWJc7OgwmZ++GyzG3X+OdkQrl2Hqjvfw3Hs2MIpP4Cl390/PP1dn77uOAK26Z1lMpWYeOWdupV59/gQSJmhw8fUCwbwr5jxOzAVe9AMQdEh3nPMk+3rnz1YT2IhPinMesZPpCWVbFsxdmn9LTOfEPlqLgsl22+ETHzCh+Ywuzvx6xjZBnRbRS3vOg6VHegjauD4PJS7stx+5aZLqlMqdfPzCt5vzflCJQtaO+5e8q+67sXsmfGZcldz/j9SdM3DHiPO91T9dXf3Ve6mSBIb6+YeRV35elvhmX0XkI3Ud40PwZbKw9+npHRS6HwFzOtfNqU6WvDMvnTbnKL59EHWb5iWnu/qnLbHhXo/PFQDqrOjRO9av1MOfZeXpd+5xq2GCn2v5LIPm2R8phg36fTfpfc6eK+S+FlO/uP7zsRfm0X831t5PHTEbMcj7NO0f01bv5xxwpP2s+lq6OgyLJjyu5nX050+8bWp9keFfeZVNstZr9SwuV0y5Pue1PYuCv9V+KOpUXZ+WlCRq7NyFZcPXnr+DL0l6U6Pjy9FCxXWscSSG2D/fP2IVC5kWlN+byypagEb6NFd0rzJfTPw7bO3oawlKu8XmYn0oN/R/LmF9q5DlRAdj/qliEwb9vy/Myy/e972y9az0lfxCq+cJ60y9ac9Rhz7mCN/XJFypeXNd+8K5bHYfkCl/ab+PWPHLgcln1CM9ukvI7RA7h9frZ1cMsbu31DvP03MH1kO6Tcl5W4OvWW459Wr5P3Ou36Haiy2fb5IFPe0PI8hfyiXNUXyvtCTdbc9Yzfn4ofVmW819c9kun2qat3Rra/mnEleh+ImVdp3024Jsu6f5frNM13wfveJl4ScVSQbX0Xre9xgcXtGadHg6v+BxY4+5pvn9LL9O2LzrKS9gdTxlTfCTOtbb8pS3dMsO/Tab9LlmVoMeVz9h/bPEOfL/82uJK/r+Gypzl+uusXqGtTltj6j3vftg4ptqVbrtA0ts+lrCO/6Db1vhehelDzXjMj4j8TXHbctoitH8u+kGa7ed9N//y8ceV96FDNyx2X/F0w3i3K3Fbcn55mX1ZD7JPxvG2hu3x7Zw4YxX3ZfqAvZ1LrU8Nx+nhO2efKn4t81igvTw/uMq07qRKcNmXl+3ll8x8MSsobojSNWe/ScmJ2Nq+87uBbh/AByr9ze4PukkR/4FNecmoIlEENkR07IvyZ8A6uOOttGe/wPh/+csWN90uxbEd5vWO3WWm/KQ+jqv687RR7AAjz7avOoLdB4vp7+1X4fVPm8L4S3ie86Xzb2j4/2zq49Vd5G7u8fary9yC0XWz7siM4nfWgVxrm1WfddUy/fklMh+sXz0q/t4zes07H8t4wdEqNOzUok7Pr8r6mi52aw13P6PofbNx1T1mb9fFaAg9eTZTXUXeMf+mur5snvQ1i9k3dCnmxT86cOh3/vfGmGQ/2QuDcqR7uDSBmWtlfl8lTejm2cuTl6aVBOVMq/5hsOGXPy5LePma87hh/5LFaX2c/8+0D+rvn+w45+07kuOhjjgOpvhNm2ti68aQ4JsTt0+m+S2aa8HrFlM/Zf8LHlaTfhpJgWQJ1ZJblHyoeP2v8zQkeG/zzjK5DpW2T/pimpamjsrhtGl6WnmZ0pbzt3Loqv7f2KXqMt9anZvaNSB3G7asVtpsjNI2et7MOkX0oHX3GKf5580XJPRiWfnXMORPenz3eOv70WtbuXTbHBnVc+82ibNuOYynEBtK6lSrP9uUGgNbm/hg16vimA0HyvPRp70o/7I2w92ym/nU6zkAKoEq7snQuxfer+FqmKwXSBn5HCaQAUIPjDqT6dFzzj6WHsqbvvq2y/8AIAilwcpkbRCt+v9T3cDxuGgIpAJwMtd5JGlSQ3POHsnTvunPK68y1GVl6sBm90WB/VcaPof9V3WfquP9a0Fp83JS5W8PS3z0ok/c3JZd7IdP6Gdq9w+XX+lGwAxMy9zxv73XA/H6MrxFIgYYz36/4U/aK7mv4pu16dyP/0LkEyX6TZm0IpABQA/catOHqH7lXtQ/yVLdaxv0wNErhtUyPxzza9Ji5jzOsfO0hgBr8+kSGeqdkK+HhHu9/0jewxv8JXNiYUt/R6ju/T9K8QAoA7Uw/m173LXrzheykfGoTKiu8W5U7A6peR17I+xMQjgEcDwIpANSqsCsbD6Zk1LkDfcLceY6a5BfljNPDwoQsrOTlgDAKdBQCKQAAADJFIAUAAECmCKQAAADIFIEUAAAAmSKQAgAAIFMEUgAAAGSKQAoAAIBMEUgBAACQKQIpAAAAMkUgBQAAQKYIpAAAAMgUgRQAAACZIpACAAAgUwRSAAAAZIpACgAAgEwRSAEAAJApAikAAAAyRSAFAABApgikAAAAyBSBFAAAAJkikAIAACBTBFIAAABkikAKAACATBFIAQAAkCkCKQAAADJFIAUAAECmCKQAAADIFIEUAAAAmSKQov18fCvbH4vmRT2K8v7n17J3ZF4CAICmIJDW4uhQtp/PyOTFs9Lf3SOTrw7NG8jc/qpMjq82LkSq+Y3fjJvfoWyM90j/N8My8pt5WcuxHwAAUAsCabWO9mXtZp90DdyVtd2CGdli8k9k5NKwDJ3qkS4VqLu6T8uQeq3HOYMK2mdUyJqcXZf3kVXMy1M9zTeqDpzPqkB277WE2yMPNu765q+G3rMy8jhv3m2Sr3lZGBiTtX3zukH2Xo7J0Gw+so4lRwXZeTam/jjpk/GVBi8cAIAOQCCt1qdVGVUBa/RlGwSP3LwbFm+syoEZVfJxVcZ71XunJmTDuqqHsnbDC5x9Mv2LPa69/+myE1gLx3Dae+fRoHz746551UBHu7J0blCWEmet/lC5ouri0gvZM2MAAEA6KQKpP3h4w7zkzLs188LQbJNbzUq89RiTtU9mVC1MuUdX2uD0bFIgVQ5Wxtz3x9cl2has63NMnj6bcS5b6Dqn9omv5i0/tYxjqasv6zLZfVmWP5rXDbb3/HJMPXi8/asB3w0AADpMciD1AkvMUE/QKIWdYwukeVlwyk0gLakQSMvbf0q2IknMDaRrn4qyfc89fW89rX1MgdQJjHHr0QgfX8jVxMBLIAUAoFbxgdScmnYDif9H1vvh1UPt4S43a+ZxXIG0tD4E0pLUgXRGtiNJ0wuk6r9fNuWOPr3fPSgL+dCExxJI3X1y5NkH87oZPsjypaTtTiAFAKBWsYG01IJpDXBea6MaSoHSF1QDAac8rfNjHgi6/sH8kJfe16/94VcNoeAUV8ZS2DXTl16HBi9ceO8vpEkScYFU3yhk7rp35n9qUJ6aqtn58XRpmf3fLMqOOzp7iYG0qOrlgvP+0APbDT2+QKoUNqbcdR94KDv+iY8jkBZUIFbLnntjXns+b8p04OatPrdHhMA+2CfnLz5JtU1y99X0tzZjTtsTSAEAqFVMIPUFwZgWzHLI836AGx1IYwbfvBsTSMvlThWc4gKp4Zw67j4rC4Fq0ze8XJC57fgrEDMRF0iPCvJ+5a4MqbA2cnsztssjfyDVrzd07wNqfkOPfHf/HEcgzT9UYfh6/N31X9/K3Dm1nldWSzccbf+g/ji4+cLSi0C8vZfXpetc3B8UBFIAAGoVE0hDIdIiGgZTBlKHb9pw4A0E0vKPe3l55ZbMtIHU4YUva4tvesWtu2oeffGtqc61hirs/PC23Kp4pOrgO//d1x/k6UBfujv13y3Keafc1Q1Dj1PcbV6qE9twViaf7ybcHR8OpMqndffOfH2tpXf2/BgCqW6dtV/nWua24JreAIpqe4yofSt0E9b7x4PS7wutYe7+Zrt8wZWb1YH8rmzZbu4CAACxag6k0YDX+EAaDH3R+Rx3IC28e6ECV5+MWE9hewpOZ+ldveXgUtyekdHn/vB5KBu/HZbpnzNuMfXqJNxCqhV2ZVm3ePZelqW8rZyWQKrsqW3inLrXAVyH2XoDacwfKH7uflCpZdK04J6bkYUfVN1buqk6eDUlI/fiTskrTn0l7D+6H9SLfU7L684XMw4AAFR0oltIg4E0+pljC6T5RTnjfHZYFt5UDpFui12P3NnQ0+q70GtY5nFICqTa19cyHW7xLLEHUufBAWY7OS3AdQVSd98JtIhbypoukCr7Zt8aqbGv0EqBVNNP8bo/7NbrqRN0vTAAACdY5WtIY8JK+bpMLwi0cSA1CrlFudrbJ1cf7Sa0kCrFtzKng5zut1L3j5nYf2WGKgVSVeqtW25dfuu/LtQRE0g1L/j1qvdf1hFInX3BFzTDr43UgdTp4F6vj6U3gDQqBdKvav4jfdI/sig5WkgBAEgtJpDGhz1XOWT6A6U1CDYqkPrGl+YTEzKbFUi1wqsJNY8LFZ7aU5TtH/T1hGOyMDsmk6+CcfRgY0rO68AaXneb3ScyZNa7muF8JEBaVAykunXXzDNS1oRAqujHberP9asAH93u5c852ypu+eEAqstrqbO0gXTn0bCMP1+XhQG1zIFF2fFfH/t5U+44j0ONn0/xlxmn7BufzYgQ94a2CdkgjAIAUJXYQBoInYEfaV+YjAuCvunL4/yB1D6twxc8rWHXv8xSyPSFV9+4QNCxBVrDm3d4vJWZf8Vp3y3Kt87y7DfBOHdspwmkzVQpkHotvd19MhdZieRAKkcfZPm7UL2qbbCg/+/9a/alYEu4jxdIvW0XV05nPRLKon14IaM3153PF9X0OuQHegPQnJbd+ECaHHy970X85wEAgF1CIFX84c4yRIJEhekDIS4yrfkh9wVH2xAMgv7QbBkCAcYfpN3BndehCqRua15sMPIz5a4YSM3p4cDd9j5OuDnJgfRoXza+H3Tetz6BSa3f00vD8jSpIVaFQN3jQLSu1LZYUeuut3VcyNS8QGpeRl571HJGklqtv7x1WkXL/ZTqFuyzat1C18bGzd/YedAX6DoqiEAKAECtkgOpIxrkkn50y6f6y9PFtUAGpzWB0BdIF3LBwGkNgb7pS/OIDVqhAJsUhuKkDaRK7r4KSe/Mi5BMA6nuxD/QYXyPnBkYdsY5g9PBf5+cH5mSp9vh9cyrIDpobvIqf9Z7CEDY3rPL1rrKrayqYSz5j4BIQHT3xcj8dLdavd5NZD56PQfKDyXoMi2k5ZvU9KA7xjflTwyk+i5927W0HgIpAAC1ShFIj1kgkJpxJ0k1LaTfha5T9DkRLaQZOliZl9EbFcJb2kDqXet6/615XaOkQFp8LdNJ/c8SSAEAqBmBtFpxgdQ8z917zGa079GgTg+kuh6jwTLUP6vZF0r7gfPafq2oru/+XhUGYzvyTyEhkDrz109pSnxQAIEUAIBaEEir5Tym0hJITVdHzjWjhbeycE0Fk5gn9uz9/FCmR/qka2BCnuZOZIdQzZdbtQRL9wlW/d+bzulNQFzw3RgXu0/oFmn12ejNVyl93JSl25fVth2UyZ/yoW66dAtsn1xN+AOjFEh7H9L3KAAAVSKQVsuUb+RZuKf4ouw8HpORi8My9N1d2UrxVNBOpq8rtm/fQ9lYMafeE1osbZy7570nRDWSvjlrQAXNxKz7QZYvqf22luuSAQDocCcvkJ545hGUvWOy/K5DWzfr5t5cZg2k+6uy7LVyVhlI9R8FudlhGV9p4F8DzpOnBpP7nS3uy/YDt3V1+hf2CQAAqkUgrcVRQd6/eih3rrl3qk++qnCDE0J0ILVdC1qQ3M++Lqb09brVtjiqbZObvV7bk5giirLzQM0rFzcv9cfJuNvLwOhvn8jWB8IoAAC1IJACAAAgUwRSAAAAZIpACgAAgEwRSAEAAJApAikAAAAyRSAFAABApgikAAAAyBSBFAAAAJkikAIAACBTBFIAAABkikAKAACATBFIAQAAkCkCKQAAADJFIAUAAECmCKQAAADIFIEUAAAAmSKQAgAAIFMEUgAAAGSKQAoAAIBMEUgBAACQKQIpAAAAMkUgBQAAQKYIpAAAAMgUgRQAAACZIpACAAAgUwRSAAAAZIpACgAAgEwRSAEAAJApAikAAAAyRSAFAABApgikAAAAyBSB1ObTqox290iXGhZyZlyWcvNOWbq6x2TtkxkHAADQJlIF0tysG866uuclk3xWCmS1BcSqy9+UQJqXhWrK4EcgBQAAbaxCID2UtRtemKsxTDXAwcpYqQyjK4dmbFr+dUgZ6JoRSEvzJJACAAD4JQTScBitMUy1omYE0lKoJJACAAD4xQbSwGnuesKU4s3Lad30hT09eIHP3wradWNVDtzRLlsg88Y504bCc+jzpXUJzzdOIJAmz9sRWidnmM2bN23B3h0CYTcyD8u6OuNSlKekPK2zrNJ89FCef3lbq6FUbj/vcgNvsO0H4WnUEC5baR3dzweWm7hveetBIAcAoB0lnrLPrZhA0aBAWtXgD0ZJgTRu8H2+nkBqHXzzCQTp8OCUoXIgjZ2Ht5wq1jUoftlJQ+CyiNi68O0LSeXz13kV9RpUDrsNa7EGAAAnRqqbmhoZSEthJxBibK11tsATE0hLQcYXwHzhpr5AWi6HPziWg5FeZrBeytPZPhuqQ/+yfOU7yOXLZa1iXYOCgdQegL3y2ObnG2cL+IFxodZL2zaLqVfrNgcAAB3jeANpIDiVW70CLXKJ4bPCOMUW/CLLj2ups7wfbJGLKXOYpWxxgTQ2qPpVsa5B9kAZt36R+ZWmC83fGx8bhBXbMuLqNWb9AABAZyCQ+oeKgTQm4JXKEh7KZYsLj/a6CaliXYPqDKSx6+UNvuXG1akaCKQAACBJZwbSSqoJpKVymEEvw1I2e3j0ze8EBtLy67jBLDcSRtV42zIIpAAAwIJAahMXnHzjvTKX5m1tMS2XLS48Vg6VShXrGlRnC2lpuuByw0qf89evbRlx9RqzfgAAoDPUHUjTBKpWDqT+IFeaT2mZ9sBXLoOtvPEhN1C+3GpN6xpUZyBNaMH133RlrV/b+tYcSMvlCHwOAAC0hYRA6gsjkcESyNQQFxZaOpBaBn95y8uzDf6yldfXG7z6ip2HV94q1jWo3kCqJNRFqR5K5bMPpWXUHUjj3gcAAK2szkCaJhTFBcJWCKR6HsEgGSirI1xPujzeZ4Jli4Q7f0iMhDq17E+H2QdSh2VfUPM7UOXzlOrYDP4HCtQfSAEAQDtLd8oeAAAAaBICKQAAADJFIAUAAECmCKQAAADIFIEUAAAAmSKQAgAAIFMEUgAAAGSKQAoAAIBMEUgBAACQKQIpAAAAMkUgBQAAQKYIpAAAAMgUgRQAAACZIpACAAAgUwRSAAAAZIpACgAAgEwRSAEAAJApAikAAAAyRSAFAABApgikAAAAyBSBFAAAAJkikAIAACBTBFIAAABkikAKAACATBFIAQAAkCkCKQAAADJFIAUAAECmCKQAAADIFIEUAAAAmSKQAgDQKJ83ZXrgtHR1z8vGmyeyMLso0yNnZXJtX/Z+fihzfzgvkyOXZSlXNB8AoBFIAQBopOJrme7ukzsbBff1hxcy0jsoC29MCH0zL1031+XAfQVAIZACANBQeVnoHpO1T+blp1UZ7Z6XnHkpORVIb6wSSAEfAikAAA1FIAWqRSAFAHSkYtMu4ySQAtUikAIAOsuXD7Jxf1jGVw7NiEYjkALVIpACADrC+5cTMjoyLJO3xuTb7h4ZbUYgLeRl+d51OdPdJ1dvv5BcblPmbg1Lf/dpGb1nXv9mULp6L8v0g03ZMx8DOh2BFADQWZwWyyYFUgA1IZACADoLgRQ4cQikAIDOQiAFThwCKQCgsxBIgROHQAoA6CwEUuDEIZACADoLgRQ4cQikAIDOUmcg3XnQJ13q8+7QJ+cvDsvIpRTDwGnf5+zDtz/umqUAnYVACgDoLPW2kH59K3PnyiHy6rMP5o3qFL8cyvvcuizfG5PzvWZ+vTOy3bQnSAEnF4EUANBZGnDKvpiblyETSLu6B2UhV2eKPDqU7R91h/o9MvmqYEYCnYNACgDoLA26hnTn0WCplbRrYF5yX80bdSi8UUH33KLsHJkRQIcgkAIAOsLBxt3gtZy9Z831nU9kx0xTlaN9WbtZvp60/9amNKJtc+/lmMxx3h4dhkAKAECt9ldl3Lv+s7tPxlf2zRt1OCpKoQGtrUArIZACAFCH4i8z0m9aSbu6x2StAZkU6DQEUgBAdo6KUmz56yWLkpv1X0/6UHY44w5UhUAKAMjM3su7slxbr0kny9GuLA14raQ9MjSbVzEVQFoEUgDoeIeydkMFKRWiysy4G6tyYMY03r4s31ys7Yaikyh0Pen0L0RSIC0CKQB0vHSBdOfxsIxcPCv94acTXRyTpTfVd6FU2Lgrdzbaq8/NvZWx8vWkvQ2+nvTzpkyr+h465c6//xsd5s12cpanew0wPQYUNuVO72mZe0MoRmsgkAJAx6uihdTpw1MFrU/mtbavxw3KQj59+Cm+W5TJB+14Wrso2/d8XUHdXJW9Rl8j69S3rx/V3Hx0OcW8LF27Lk95EilaBIEUADpenYFU9mXtSvjzMQofZEs/kejijKz98la2t6sf3n828zqpvuZlwXc9aa2PFk2y9+yydPVOydaXgmx9P8Gd/Wh5BFIA6Hj1BtIPsnypR/ofpAik+hGZjydk6PemZLnJgdQLhLUO9SjmH5YeLdp/cbHxd92bm6j6T52W8ZekUbQ+AikAdLz6Amlhe16+PTUhG4GQmqz46wuZvLUenHebef94sGGPFLUpvpmX890XrNeJ7qhl6+fi1/t4VOC4EEgBoOOZ8Hn/rXmtmdPw1kB6WkZuTqlAqYbxMRkZuStbH6tvAtQdyrfbTU0l+o77Uw2+qSlAX6t6XUav9EnXOXvozd0nkKJ1EEgBoOOZQNo7JsvvDqXw8a0s/fBElr5X4y49kfdHh7K1Ze6OsZ2yd66ZrOWxmabbp5bvGD/EqY9BWcg175YtHeZH9bWpX1/LdG+PDFluEMvNEkjROgikANDxVCC9NyXT105LV/dpGZ197dyxXdx9IqOndPdCU+XT8dZrSPVNNsMq0M7IdpUZbO/lhCy1053gX3dlaWRY7mw08brOwluZ062iJsgXNqak39LLAYEUrYRACgAdLy8LV1Zlz7xKFBdIX15XYXZKtqo9A98Wjw41jvZl7ebpGlqKU8o/kZFL7rWhuuP9yVc6bB7K1i39h4Ru4db9kA7LU3MpMIEUrYRACgCdzgmZKVs3bYH06IM8/a5H+m9tSpteEZqC+zz7k/TIUAIpWgmBFAA63Zt5p8VtoUKvTbFPahoYlKv31hvfAXwL0U9oOtOoTvC/5GVtu54gWZDc83mZ1N1COTecmdHACUYgBYBO9+sTGeodlqe/mteoihtGX8j7hnTvVJTc/cuy9M68BDoEgRQAgBoVc/My1Ki+Ro8KsvPosvRfepHuel6gjRBIAQBtKC9PLw3L+V59A5AKjJ/fytJvr8uovimo96yMP96VQmFX1n4Yk6tquqFvzsrVe5vVnXJvYF+jhXfrsuD0ctAjV5838Q594IQikAIA2pbTHVX3oIzcLl/fWXg14Vwz239RBVXvLqxfn8iICoOpO+ovvJWFgbMyvbEvhS+F6oaPu84jULdWnsjSvQkZOqVDszdEezAAOgGBFADQtg5WxlTIG5blD2aEltM3cfXI5Ct/+MzLghqX6q50p+N7f4hs4DC+3sE9FaCTEUgBAG3LDaTzkjOvHSaQLgRGpg+kB9tPZOnBw6YMy6UmW6CzEEgBAG2rGYEUQOMRSAEAbYtACrQGAikAoG0RSIHWQCAFALStagPpt492zeuUCptyp/e0zL2p8YGhRwV5/3xRtj6b10CHIpACANqQ2w+p26WS+6jT6Y28bN0elpFv+pxA2v+N+v/tTdnZuGseiaqmPTUoI5eeyI6ZS0XFvCxduy5Pq8yxIoeyPTsm47+dkKt09QQQSAEAyI5umSWQAgRSAAAyQyAFNAIpAAA12nk8KGfquhmKQApoBFIAAOqQu18OpO9fTsnkreRh7mf/s+oJpIBGIAUAoA65WVpIgXoRSAEAqAOBFKgfgRQAgDr4Aymn7IHaEEgBAKgDLaRA/QikAADUpCC55/MyOdAj/SN3ZeujGZ2K/uxDWbp33blL/8y1GVl6sCl75l2g0xBIAQAAkCkCKQAAADJFIAUAAECmCKQAAADIFIEUAAAAmSKQAgAAIFMEUgAAAGSKQAoAAIBMEUgBAACQKQIpAAAAMkUgBQAAQKYIpAAAAMgUgRQAAACZIpACAAAgUwRSAAAAZIpACgAAgEwRSAEAAJApAikAAAAyRSAFAABApgikAAAAyBSBFAAAAJkikAIAACBTBFIAAABkikAKAACATBFIAQAAkCkCKQAAADJFIAUAAECmCKQAAADIFIEUAAAAmSKQAgAAIFMEUgAAAGSKQGrzaVVGu3ukSw0LOTMuS7l5pyxd3WOy9smMAwAAaBMVAumhrN1wg5k3jK4cmveOUSmQ1RYQc7Ne+ecl1cebEkjzslBNGfxaIJBWXccAAABGfCD1hbLIMJs3Ex2Pg5Wx0rKrD8T+UJ0y0DUjkJbm2Y6BtIY6BgAAMGIDaanF68aqHJhx5WDY5qGjGYG0FCrbs4UUAACgVjGB1Du9HA5kceOTeeHWad0Mtbx68/G3gvpDsMMWyLxxzrShSwtCn7eF60SBQJo8b0donZyh1IocvezBGwJ1GJmHZV2dcSnK4yhvq0iLtiVwl0+5e0M4/JaXqz/j3176dVwdB7arb/qy4HzL62qb1kiqK4dv3Z2hwh8B3jKPueUfAAC4qrypqb5AWtXgDwdJgTRu8H2+nkBqHXzzsQWu0uCUoXIgjZ2Ht5wq1tWvPN9gICuNd+YfDm/+wR/0fMFx1l8ed97ROo5fbz2U95/k6cJhs2JdxW67+FAarA8AAHDcqgqkcQGnEn8gLV0DGghZ5dBRnta3jEqB1BaCfOGivkBaLoc/DAUDVbA+bPUUW3f+ZfnKd5DLl8taxboG+Obt/wOiVB9ekFXzD16bWw6p5fHB4Bi+ltdax3r5gbDsm0dpfHC+pXL61rk0rmJd2eZvWV8AAHCipA+kMeEmDXsgtIUeJTF8Vhin2IJfZPn+YOMfLO8H1zWmzGGWssUF0tig6lfFugaVA1q5vGlauSsEx8B2dNm3cVR0OnuItNV1xfUtbbfQ+974CmUDAADZSBdI/QGuhlam9gmkMeGpVJbwUDmQpgpyNQdS3zTe/Evz8n/Gt17hwRZILftA3HqUxoeH0nTpA2nFuordDt4QX08AACA7lQNpnWFUsweJDANpJdUE0nAI0suwlM0eHn3zSypbFesaUVoX97Olz9iCphkCN3LZprPsB7Y6DodRvZ2j08XNN7x/VK6rcn3EDQRSAABOouRA2oAwqrVNIPWNj7Ta+esndSBNGSrrCaS+IOcPmqX1CgVWly0kxgVHV7SOy9vXX4e1B9IU62tdFwAAcNLFB1J/GE0IcmlCUSsHUn9IKs2ntEx7mCqXwVbe+JAbKF9utaZ1tSlNNztv6tw3vXXe5W1TcyD1rVd5fX3zKK1r+kBaua5s83cFbhIL8+og9BkAAHA87IHU/8MfM7ghwRcA1BAIWj4tHUgtg7+85eXZhpiQZwavvmLn4ZW3inW1Cq9PTPCzDrUG0tC+ERls01UKpErFukrYdoH9zEdfYuF8xrJeAACg+eyBtBSA4gfvxz1NKGrdQKrnEQxs0VATDl66PN5ngmVLDIaROlfL/nTolreKdbWr8IdDeNmqXKV5l8pYbSBVwuur3/OWVZquukDqSKorR3ibqEGvk5oGAACcPJVvagIAAACaiEAKAACATBFIAQAAkCkCKQAAADJFIAUAAECmCKQAAADIFIEUAAAAmSKQAgAAIFMEUgAAAGSKQAoAAIBMEUgBAACQKQIpAAAAMkUgBQAAQKYIpAAAAMgUgRQAAACZIpACAAAgUwRSAAAAZIpACgAAgEwRSAEAAJApAikAAAAyRSAFAABApgikAAAAyBSBFAAAAJkikAIAACBTBFIAAABkikAKAACATBFIAQAAkCkCKQAAADJFIAUAAECmCKQAAADIFIEUANC2dh4Py/neHhn96bVs/DgvC/cnZOTiQ8l92pXl+/OydG9MRm6ty96R+QCATBBIAQBtbe/ZsHQNLMqOEzqLsn2vR/pvrpoQui9rV/pkIa//DyArBFIAQFs7WBmTrtly4szN9sjoyqF5dShrN3pkIWdeAsgEgRQA0NYIpMDJRyAFAGSvWDT/aTwCKXDyEUgBANk5KspB7olMnpqXZmVCAilw8hFIAQDH7/NrWbh5XUauTcnkdz3S1d2cQLr387xMXuyTroEJmfs5L7nnMzJ6qkf6L06Z13flam+PDP1mXpZzBfMpAMeNQAoAyJRusWxWIAXQGgikAIBMEUgBEEgBAJkikAIgkAIAMkUgBUAgBQBkikAKgEAKAK3s6648Hb8sIwNn5fzNJ7Lz1YxvIQRSAARSAGhZRRXm7srGF/P/+xek/+a6HDjvtY66AunndRnv1p83w6lBGbk0nGo43+v7nHWYMHULoNkIpADQqoqvZfrGajmA7i7Kt93XZW3fvG4R9baQ7r0cK4fI3hnZrqWVuFiQwsdd2Vp5KHe+O12a39XnLVaZQIsikAJAq1IB9OqjXfNC2V+V0e4+WSg/lKgl1H3K/mhf1m72lUJk/81V2Tsy79WosLsq07pD/XOLslPnvABURiAFgFaVfyj93YPy9Ff3ZfGXGRXIpmSrxR441JBrSL9syp3SKfg+GV9pQMumCbqTrxIq9GteFm6q0Nq8R/GfbB9eyJ0f89Kpq4/GIZACQKsq5mXp2pRsfNIv3GeyD/lbTE+0vDwNXct5ZsB9Pb3hPWe+OsXcvAyZVtIuFdSXGlEVX9/K3M0XsmdeBujAOj7RcpdINNrB2piMtMx+h5OKQAoAbaCwMSVnGnCqurXpm7wGTSBVw8C85BrR68DXghQt9br37LJcffbBvOpk+o+hBv0BgI5FIAWAVre/KpPjnR5GjaMPsvyd10raI9/ef9uc08lfX8t0L3fhe4rbM9I/vi4tdrUIThACKQC0sqNdWbrmawn88kH26kgFxa9tcDWgCujj/utJ12q7BCBJ4dWEdN17zbWTnuJbmeu9LMsfzWugSgRSAGhZ+hT1hCy8ei3b22+dYeMP52Xjs3m7WkcqVLRJyNKXMPR7p+57xxp8nad7vW4zgm7rKsjWrR4Z4RIG1IhACgAnUOHNE7lzbVDOeKHKP3h9jzp32Yfe630oO84cqqdPu97ZaJeTrqHrSb970bhLGnT/r90XotdM5p8Eb9K6tam2U14WvDLoTvtv63EZyc2rcqhw7twEZzjjemShAY/J2ns2LF1qnTltj1oQSAHghNF3LeugeebajCy/eivbK/Myfm+11Aq6nd9vfCumc+q/zfrc1F0yDZgwqIah2QZ1T+T09xoKdj7FN/PyrQqsCzl3aQcrY2rZb6Xgq9vCz3el/9S8mEmOR5pA6gvV/d/4nmx1cVjGfwyuQ5hulXb6bTWvgWoQSAHgJHGuxYvejHOwNiFXHzSpv8ejfdm6fbc9uy/68EKumkCqu4LyQmJdnBCX1G9qUbbv9UnXgA74oWt8jWJ+UUavPTnePwBSt5C6lySMrvguSdBdXOluxZL2wYr1AsQjkALASWJOw0dOoepgc65Ppn8xceDzpkxfGpahU+ZUsK8l6+q9VXmfsrujg9wLmb54QcYfbZZbYKsZck1orW2wvRW3xdkJpbU+WtQvTfAyHfWfOTUsc29qraGiHOQtdR4z5D5WWE49gVTZe3k9eb2debXegxlwMhBIAeAksQYEV+6+ClQ31wPXIDpPOZr1Pyu0qKa7IP2h6eIUdtdlbqRPrv5hcwOp20JZ+1CfQ9koPVr0tEzW2PF+SZpAqrgBTgXAmlueT1gg1deIJl2jTCBFHQikAHCSfNLXJ/ZYby5yAmkoEEQDqfLGEjySHB3K9v0xWcqf9LbOOhQ25U6jHimaJpDq/lCvXJdR3SfqjXAfsXl5OnC6um3UCPUE0sJbmTunwvyrhDCfpl6AGARSADhRdPc5fdG7wp1T9irchO5itgVS95n2Y9V1/6QD1Hib3dRU4t5x37Cbmj68kJEKYXLv2XX38grnGlZLX6i6i61MAun1YIut88eLPZCeuTQmk7em1DAhoxcvy/TP+9YnVnm4qQn1IJACwEnzaVPuDPTI0PfrsqcT1FHB7cLI0p9mJJAe7cvyjT4Z+bH68OV0+/Sq/c636mtIG/pY1bhunzwfX8joFbU883LnkbvtNgLhU3cHlUUgVfvVD69l78uh7Kw8lIXH826L/JbaW/KvZdvZ/LZT9m6o70+oR7p9Qj0IpABwEhV2Ze3eZdOn5Wm5+tsnsm0JL04gHbhuWrKmZHxkWCYf5xO754mlW+3aLFDsbdyVkZFF2WnEM+1L3MAWbvU80Mu6eNbcQHValpy/E/Ky9I25ftW5+eyubDkt19kE0tHvVRl1l04Xp2Q5r7f0oWzdHlZlVvvYI++PGPs1pG7LcJ/Mbdv+1HE7xo98BkiJQAoALcx2yt65q3xgPtLVUBpt8ehQo6gC2FCN9VDJ3vPLdT469PgDqe4Pde6NeZEoJpA6/a/ar2/m0aGoF4EUAFqY9aYm55Ryj1x93o4di6akn2d/KnqJQ8M43TpNyMYX87pqxx9Ic7N9KR/taQ+k739SIbx3SrYs66wv9+gfX+d0PWpGIAWAFmYNpM4NMz3y7aO4ixzbnPOEpgZ1gq+831iX95ZZ7T27LFdreXZ7IS/L9ydkqLtPrt7eLF1r2lz7snZF7SuVugOLfVLToAyNzMiGtQVUB9jB+GtqgRQIpADQwmyBtLA1I/3dHRoQTBid+6VB1zLq09RxLX/66UXjEy3yhKuCbH3fJ2duv254K6Z+1O1oLcEc8CGQAkArintS06VBGRqYkKfODSsdRgfEm6cb09eo9nHd6e2g9HQsGx2Aby7KTvtceludDy/kTg09OgBhBFIAQNM5d6A7ncHraxM/yPuVGRm/cllGvumTM9/NyNZ+UQ62F2VyRI27eFbO61D9rpqY08C+Rov7sv14yrkb3XnUKGkLaDoCKQDgeJibrb4duF6+vtPr8L/3tEy+9Fo2i7L1vRpXRSfrey/HpH/kiex8LkjhSzXDobzP6Udvrsvyg3m5M+J12+QO/eHrcwE0BYEUAHBM9J3lKugFukty7+h2wqev71TdRVHax1A63Vz5QmTjhguy9M4sBEBTEUgBAMfEDaTB7oRMIL2xGrj7O3UgLX6QjQcPZakpw3HdAQ+AQAoAOCZNCKQA2gKBFABwTAikAOwIpACAY0IgBWBHIAUAHJNqA+mUbFXZner7x4PSf2W19ms/P72WhWfcWQ8cNwIpAKDpnH5IL5oulZyO/J/IjvOYykE5o8d1n5ahS8PyNJ+Xp16H/919cv7isExv+ANssoNXUzJyb7P6pxHtrsr4lQmZvHkh+ihWAE1HIAUAwHBaZgmkwLEjkAIAYBBIgWwQSAEA7eHzptz5pq+um6EIpEA2CKQAgPaxvyqjXiD9/FoWbk3JZOLwRHZ8z6onkALZIJACANrHJ18grQGBFMgGgRQA0D4IpEBLIpACANqHP5Byyh5oGQRSAED7oIUUaEkEUgBAe/i4KUu3L0t/96BM/pSvrnN8/dkH8zJ5sU+6eodl8v5DWc5V3b0+gBoRSAEAAJApAikAAAAyRSAFAABApgikAAAAyBSBFAAAAJkikAIAACBTBFIAAABkikAKAACATBFIAQAAkCkCKQAAADJFIAUAAECmCKQAAADIFIEUAAAAmSKQAgAAIFMEUgAAAGSKQAoAAIBMEUgBAACQKQIpAAAAMkUgBQAAQKYIpAAAAMgUgRQAAACZIpACAAAgUwRSAAAAZIpACgAAgEwRSAEAAJApAikAAAAyRSAFAABApgikAAAAyBSBFAAAAJkikAIAACBTBFIAAABkikBaj0+rMtrdI11qWMiZcQAAAKhKhUB6KGs33MDlDaMrh+Y92AOpr85urMqBGQsAAAC7hECalwUTtiLDbN5M0+GsgdRfb/NCwykAAECy2ECamzWhyt/Kl5s3QWtM1j6ZcZ2MU/YAAAB1iwmk5Va+YNCKG5/MC7fO6X5fiCuNiwhfKmAJwF44dgKzr1VSvy4tw22hLIXr0vRasAXYtj6BzzlDqByVTtmXWpKDywoModP6BytjgfcTL5Hwlh+aBwAAQCup8qam+gJp3BCYVyiw+odAOCsF0nlZ8IVXW+hNN/jDZkKA9E/X4EAaV0+xobTUYs2lAQAAoHVVFUhLganKFjl/0CqFK1+YKwcuf8toOWSVWw19YbAUxoLTOgKB1Hsv1OrqhUVrORQ1/2AQLIdK2zokB9Kg5PWxBV5/WAYAAGgvqQJpoOWuhtPD9iBrCW7WgKf5Whi9aX2BNNJaGzOfchD0B9jKAdKVtrwV5uf7jD/wenUUDMHl8ZF1BAAAaBPVB1I91NpCWimQ2loJHb5pvXnETqs0JJD6xoeHmgOpZT0cCcsyQzioAgAAtIvqriGNad2rJG0gtZ7KdliCXFMDaTQgLuQs01UZSMvLD5Yr+ZpVdyCQAgCAdmUNpPbgppXDVjMCaVyQTD5l34RAWvq8f951BlLftIHxRqmOLO8BAAC0M3sLaVx4sgSw+PBaljqQ+sf55ldehi8gNjOQWudtCcWpA6l9vQJKywyWWS83Z/2AUlp+fN0DAACcdLGn7MvhzTKUgqU/aIWDVFn6QKr4w3BoCLTKNvWUfYVT6NUGUl/YjA7lspTqKWGaAG/5gXoFAABoLcnXkFqCVPhUfWNbSD3BoGsNnU0NpEp43dV7pc9XGUgTw3243iJ1rtfvUA7C6wgAANAmqrupCQAAAGgwAikAAAAyRSAFAABApgikAAAAyBSBFAAAAJkikAIAACBTBFIAAABkikAKAACATBFIAQAAkCkCKQAAADJFIAUAAECmCKQAAADIFIEUAAAAmSKQAgAAIFMEUgAAAGSKQAoAAIBMEUgBAACQKQIpAAAAMkUgBQAAQKYIpAAAAMgUgRQAAACZIpACAAAgUwRSAAAAZIpACgAAgEwRSAEAAJApAikAAAAyRSAFAABApgikAAAAyBSBFAAAAJkikAIAACBTBFIAAABkikAKAACATBFIAQBtZ+fxsIxcPCv93T3S1X1aJjcORXLz6v/6dY+cGRiWaT0uE4eydkOVYzZvXmtm3I1VOTBjgE5CIAUAtKmi5O5fkK5z85Ir6tc69A3KwpuC867n/eNB6b+yKnvmdfOlC6TlUN0n5y+q/18yw8UxWXqTVZgGmoNACgBoX19fy3Rvjww92hXZXZRRFQKdbOpz8GpKRu5tSjCmNlMVLaSfVmW0e0zWPpnX2r4ep4J1PrwmQOsikAIA2lphY0r6u0/LmYvzkvtqRlatIO+338p2yuH9Z/MxqzoDqezL2pXw54HWRiAFALQ5E+BU2Ns7MqOqdpIC6QdZvtQj/Q8IpGgfBFIAQHv78EJGr1yXq909Mvpy34w0Pm/KnW/6pKt7XnJmVPPVF0gL2/Py7akJ2QiEVKC1EUgBAO3r6IMsX5mR7a8ie88uS1fvWDTIOddkZhBI7781r7VyK240kJ6WkZtTMnlLDeNjMjJyV7Y+cv0o2guBFADQtvaej5VbRY92ZWmgR/pvrltCXwaBVIXj5XeHUvj4VpZ+eCJL36txl57I+6ND2dradSe1nbL/mpeFgT4ZXwm19gItjEAKALAoSu7BXVlrycyjAt3tYRlxTsWrkHdqUXb06PyinO9Vr00/pCO3N91gmkUgvTcl09dOq7KcltHZ1861rcXdJzJ6SgXmb6bKrbi2QKrsPRtWgXZGtmkoRZsgkAIAQlQYndWBbUYmByZko90b4o49kOZlIW2/p3GB9OV1FWanZOv4+qoCmopACgDwKcrOj5dl8tkHt7/O/U25850KPol3jbe44w6kzvJStm7aAunRB3n6XY/03zrOvlOB5iKQAgACil9CMadQkELN3SW5ijX3/9lkHzdl6fZl6e8elMmf8scT8N7oR5j2yUKFXptin9Q0MChX763X0YUVcPIQSAEAzbW/KneefTAvIL8+kaHeYXn6q3kNgEAKAB3t86ZMXxqWoVPuzT793+gbgMxd4PqGoN6zMnLpiXtTUI30ne5L5qZxALAhkAIATF+cPTK6cui+zs1L/83gk40KP9+V/lPzkqvmzu4vm3Lne651BJCMQAoAcLgdx0/J1peCbH0/EenyqZhflNFrT2Qn7bWLX3dl6dbDOp4fD6BTEEgBAC6v4/hTp2U8/IjNahwVZG9LhddTwzK98tr6rPeKw65pqa3AuayAIXYAWgWBFABQUnwzL+e7L8jcm/p6XD/YfiKTA2flzvPmBlIA7YFACgAwirJ977qMXumTrnPzoVPteXk6oJ8sFO2kPdbXD7J8y/fUIQCIQSAFADiKv8zIqO6e6etrme7tkaEHebdzfM/RW5mrJpBqal5z3NQEoAICKQBApKDCpm4VNTcsFTamnM7iF/L+SJqXhWoDqeJ0+/TOvDih/tH/npOx8VtVDhPy7w+el/7fPSX/yu/8BfnLVycs02Q7AK2CQAoAnSz/REYuDcoZ5yaYPpl8pa/dPJStW/r0vBrn9EM6LE+dpwrVFkh1l1KTj052R6R/4cLvy/rG/1jV8Mc//kb+o5k/dv6/9vA38nv/6rDMLNunzWoAWgWBFACQUo2BVDmxjw5Vtv/hG/mLf/mieZWWvt7WXxe7snSuR0br6Z0A6GAEUgBASrUH0pPs3/qrfyD/25u35lVaKoB+p59q5dmXtSs90v+gwgPqAVgRSAEAlRXysnx/Qoa6++Tq7U3ZM6Nb3e7//afy1/+TWq61VOFc3/j12Dyjv/haprt75M4Gt28BtSCQAgA61u//wb8rf/wP1s2rahRl59F1ueNccytysDImXQOL6Z9iFafezwMtikAKAOhI/+8/+Sfy167+x+ZVHfTz+k+NRR61Wr28LNxclwPzCugkBFIAQEf6g3/vP5D/7u8tm1c1OtqXtfHoc/9rowLpjVUCKToSgRQA0HH+7J//c/krQ9+ZV7XTp+0Xcl5frQXZ+1DPNaQEUnQuAikAoOP8hzf+uqz88Z+YVyGf38rT316XoVO6b9bwUO5loJibl8nZ9fLz9zceytxaPc/gryOQFnZlY3YiWGbCLVoIgRQA0HHOnL9g/hfyaV3Ge1WYO3Vdpp/rsLkqc7+ZkbUtEzq383LgNIi6d9kHw2qfLNTV61ONgfSr+txAj/SPPJTt/cDDXoGWQSAFAHSUuz/8l/J3n/735pVfUbZ/6JMu/QhVf0f+KqROfvcwOK4pagukzh3+3Zdl+aMZAbQgAikAoG38veWX8qe/vjev7H7nX/89878w0+o5G23m3PnxgvTfe60iq/J5U6YvDbunx08NOo9WdYaLw3L13qq8rxhc92Xr/pRM3goP+jKBYRmPjFfDy7hHr+onRunWWRWizRigFRFIAQAt78uX/09Gf/OfOqfOp//2vBkb9XceLDiDnQqk+tS7JZDKm3k17zHZ+GxeK7nZ8LRFyd1XwbXmrptqaSE9lLUbOpD6Bq4dRQsikAIAWtqv7/8f+Yt/5d+WP/r7fyL/zl+7Ir/zu78n/+yf2e92/5d+p18O/+k/Na/CTLi7tSmRTzuBNHiNaDSQKia41vZ41VoCKS2kaA8EUgBAy9OhVHvx8o+cVsJH/83fdV77Lf3dp3Jv+m+bV3aFjSnp19djmieCevQp+67uKdnyJVVbIC3+MuMEUn9Lanr1XEM6IRtfzAigBRFIAQBt48///M/l3zj7l+TcwF81Y8r+xX/5X6t4faluJd36flC6Bu7Kxgf3jvXCm3nnGf7jK8He7yOB9Ghflm/0yciPefda06rVFkilqD6n77K/+UJ2CKVoUQRSAEBb+a/+zn/ttJL+/T95ZcaI/A9/tCrf3/0vzKsKjgryfmVGrn7T58znzHdT8nQ72r+oE0gHrpduPBofGZbJx3kp1Pw8+hoDqUY/pGhxBFIAQFv5v/70VyeQfXf5mhkj8rv/5jn5x+/+T/OqMWyn7PdWxqR/INRtVGp5efrD6+j1q0AHIJACANrO+N+cckLpP3z7j+R/2vpf5fu7/7l5p3GsNzUVX8u0Wu7V5w15uD3QMQikAIC28z//L784gfRv3JqU6zf/RsNbRzVrID16K3Nqud8+ius3FIANgRQA0JZO/4W/5ITSv3XvBzOmsWyBtLA1I/3dg7JEHgWqQiAFALSlxf/2JyeQ/h//+J0Z0yBxT2q6NChDAxPyNM9VoEC1CKQAgLZU+LM/k7/5n/0t8wrASUYgBQAAQKYIpAAAAMgUgRQAAACZIpACAAAgUwRSAAAAZIpACgAAgEwRSAEAAJApAikAAAAyRSAFAABApgikAAAAyBSBFAAAAJkikAIAACBTBFIAAABkikAKAACATBFIAQAAkCkCKQAAADJFIAUAAECmCKQAAADIFIEUAAAAmSKQAgAAIFMEUgAAAGSKQAoAAIBMEUgBAACQKQIpAAAAMkUgBQAAQKYIpAAAAMgUgRQAAACZIpACAAAgUwRSAAAAZKrtAmlutke6utVwY1UOzLiT7VDWbpgyz+bNuGo1Yh4iBytj7jzMsJAzbwAAADRR+kD6aVVGWyCoEEgrzMO3HUdXDs1IJTfvfr40jMnaJ/1GXhac1/NCPgUAAM2QMpD6Ao8aCKSNdMyB1B88fdPG1lspwBJIAQBAc6QKpK10KpdAWss8fJ8P11spwBJIAQBAc1QOpL5AsmDCXi2BtBQUzRA4XeyJnDYOhqBwMNZDuCzxgdQXupzBOyWdxDtd7RviApszPrQMaygOzXN2NV2Y9J1qdwd/3YQCaageA3UUufTCso5qGF3501B9lQfr9veWWXOoBgAAnapCIPXCihvevLBXbSANh9HS4AtssdM4ASccJoODvzz2QGoPXYmhNBKOfYN/3knT6cEf0CKhMjTEhbmEz7nrnlw/gfVsUiAt/bFgDeEAAADxEgJpOeR4rZm1BdJy4Cl/Ts17NibU+UJZLhcKc4HAFmoVNGyB1DYuTYDKzYYCa6mcvvH+spfm5SubrRwxATEukFrLqpYbqE9feCyN95WtNC4SSDV7ebVyqzSn7AEAQHPEBlJbCKo3kMYFLltgTCNd+Ay28pZ546sIWrYwZwupSjTIxdWDPVj7lecVXgdP3DzKyyxdIkEgBQAAJ4w9kJZCSzCE1BZIFX8rYmS+lQOZpxQ2w0NSIPW3QFqHuJCnJHy26kBqDYJamvX3TWOG4DW4BFIAANC6rIE0NvgFhmoDSjRUuYEoruUwKFwmHbAi4dM/nTcuEobDQ0wgjYRRtb62MHcsgdQIr0tpvQmkAACgdR1jIC0Lh0ZbsAwqByt/mEsVSGM+W0kpiPnLVE8gtYVDRxWB1BMpB4EUAAC0roSbmqK8sOcPdpUDixt2/J+JhEZ/y58vUB2srLrzrCJEJYbUcBlz+diQZZuPv5ylcqQOpL7y+qeNWfcAPY2/HMcYSK3rbONNF/48AABABXUGUn/IsgeWcjCLDv6WwnJoDA1OwAouJzLYwmcgGJWDWWRICoG26c1QWtfSdJUCqVJhnvayJJTdFnYbHUgty7duZ7Vuznzj6hMAACDGMbSQKr4QlBhqwuFVh6NPh25ACs9Dv2dplbMHUlck9PrnbxGefiFXDm41BVIttB46KJamTQhz1rKb95obSJVw3RM6AQBAA1UVSAEAAIBGI5ACAAAgUwRSAAAAZIpACgAAgEwRSAEAAJApAikAAAAyRSAFAABApgikAAAAyBSBFAAAAJkikAIAACBTBFIAAABkikAKAACATBFIAQAAkCkCKQAAADJFIAUAAECmCKQAAADIFIEUAAAAmSKQAgAAIFMEUgAAAGSKQAoAAIBMEUgBAACQKQIpAAAAMkUgBQAAQKYIpAAAAMgUgRQAAACZIpACAAAgUwRSAAAAZIpACgAAgEwRSAEAAJApAikAAAAyRSAFAABApgikAAAgna95Wbi5KDtF87oOhV/mZXpt37xCpyOQAgDqd7Qva7cfSu6reQ2Rz5syfWlYRgZOS1d3j3T1npUR/dobBgZl6NqMrO0WzAfKDjbuOtMMnVKfU5/tv7Upwany8lS9f77XvP+Nmt/tTTkw7zaF3sbjE9K4DFmUnQfDcmcjuv7oPARSAEB9dFC5eVYm792Vq981KJQemX9rUHizKJNeCDw1KJM/vpWDOuZXt0+rMqrLMps3I8r2no+pcvbJ+Io95R2sjEl/b58zzfQvlmbJz+syeemJvD+G9dt7dlmuPvtgXjVIMS8LA1Oy9cW8RscikAIA6nAoG+OXZe6XQ+dV8d2ijH5X/ynd3OyYbHw2L6pQzD+Uoe5BmdtyyyOfXsvcgK2F8RglBFIpvpZp/V7vjGxb6kwH0oWVdRnXLaHn5i1hXwW6G6vNbRnVvqpy9k7IRhOC497zy/Ltj7vmFToVgRQAWlTxhJweL3wJRT31ut5LDHUgXftkXlQhN6uCWyig7b28Ll3dKsyZ18cuKZDqQKnf67avrxNIVcH3XuqW1B4ZepAP1e3xBNLCqwnpuve67u1q9fGFXI0J5OgcBFIAaEX7q3Kn0adPT5DaAumhrN2IBj8nkPY+lB3zOklh961sb6cfch9TpKikQKrDmH5vYFF2LKfdvUAqRx9k+TsdXAdlKdCYeByB1K3X8TXT6txwu7J0rsd+SQI6BoEUABot/0RGLg3KGafl67QMeTeb5BfNTSh9cv7ik1QBKY6+9jAYTOp0tC8b46dVcBuWuV98LZ65eelX6zG64oaRncfDMnLxrDNOr9vkhhqvpnGu11TDmYFhmdbj6tSIQFosFKRQ3Ffj4q/RDCrKXs4ePGOHX1NcCBAXSAu7snyzT4XRu7IVU7xSINV2F2VIz0cF0L1SeD2GQOpcVnAhur85+3n5xqozt/R+7rX4quHUYMobrYqyfa9Hvn3EaftORiAFgKZQP7I/qLBxLtjypU+9Tm+VQ0zh57vSf2pectU0Dn3ZlDvfN/iayNxDGX2wLlvP78qQr8w7jy5Yrm8sSu6+Gq+vaXTG6yA4KAtvgiV6/3hQ+q+o8GReV6PuQPp5Xca9YHTzhS/AZcALpAPXZfLWlDuMj8nVgdMqsK3KTsK1soFAqup958GgWicVsEutlccQSPd1+eO3R/HNvHyrAuuC2Yl1mYdm30rBV+eV9nNnP8vyOl9kjkAKAM3itC5ekKV35rX6ud24FQx3xfyijF57Yj1da/V1V5ZuNb57pYNfXpvgqIP0ZVl2rgb4IMuXeux3Vjs3ufTIkG7V2lXroEJgOGscvJqSkXu1hYyGnLL/WpBisSBb93QrpO2GoGOScMp+b21KhbnTMhnTl1IwkCpf38rcOTWvXu/O9HoDqa9FMy50Oi3gSdfg6hZOXcf6Dxm1f16L1nWl/VyvZ/jaX3QWAikANIv+cVbhof+Ht25Y+7IudyyhJJWjguxtqR/1U8MyvfLafvq40rCb7lR68ZcZt29IJ0jF31ld2JhSgfu0nLlYe9g7+Hm+3GroG0Z16+HN6PjJW6vy3nw2KhRIPeY6zcp3ch/zKXuH+iNlXIfB8LWhrkggVfT20ZdM9Ds3GdUTSN368i7HiA2eFQOpolvt1R8oZ9T+Ofcmphk0gRNIdcu8eY3OQyAFgCba+bF8yvtgZcrXWlq9g+0nMjlwVu48b24g1ae77zzadQJncojbl7UrKkypQNToU+KNvKnJa+mt3AJXfSCt+6YmxQljOmA+iL5vC6Q6xG7d0n2TXlDh73UdgVS3jvrrOfzaSBNIFbc3A/X5GjrOJ5CCQAoAzfThhYyosDH9i76BJXg9qQ4AT50O3KsIX19VuLo1JRtVh7VqqGDy/aqs3bssyx/NKBu1bqNXrjutj6MvQynk86bc+UaHpspBxqaxgdSMv7mezSnhlIHU9r49kCqfTN+k+mlP/kDqLas0zj0lX2oFDQgFUP1ZW7hNE0h1LwBqXxjVPQGoeQT/QKm8nzt1UHOwRjsgkAJAU+273fWcuyBXbXcRH72VuWoCqfb1tcw1+qamgIJszV6W0fvmUgMbJ4DMyPZXcZ7g09U7Fg3Jzs0wJyCQms7nrz6voemuERIDqbn5Tb0/+Sq6RWMDqeL1TeoPcgcr8069ef+6y47bBl4gdUNrbOh0/qhK3h57z6673Tapaa8GbroyKuzn3NQEAikANJl+Ek1Xd1xrY6iVKiWn26c6Tv9XsvPocuL89fJLraL6Wln9NKRwC2RiGEpWVyBV4Xj5nYk2xX3Z+mEw5U1NRdlZeShLD9IPT80TqhIlBNLCm3mnK6f+m/bLHvQlH3NvzIsw/chWvb62lkW1zDVV8TrQ2ltHtfC+F7MvxnX75PmoW8rLvSnsPFL1HfkDJWk/p9snEEgBoPl0C9N3L2K6P6otkOrWx8km/oDv/LgouUhAOpSt28My4pyKV0HolLnmr9S/qtsPaanvyawC6f1V2bp32e0HtvesXP3tC9lJ2fTm9F36pYohKeR+3pTpS6o+vOfqq7LofjtLw8Wzcuaby3LncbCLJO1g426gv9ehS3dly9Y9lG6RtJ7qzsvaihpuJNV/dN9znnQVCc5uvYZbPcNlXHI+lpel0v4xqNbTK3fSfq5v/uuLbQlGZyCQAkCzvVuUacvpWFeNgVRp2qNDi29lrre2MgXUEUh3Hs+Ir7vWlGJO2XckVRcq1OvuuOKlDaSmlb+uR4cm7Oc8OhQKgRQAGu3La1m4dl2W8voXVl8jOBXbdVI9gbRpcrr/1GwDaW0IpH62VuZgf6B63/Pf8OS+trZUOt06xXcBVln8fq7DbuUuudDuCKQA0Gi7i/Kt+mF3TnH++kQmH0Q7jXcU8rJ8f0KGuvvk6u3Nmp5o1AzuXd91tlh93JSl25dVsB2UyZ/yx3SziumGikDqyK1ET+U7T0zqHZSnTv5zQ+KCCq7OKfZAOI3SN69ZH5JQSdJ+XlRlGPA6+UcnI5ACQKMd7cuWCmNDF4fdH2DLzSonmQ4t+rnkxxMiG8jcTR+5w7sj6bAZ0zqdXzV9hca3Wlrpm6jGJ2rqZ9ROPwp12L07Hx2PQAoAQLuJ7Tu0KLln66aVsspAqn1Vn9H96TYgQxZ+mZfpxqVbtDgCKQAA7UYHUtvd9x9ey5aXAY/9Gl8gHoEUAAAAmSKQAgAAIFMEUgAAAGSKQAoAAIBMEUgBAACQKQIpAAAAMkUgBQAAQKYIpAAAAMgUgRQAAACZIpACAAAgUwRSAAAAZIpACgAAgEwRSAEAAJApAikAAAAyRSAFAABAhkT+f8eKF+eLMJeeAAAAAElFTkSuQmCC)"
      ],
      "metadata": {
        "id": "JyiGN4uq8Jp_"
      }
    },
    {
      "cell_type": "code",
      "source": [
        "# 데이터 준비\n",
        "import tensorflow as tf\n",
        "from tensorflow import keras\n",
        "import numpy as np\n",
        "import matplotlib.pyplot as plt\n",
        "\n",
        "fashion_mnist = keras.datasets.fashion_mnist\n",
        "\n",
        "# 데이터 나누기 및 정규화\n",
        "(train_images, train_labels), (test_images, test_labels) = fashion_mnist.load_data()\n",
        "class_names = ['T-shirt/top', 'Trouser', 'Pullover', 'Dress', 'Coat',\n",
        "               'Sandal', 'Shirt', 'Sneaker', 'Bag', 'Ankle boot']\n",
        "\n",
        "train_images = train_images / 255.0\n",
        "test_images = test_images / 255.0"
      ],
      "metadata": {
        "id": "FmZ3Pbaq8NPl"
      },
      "execution_count": null,
      "outputs": []
    },
    {
      "cell_type": "code",
      "source": [
        "# 모델 학습 준비\n",
        "from sklearn.model_selection import train_test_split\n",
        "\n",
        "X_train, X_valid, y_train, y_valid = train_test_split(train_images, train_labels, test_size=0.3, random_state=101)\n",
        "\n",
        "model5 = keras.Sequential([\n",
        "    keras.layers.Flatten(input_shape=(28, 28)),\n",
        "    keras.layers.Dense(128, activation='relu'),\n",
        "    keras.layers.Dense(10, activation='softmax')\n",
        "])\n",
        "\n",
        "model5.compile(optimizer='adam',loss='sparse_categorical_crossentropy',\n",
        "              metrics=['accuracy'])\n",
        "\n",
        "history5 = model5.fit(X_train, y_train, epochs=20, batch_size=2048, validation_data=(X_valid, y_valid))"
      ],
      "metadata": {
        "colab": {
          "base_uri": "https://localhost:8080/"
        },
        "id": "X14pOaoy87Bs",
        "outputId": "a034e085-a406-4343-c59d-f2c424c3b93d"
      },
      "execution_count": null,
      "outputs": [
        {
          "output_type": "stream",
          "name": "stdout",
          "text": [
            "Epoch 1/20\n",
            "21/21 [==============================] - 3s 103ms/step - loss: 1.2404 - accuracy: 0.6158 - val_loss: 0.7515 - val_accuracy: 0.7447\n",
            "Epoch 2/20\n",
            "21/21 [==============================] - 1s 36ms/step - loss: 0.6620 - accuracy: 0.7748 - val_loss: 0.6076 - val_accuracy: 0.7966\n",
            "Epoch 3/20\n",
            "21/21 [==============================] - 1s 35ms/step - loss: 0.5616 - accuracy: 0.8138 - val_loss: 0.5476 - val_accuracy: 0.8142\n",
            "Epoch 4/20\n",
            "21/21 [==============================] - 1s 39ms/step - loss: 0.5169 - accuracy: 0.8268 - val_loss: 0.5078 - val_accuracy: 0.8262\n",
            "Epoch 5/20\n",
            "21/21 [==============================] - 1s 34ms/step - loss: 0.4835 - accuracy: 0.8396 - val_loss: 0.4894 - val_accuracy: 0.8313\n",
            "Epoch 6/20\n",
            "21/21 [==============================] - 1s 44ms/step - loss: 0.4625 - accuracy: 0.8450 - val_loss: 0.4642 - val_accuracy: 0.8424\n",
            "Epoch 7/20\n",
            "21/21 [==============================] - 1s 52ms/step - loss: 0.4423 - accuracy: 0.8515 - val_loss: 0.4494 - val_accuracy: 0.8469\n",
            "Epoch 8/20\n",
            "21/21 [==============================] - 1s 46ms/step - loss: 0.4296 - accuracy: 0.8549 - val_loss: 0.4382 - val_accuracy: 0.8498\n",
            "Epoch 9/20\n",
            "21/21 [==============================] - 1s 30ms/step - loss: 0.4149 - accuracy: 0.8591 - val_loss: 0.4320 - val_accuracy: 0.8523\n",
            "Epoch 10/20\n",
            "21/21 [==============================] - 1s 37ms/step - loss: 0.4064 - accuracy: 0.8607 - val_loss: 0.4213 - val_accuracy: 0.8539\n",
            "Epoch 11/20\n",
            "21/21 [==============================] - 1s 46ms/step - loss: 0.3960 - accuracy: 0.8657 - val_loss: 0.4146 - val_accuracy: 0.8577\n",
            "Epoch 12/20\n",
            "21/21 [==============================] - 1s 52ms/step - loss: 0.3890 - accuracy: 0.8661 - val_loss: 0.4073 - val_accuracy: 0.8608\n",
            "Epoch 13/20\n",
            "21/21 [==============================] - 1s 61ms/step - loss: 0.3816 - accuracy: 0.8707 - val_loss: 0.4008 - val_accuracy: 0.8621\n",
            "Epoch 14/20\n",
            "21/21 [==============================] - 1s 72ms/step - loss: 0.3727 - accuracy: 0.8730 - val_loss: 0.4020 - val_accuracy: 0.8605\n",
            "Epoch 15/20\n",
            "21/21 [==============================] - 1s 58ms/step - loss: 0.3672 - accuracy: 0.8751 - val_loss: 0.4008 - val_accuracy: 0.8609\n",
            "Epoch 16/20\n",
            "21/21 [==============================] - 1s 45ms/step - loss: 0.3637 - accuracy: 0.8742 - val_loss: 0.3871 - val_accuracy: 0.8654\n",
            "Epoch 17/20\n",
            "21/21 [==============================] - 1s 52ms/step - loss: 0.3585 - accuracy: 0.8760 - val_loss: 0.3927 - val_accuracy: 0.8640\n",
            "Epoch 18/20\n",
            "21/21 [==============================] - 1s 50ms/step - loss: 0.3514 - accuracy: 0.8787 - val_loss: 0.3804 - val_accuracy: 0.8664\n",
            "Epoch 19/20\n",
            "21/21 [==============================] - 1s 34ms/step - loss: 0.3446 - accuracy: 0.8817 - val_loss: 0.3787 - val_accuracy: 0.8682\n",
            "Epoch 20/20\n",
            "21/21 [==============================] - 1s 30ms/step - loss: 0.3398 - accuracy: 0.8821 - val_loss: 0.3752 - val_accuracy: 0.8705\n"
          ]
        }
      ]
    },
    {
      "cell_type": "code",
      "source": [
        "# loss 값을 plot 해보겠습니다. \n",
        "y_vloss = history5.history['val_loss']\n",
        "y_loss = history5.history['loss']\n",
        "x_len = np.arange(len(y_loss))\n",
        "\n",
        "plt.plot(x_len, y_vloss, marker='.', c='red', label=\"Validation-set Loss\")\n",
        "plt.plot(x_len, y_loss, marker='.', c='blue', label=\"Train-set Loss\")\n",
        "plt.legend(loc='upper right')\n",
        "plt.grid()\n",
        "plt.ylim(0,1)\n",
        "plt.title('Loss graph without batch normalization') \n",
        "plt.xlabel('epoch')\n",
        "plt.ylabel('loss')\n",
        "plt.show()\n",
        "\n",
        "# 에포크가 7을 넘어갈 때 val_loss가 train_loss를 넘어서고있다."
      ],
      "metadata": {
        "colab": {
          "base_uri": "https://localhost:8080/",
          "height": 295
        },
        "id": "u4Wcvec49V0d",
        "outputId": "992b6878-5a2d-4b70-9a9c-62fe78f96367"
      },
      "execution_count": null,
      "outputs": [
        {
          "output_type": "display_data",
          "data": {
            "text/plain": [
              "<Figure size 432x288 with 1 Axes>"
            ],
            "image/png": "[encoded data removed]"
          },
          "metadata": {
            "needs_background": "light"
          }
        }
      ]
    },
    {
      "cell_type": "code",
      "source": [
        "# accuracy 값을 plot 해보겠습니다. \n",
        "y_vacc = history5.history['val_accuracy']\n",
        "y_acc = history5.history['accuracy']\n",
        "x_len = np.arange(len(y_acc))\n",
        "\n",
        "plt.plot(x_len, y_vacc, marker='.', c='red', label=\"Validation-set accuracy\")\n",
        "plt.plot(x_len, y_acc, marker='.', c='blue', label=\"Train-set accuracy\")\n",
        "plt.legend(loc='lower right')\n",
        "plt.grid()\n",
        "plt.ylim(0.5,1)\n",
        "plt.title('Accuracy graph without batch normalization') \n",
        "plt.xlabel('epoch')\n",
        "plt.ylabel('accuracy')\n",
        "plt.show()\n",
        "\n",
        "# "
      ],
      "metadata": {
        "colab": {
          "base_uri": "https://localhost:8080/",
          "height": 295
        },
        "id": "g_5Nwtzu9Xfa",
        "outputId": "f64056ce-6cda-4d13-a7f1-f16831986960"
      },
      "execution_count": null,
      "outputs": [
        {
          "output_type": "display_data",
          "data": {
            "text/plain": [
              "<Figure size 432x288 with 1 Axes>"
            ],
            "image/png": "[encoded data removed]"
          },
          "metadata": {
            "needs_background": "light"
          }
        }
      ]
    },
    {
      "cell_type": "code",
      "source": [
        "# BatchNormalization layer를 추가한 실습\n",
        "model6 = keras.Sequential([\n",
        "    keras.layers.Flatten(input_shape=(28, 28)),\n",
        "    keras.layers.Dense(128, activation='relu'),\n",
        "    #여기에 batchnormalization layer를 추가해보았습니다. 나머지 layer는 위의 실습과 같습니다.\n",
        "    keras.layers.BatchNormalization(),\n",
        "    keras.layers.Dense(10, activation='softmax')\n",
        "])\n",
        "\n",
        "model6.compile(optimizer='adam',loss='sparse_categorical_crossentropy',\n",
        "              metrics=['accuracy'])\n",
        "\n",
        "history6 = model6.fit(X_train, y_train, epochs=20, batch_size=2048, validation_data=(X_valid, y_valid))"
      ],
      "metadata": {
        "colab": {
          "base_uri": "https://localhost:8080/"
        },
        "id": "sPzI60pk9g3_",
        "outputId": "736d9f51-3b9c-4df2-c6bb-08a3c5d30da5"
      },
      "execution_count": null,
      "outputs": [
        {
          "output_type": "stream",
          "name": "stdout",
          "text": [
            "Epoch 1/20\n",
            "21/21 [==============================] - 2s 43ms/step - loss: 0.9339 - accuracy: 0.6901 - val_loss: 1.0330 - val_accuracy: 0.6924\n",
            "Epoch 2/20\n",
            "21/21 [==============================] - 1s 35ms/step - loss: 0.5263 - accuracy: 0.8221 - val_loss: 0.8555 - val_accuracy: 0.7519\n",
            "Epoch 3/20\n",
            "21/21 [==============================] - 1s 34ms/step - loss: 0.4573 - accuracy: 0.8437 - val_loss: 0.7423 - val_accuracy: 0.7940\n",
            "Epoch 4/20\n",
            "21/21 [==============================] - 1s 34ms/step - loss: 0.4160 - accuracy: 0.8565 - val_loss: 0.6917 - val_accuracy: 0.8093\n",
            "Epoch 5/20\n",
            "21/21 [==============================] - 1s 34ms/step - loss: 0.3870 - accuracy: 0.8665 - val_loss: 0.6257 - val_accuracy: 0.8353\n",
            "Epoch 6/20\n",
            "21/21 [==============================] - 1s 34ms/step - loss: 0.3666 - accuracy: 0.8724 - val_loss: 0.5812 - val_accuracy: 0.8366\n",
            "Epoch 7/20\n",
            "21/21 [==============================] - 1s 42ms/step - loss: 0.3489 - accuracy: 0.8786 - val_loss: 0.5402 - val_accuracy: 0.8503\n",
            "Epoch 8/20\n",
            "21/21 [==============================] - 1s 55ms/step - loss: 0.3344 - accuracy: 0.8842 - val_loss: 0.5301 - val_accuracy: 0.8517\n",
            "Epoch 9/20\n",
            "21/21 [==============================] - 1s 49ms/step - loss: 0.3208 - accuracy: 0.8881 - val_loss: 0.4822 - val_accuracy: 0.8633\n",
            "Epoch 10/20\n",
            "21/21 [==============================] - 1s 53ms/step - loss: 0.3082 - accuracy: 0.8919 - val_loss: 0.4728 - val_accuracy: 0.8599\n",
            "Epoch 11/20\n",
            "21/21 [==============================] - 1s 40ms/step - loss: 0.2972 - accuracy: 0.8953 - val_loss: 0.4413 - val_accuracy: 0.8673\n",
            "Epoch 12/20\n",
            "21/21 [==============================] - 1s 34ms/step - loss: 0.2863 - accuracy: 0.8999 - val_loss: 0.4341 - val_accuracy: 0.8637\n",
            "Epoch 13/20\n",
            "21/21 [==============================] - 1s 34ms/step - loss: 0.2751 - accuracy: 0.9030 - val_loss: 0.4170 - val_accuracy: 0.8674\n",
            "Epoch 14/20\n",
            "21/21 [==============================] - 1s 34ms/step - loss: 0.2701 - accuracy: 0.9039 - val_loss: 0.3967 - val_accuracy: 0.8721\n",
            "Epoch 15/20\n",
            "21/21 [==============================] - 1s 34ms/step - loss: 0.2632 - accuracy: 0.9072 - val_loss: 0.3880 - val_accuracy: 0.8704\n",
            "Epoch 16/20\n",
            "21/21 [==============================] - 1s 34ms/step - loss: 0.2563 - accuracy: 0.9090 - val_loss: 0.3636 - val_accuracy: 0.8779\n",
            "Epoch 17/20\n",
            "21/21 [==============================] - 1s 34ms/step - loss: 0.2447 - accuracy: 0.9147 - val_loss: 0.3717 - val_accuracy: 0.8727\n",
            "Epoch 18/20\n",
            "21/21 [==============================] - 1s 34ms/step - loss: 0.2369 - accuracy: 0.9163 - val_loss: 0.3502 - val_accuracy: 0.8813\n",
            "Epoch 19/20\n",
            "21/21 [==============================] - 1s 34ms/step - loss: 0.2312 - accuracy: 0.9173 - val_loss: 0.3576 - val_accuracy: 0.8752\n",
            "Epoch 20/20\n",
            "21/21 [==============================] - 1s 34ms/step - loss: 0.2268 - accuracy: 0.9200 - val_loss: 0.3619 - val_accuracy: 0.8691\n"
          ]
        }
      ]
    },
    {
      "cell_type": "code",
      "source": [
        "# loss 값을 plot 해보겠습니다. \n",
        "y_vloss = history6.history['val_loss']\n",
        "y_loss = history6.history['loss']\n",
        "x_len = np.arange(len(y_loss))\n",
        "\n",
        "plt.plot(x_len, y_vloss, marker='.', c='red', label=\"Validation-set Loss\")\n",
        "plt.plot(x_len, y_loss, marker='.', c='blue', label=\"Train-set Loss\")\n",
        "plt.legend(loc='upper right')\n",
        "plt.grid()\n",
        "plt.ylim(0,1)\n",
        "plt.title('Loss graph with batch normalization') \n",
        "plt.xlabel('epoch')\n",
        "plt.ylabel('loss')\n",
        "plt.show()"
      ],
      "metadata": {
        "colab": {
          "base_uri": "https://localhost:8080/",
          "height": 295
        },
        "id": "7HmtqWub981t",
        "outputId": "20342f57-ad23-44be-b4a1-a4bfff7acdf5"
      },
      "execution_count": null,
      "outputs": [
        {
          "output_type": "display_data",
          "data": {
            "text/plain": [
              "<Figure size 432x288 with 1 Axes>"
            ],
            "image/png": "[encoded data removed]"
          },
          "metadata": {
            "needs_background": "light"
          }
        }
      ]
    },
    {
      "cell_type": "code",
      "source": [
        "# accuracy 값을 plot 해보겠습니다. \n",
        "y_vacc = history6.history['val_accuracy']\n",
        "y_acc = history6.history['accuracy']\n",
        "x_len = np.arange(len(y_acc))\n",
        "\n",
        "plt.plot(x_len, y_vacc, marker='.', c='red', label=\"Validation-set accuracy\")\n",
        "plt.plot(x_len, y_acc, marker='.', c='blue', label=\"Train-set accuracy\")\n",
        "plt.legend(loc='lower right')\n",
        "plt.grid()\n",
        "plt.ylim(0.5,1) \n",
        "plt.title('Accurcy graph with batch normalization') \n",
        "plt.xlabel('epoch')\n",
        "plt.ylabel('accuracy')\n",
        "plt.show()"
      ],
      "metadata": {
        "colab": {
          "base_uri": "https://localhost:8080/",
          "height": 295
        },
        "id": "Ctj2iTHB99Ut",
        "outputId": "0cc460ab-994d-4ebd-d7b1-f950c9dd028e"
      },
      "execution_count": null,
      "outputs": [
        {
          "output_type": "display_data",
          "data": {
            "text/plain": [
              "<Figure size 432x288 with 1 Axes>"
            ],
            "image/png": "[encoded data removed]"
          },
          "metadata": {
            "needs_background": "light"
          }
        }
      ]
    },
    {
      "cell_type": "markdown",
      "source": [
        "기존의 fully connected layer도 낮지 않은 결과를 가져오지만, Batch Normalization을 추가하니 좀 더 빠르게 정확도 상승이 있음을 확인할 수 있습니다. 또한 loss 함수의 감소도 더 빨라짐을 확인할 수 있었습니다. 즉 Batch Normalization으로 인해 이미지가 정규화되면서 좀 더 고른 분포를 가지기도 하며, 앞서 설명해 드린 \\epsilonϵ 부분으로 인해 안정적인 학습이 가능해집니다."
      ],
      "metadata": {
        "id": "hRVsxUKS-BlB"
      }
    }
  ]
}