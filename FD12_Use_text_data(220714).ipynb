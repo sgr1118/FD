{
  "nbformat": 4,
  "nbformat_minor": 0,
  "metadata": {
    "colab": {
      "provenance": [],
      "collapsed_sections": [],
      "authorship_tag": "ABX9TyOyxcXJedSCM4X5Hoew8zW+",
      "include_colab_link": true
    },
    "kernelspec": {
      "name": "python3",
      "display_name": "Python 3"
    },
    "language_info": {
      "name": "python"
    }
  },
  "cells": [
    {
      "cell_type": "markdown",
      "metadata": {
        "id": "view-in-github",
        "colab_type": "text"
      },
      "source": [
        "<a href=\"https://colab.research.google.com/github/sgr1118/FD/blob/main/FD12_Use_text_data(220714).ipynb\" target=\"_parent\"><img src=\"https://colab.research.google.com/assets/colab-badge.svg\" alt=\"Open In Colab\"/></a>"
      ]
    },
    {
      "cell_type": "markdown",
      "source": [
        "# 12. 텍스트의 다양한 변신 (문자열, 파일 다루기)"
      ],
      "metadata": {
        "id": "YazAtwwCXOQc"
      }
    },
    {
      "cell_type": "code",
      "execution_count": null,
      "metadata": {
        "colab": {
          "base_uri": "https://localhost:8080/"
        },
        "id": "xznoKJwRXGRZ",
        "outputId": "e5ff05b5-2723-4a9d-d306-906304176da3"
      },
      "outputs": [
        {
          "output_type": "stream",
          "name": "stdout",
          "text": [
            "False\n",
            "True\n",
            "False\n",
            "False\n",
            "True\n",
            "True\n"
          ]
        }
      ],
      "source": [
        "# 12-3. 텍스트 데이터를 문자열로 저장한다는 것 (2) 문자열 다루기\n",
        "\n",
        "# isX 메서드\n",
        "print('aiffel'.isupper())\n",
        "print('aiffel'.islower())\n",
        "print('PYTHON'.istitle())\n",
        "print('python101'.isalpha())\n",
        "print('python101'.isalnum())\n",
        "print('101'.isdecimal())"
      ]
    },
    {
      "cell_type": "code",
      "source": [
        "# stages = ['fundamentals', 'exploration', 'goingdeeper']\n",
        "#' ! '.join(stages) # join 사용\n",
        "#'fundamentals,exploration,goingdeeper'.split(',') # split 사용\n",
        "# sent = 'I can do it!'\n",
        "# sent.replace('it!', 'that') # replace 사용\n"
      ],
      "metadata": {
        "colab": {
          "base_uri": "https://localhost:8080/",
          "height": 35
        },
        "id": "OImmzaAlX6q7",
        "outputId": "7340d56c-d065-431f-fa46-c07db092df7f"
      },
      "execution_count": null,
      "outputs": [
        {
          "output_type": "execute_result",
          "data": {
            "text/plain": [
              "'I can do that'"
            ],
            "application/vnd.google.colaboratory.intrinsic+json": {
              "type": "string"
            }
          },
          "metadata": {},
          "execution_count": 8
        }
      ]
    },
    {
      "cell_type": "code",
      "source": [
        "sent = 'I fell into AIFFEL'\n",
        "print(sent)\n",
        "print(id(sent))\n",
        "\n",
        "sent = sent.upper()\n",
        "print(id(sent))"
      ],
      "metadata": {
        "colab": {
          "base_uri": "https://localhost:8080/"
        },
        "id": "5zA-uqg7aary",
        "outputId": "25d91966-7174-423d-9060-84d45cf08d73"
      },
      "execution_count": null,
      "outputs": [
        {
          "output_type": "stream",
          "name": "stdout",
          "text": [
            "I fell into AIFFEL\n",
            "140198018061776\n",
            "140198018058240\n"
          ]
        }
      ]
    },
    {
      "cell_type": "code",
      "source": [
        "# 텍스트 데이터를 문자열로 저장한다는 것 (3) 정규 표현식\n",
        "\n",
        "import re\n",
        "sent = 'I can do it!'\n",
        "pattern = re.sub('I', 'You', sent)\n",
        "pattern"
      ],
      "metadata": {
        "colab": {
          "base_uri": "https://localhost:8080/",
          "height": 35
        },
        "id": "0Gwb-7JebFHR",
        "outputId": "5534c8e8-020b-4994-fb3c-82e0b23be423"
      },
      "execution_count": null,
      "outputs": [
        {
          "output_type": "execute_result",
          "data": {
            "text/plain": [
              "'You can do it!'"
            ],
            "application/vnd.google.colaboratory.intrinsic+json": {
              "type": "string"
            }
          },
          "metadata": {},
          "execution_count": 14
        }
      ]
    },
    {
      "cell_type": "code",
      "source": [
        "# 정규표현식 Compile()\n",
        "# 1단계 : 'the'라는 패턴을 컴파일한 후 패턴 객체를 리턴합니다. \n",
        "#pattern = re.compile('the')\n",
        "\n",
        "# 2단계 : 컴파일된 패턴 객체를 활용하여 다른 텍스트에서 검색을 수행합니다.\n",
        "#pattern.findall('of the people, for the people, by the people')\n",
        "\n",
        "# 한줄로 표현하기\n",
        "re.findall('the', 'of the people, for the people, by the people')"
      ],
      "metadata": {
        "colab": {
          "base_uri": "https://localhost:8080/"
        },
        "id": "84zf5SNpbfuo",
        "outputId": "10b4f452-e3f3-4b89-c29a-62eedf8c75ca"
      },
      "execution_count": null,
      "outputs": [
        {
          "output_type": "execute_result",
          "data": {
            "text/plain": [
              "['the', 'the', 'the']"
            ]
          },
          "metadata": {},
          "execution_count": 18
        }
      ]
    },
    {
      "cell_type": "code",
      "source": [
        "# 메서드\n",
        "src = \"My name is...\"\n",
        "regex = re.match('My', src)\n",
        "print(regex)\n",
        "if regex:\n",
        "  print(regex.group())\n",
        "else:\n",
        "  print('NO!')"
      ],
      "metadata": {
        "colab": {
          "base_uri": "https://localhost:8080/"
        },
        "id": "5Zou8gTtcq3P",
        "outputId": "00ba8d87-7862-4aca-8505-b39e268e7355"
      },
      "execution_count": null,
      "outputs": [
        {
          "output_type": "stream",
          "name": "stdout",
          "text": [
            "<re.Match object; span=(0, 2), match='My'>\n",
            "My\n"
          ]
        }
      ]
    },
    {
      "cell_type": "code",
      "source": [
        "#- 연도(숫자)\n",
        "text = \"\"\"\n",
        "The first season of America Premiere League  was played in 1993. \n",
        "The second season was played in 1995 in South Africa. \n",
        "Last season was played in 2019 and won by Chennai Super Kings (CSK).\n",
        "CSK won the title in 2000 and 2002 as well.\n",
        "Mumbai Indians (MI) has also won the title 3 times in 2013, 2015 and 2017.\n",
        "\"\"\"\n",
        "pattern = re.compile('[1-2]\\d\\d\\d')\n",
        "pattern.findall(text)"
      ],
      "metadata": {
        "colab": {
          "base_uri": "https://localhost:8080/"
        },
        "id": "e1uXifXldm4Y",
        "outputId": "c238e0d4-dac8-49cc-bb54-69593d9a0f62"
      },
      "execution_count": null,
      "outputs": [
        {
          "output_type": "execute_result",
          "data": {
            "text/plain": [
              "['1993', '1995', '2019', '2000', '2002', '2013', '2015', '2017']"
            ]
          },
          "metadata": {},
          "execution_count": 21
        }
      ]
    },
    {
      "cell_type": "code",
      "source": [
        "#- 전화번호(숫자, 기호)\n",
        "phonenumber = re.compile(r'\\d\\d\\d-\\d\\d\\d-\\d\\d\\d\\d')\n",
        "phone = phonenumber.search('This is my phone number 010-111-1111')\n",
        "if phone:\n",
        "  print(phone.group())\n",
        "print('------')\n",
        "phone = phonenumber.match ('This is my phone number 010-111-1111')\n",
        "if phone:\n",
        "  print(phone.group())"
      ],
      "metadata": {
        "colab": {
          "base_uri": "https://localhost:8080/"
        },
        "id": "V42wc82deH_D",
        "outputId": "320b239a-36cb-4df4-c36b-9014b5a20408"
      },
      "execution_count": null,
      "outputs": [
        {
          "output_type": "stream",
          "name": "stdout",
          "text": [
            "010-111-1111\n",
            "------\n"
          ]
        }
      ]
    },
    {
      "cell_type": "code",
      "source": [
        "#- 전화번호(숫자, 기호)\n",
        "phonenumber = re.compile(r'(\\d{3}-){2}\\d{4}')\n",
        "phone = phonenumber.search('This is my phone number 010-111-1111')\n",
        "if phone:\n",
        "  print(phone.group())\n",
        "print('------')\n",
        "phone = phonenumber.match ('This is my phone number 010-111-1111')\n",
        "if phone:\n",
        "  print(phone.group())"
      ],
      "metadata": {
        "colab": {
          "base_uri": "https://localhost:8080/"
        },
        "id": "FtgkEbs7gXDr",
        "outputId": "240296bd-d9c4-46e0-a202-83e6b692403e"
      },
      "execution_count": null,
      "outputs": [
        {
          "output_type": "stream",
          "name": "stdout",
          "text": [
            "010-111-1111\n",
            "------\n"
          ]
        }
      ]
    },
    {
      "cell_type": "code",
      "source": [
        "#- 이메일(알파벳, 숫자, 기호)\n",
        "text = \"My e-mail adress is doingharu@aiffel.com, and tomorrow@aiffel.com\"\n",
        "pattern = re.compile(\"[0-9a-zA-Z]+@[0-9a-z]+\\.[0-9a-z]+\")\n",
        "pattern.findall(text)"
      ],
      "metadata": {
        "colab": {
          "base_uri": "https://localhost:8080/"
        },
        "id": "M7WFegWcgfNz",
        "outputId": "a185de57-4963-448e-a43d-c94cb80d2b81"
      },
      "execution_count": null,
      "outputs": [
        {
          "output_type": "execute_result",
          "data": {
            "text/plain": [
              "['doingharu@aiffel.com', 'tomorrow@aiffel.com']"
            ]
          },
          "metadata": {},
          "execution_count": 29
        }
      ]
    },
    {
      "cell_type": "code",
      "source": [
        "# 12-5. 파일과 디렉터리 (1) 파일\n",
        "f = open('hello.txt', 'w')\n",
        "#- open(파일명, 파일모드)\n",
        "#- 파일을 열고 파일 객체를 반환합니다.\n",
        "for i in range(10):\n",
        "  f.write('안녕')\n",
        "  #- write() 메서드로 '안녕'을 10번 씁니다.\n",
        "f.close()\n",
        "#- 작업이 끝나면 close() 메서드로 닫아줍니다. *필수!\n",
        "print(\"완료!\")"
      ],
      "metadata": {
        "colab": {
          "base_uri": "https://localhost:8080/"
        },
        "id": "3sOZoeyDgmqh",
        "outputId": "0e5d521a-0653-429a-c5f0-a8762fbfbb65"
      },
      "execution_count": null,
      "outputs": [
        {
          "output_type": "stream",
          "name": "stdout",
          "text": [
            "완료!\n"
          ]
        }
      ]
    },
    {
      "cell_type": "code",
      "source": [
        "with open ('hello.txt', 'r') as f:\n",
        "  print(f.read())"
      ],
      "metadata": {
        "colab": {
          "base_uri": "https://localhost:8080/"
        },
        "id": "y02Mg5fTh_Iq",
        "outputId": "2a87999d-b88d-4d3d-d904-c2b8d94a5529"
      },
      "execution_count": null,
      "outputs": [
        {
          "output_type": "stream",
          "name": "stdout",
          "text": [
            "안녕안녕안녕안녕안녕안녕안녕안녕안녕안녕\n"
          ]
        }
      ]
    },
    {
      "cell_type": "code",
      "source": [
        "quotes = [\"\\n안녕하세요.\\n\", \"반갑습니다.\\n\", \"오랫만입니다.\\n\"]\n",
        "with open(\"hello.txt\", \"a\") as f:\n",
        "  f.writelines(quotes)"
      ],
      "metadata": {
        "id": "giLXj3mridGy"
      },
      "execution_count": null,
      "outputs": []
    },
    {
      "cell_type": "code",
      "source": [
        "with open('hello.txt', 'r') as f:\n",
        "    hello = f.readlines()\n",
        "    print(f'위치 : {f.tell()}')\n",
        "    print(hello)\n",
        "    print(\"----------------------------------------------------\")\n",
        "    f.seek(10)\n",
        "    print(f'위치 : {f.tell()}')"
      ],
      "metadata": {
        "colab": {
          "base_uri": "https://localhost:8080/"
        },
        "id": "43bUo6HZiwDR",
        "outputId": "2306787a-c99a-4c90-ee59-020d2945dc12"
      },
      "execution_count": null,
      "outputs": [
        {
          "output_type": "stream",
          "name": "stdout",
          "text": [
            "위치 : 225\n",
            "['안녕안녕안녕안녕안녕안녕안녕안녕안녕안녕\\n', '안녕하세요.\\n', '반갑습니다.\\n', '오랫만입니다.\\n', '\\n', '안녕하세요.\\n', '반갑습니다.\\n', '오랫만입니다.\\n', '\\n', '안녕하세요.\\n', '반갑습니다.\\n', '오랫만입니다.\\n']\n",
            "----------------------------------------------------\n",
            "위치 : 10\n"
          ]
        }
      ]
    },
    {
      "cell_type": "code",
      "source": [
        "# 12-7. 파일과 디렉터리 (3) 모듈과 패키지\n",
        "\n",
        "import sys\n",
        "sys.executable\n",
        "sys.path"
      ],
      "metadata": {
        "colab": {
          "base_uri": "https://localhost:8080/"
        },
        "id": "6PF6AXNcnc_c",
        "outputId": "dd1e2849-396f-4f3a-ef91-fc351096fe72"
      },
      "execution_count": null,
      "outputs": [
        {
          "output_type": "execute_result",
          "data": {
            "text/plain": [
              "['',\n",
              " '/content',\n",
              " '/env/python',\n",
              " '/usr/lib/python37.zip',\n",
              " '/usr/lib/python3.7',\n",
              " '/usr/lib/python3.7/lib-dynload',\n",
              " '/usr/local/lib/python3.7/dist-packages',\n",
              " '/usr/lib/python3/dist-packages',\n",
              " '/usr/local/lib/python3.7/dist-packages/IPython/extensions',\n",
              " '/root/.ipython']"
            ]
          },
          "metadata": {},
          "execution_count": 39
        }
      ]
    },
    {
      "cell_type": "code",
      "source": [
        "# 12-8. 여러가지 파일 포맷 다루기 (1) CSV 파일\n",
        "\n",
        "billboardchart = {\n",
        "  \t\t\t\t       1 : [\"Tho Box\",\"Roddy Ricch\",\"2019-12-19\"],\n",
        "                 2 : [\"Don't Start Now\", \"Dua Lipa\", \"2019-11-01\"],\n",
        "                 3 : [\"Life Is Good\", \"Future Featuring Drake\", \"2020-02-10\"],\n",
        "                 4 : [\"Blinding\", \"The Weeknd\", \"2019-11-29\"],\n",
        "                 5 : [\"Circles\", \"Post Malone\",\"2019-08-30\"]}\n",
        "\n",
        "with open(\"billboardchart.csv\",\"w\") as f:\n",
        "    for i in billboardchart.values():\n",
        "        data = \",\".join(i)\n",
        "        f.write(data+\"\\n\")\n",
        "\n",
        "print(\"슝~\")"
      ],
      "metadata": {
        "colab": {
          "base_uri": "https://localhost:8080/"
        },
        "id": "WRIwEJgQoE2Q",
        "outputId": "8515e5d9-95d0-4322-d534-c7c7491a9cf0"
      },
      "execution_count": null,
      "outputs": [
        {
          "output_type": "stream",
          "name": "stdout",
          "text": [
            "슝~\n"
          ]
        }
      ]
    },
    {
      "cell_type": "code",
      "source": [
        "import csv\n",
        "\n",
        "header = ['title', 'singer', 'released date']\n",
        "\n",
        "with open('billboardchart.csv', 'r') as inputfile:\n",
        "  with open('billboardchart_out.csv', 'w', newline = '\\n') as outputfile:\n",
        "    fi = csv.reader(inputfile, delimiter=',')\n",
        "    fo = csv.writer(outputfile, delimiter=',')\n",
        "    fo.writerow(header)\n",
        "    for row in fi:\n",
        "      fo.writerow(row)\n",
        "\n",
        "print(\"슝~\")"
      ],
      "metadata": {
        "colab": {
          "base_uri": "https://localhost:8080/"
        },
        "id": "V1PMBkpNoL8B",
        "outputId": "dd401339-d0f1-43d4-cffc-96dfa27717d4"
      },
      "execution_count": null,
      "outputs": [
        {
          "output_type": "stream",
          "name": "stdout",
          "text": [
            "슝~\n"
          ]
        }
      ]
    },
    {
      "cell_type": "code",
      "source": [
        "#- 1. 데이터를 준비합니다.\n",
        "fields = [\"title\", \"singer\", \"released date\"]\n",
        "rows = [ [\"Tho Box\",\"Roddy Ricch\",\"2019-12-19\"],\n",
        "               [\"Don't Start Now\", \"Dua Lipa\", \"2019-11-01\"],\n",
        "               [\"Life Is Good\", \"Future Featuring Drake\", \"2020-02-10\"],\n",
        "               [\"Blinding\", \"The Weeknd\", \"2019-11-29\"],\n",
        "               [\"Circles\", \"Post Malone\",\"2019-08-30\"]]\n",
        "\n",
        "print(\"슝~\")"
      ],
      "metadata": {
        "colab": {
          "base_uri": "https://localhost:8080/"
        },
        "id": "uMWi4ILtpcz7",
        "outputId": "ae54203e-04dc-459d-ba12-feb4daed3781"
      },
      "execution_count": null,
      "outputs": [
        {
          "output_type": "stream",
          "name": "stdout",
          "text": [
            "슝~\n"
          ]
        }
      ]
    },
    {
      "cell_type": "code",
      "source": [
        "import pandas as pd\n",
        "\n",
        "df = pd.DataFrame(rows, columns = fields)\n",
        "df.to_csv('pandas.csv', index = False)"
      ],
      "metadata": {
        "id": "AHP0rwf7ph4e"
      },
      "execution_count": null,
      "outputs": []
    },
    {
      "cell_type": "code",
      "source": [
        "import csv\n",
        "\n",
        "filename = 'test.csv'\n",
        "\n",
        "with open(filename, 'w+', newline='\\n') as csv_file:\n",
        "  csv_writer = csv.writer(csv_file)\n",
        "  csv_writer.writerow(fields)\n",
        "  csv_writer.writerows(rows)\n",
        "\n",
        "print('완료')"
      ],
      "metadata": {
        "colab": {
          "base_uri": "https://localhost:8080/"
        },
        "id": "1DGOh-2Sp1Xp",
        "outputId": "7c7d18fe-7e9a-4cfc-e5d7-3ebca8556d47"
      },
      "execution_count": null,
      "outputs": [
        {
          "output_type": "stream",
          "name": "stdout",
          "text": [
            "완료\n"
          ]
        }
      ]
    },
    {
      "cell_type": "code",
      "source": [
        "open = pd.read_csv('test.csv')\n",
        "open"
      ],
      "metadata": {
        "colab": {
          "base_uri": "https://localhost:8080/",
          "height": 206
        },
        "id": "ziOg_KBDqhi_",
        "outputId": "5ae71e9e-3784-4c3f-eec3-3649ab11cf1e"
      },
      "execution_count": null,
      "outputs": [
        {
          "output_type": "execute_result",
          "data": {
            "text/plain": [
              "             title                  singer released date\n",
              "0          Tho Box             Roddy Ricch    2019-12-19\n",
              "1  Don't Start Now                Dua Lipa    2019-11-01\n",
              "2     Life Is Good  Future Featuring Drake    2020-02-10\n",
              "3         Blinding              The Weeknd    2019-11-29\n",
              "4          Circles             Post Malone    2019-08-30"
            ],
            "text/html": [
              "\n",
              "  <div id=\"df-cab04cb8-d128-40c5-8ab9-c72f0bc0ff7a\">\n",
              "    <div class=\"colab-df-container\">\n",
              "      <div>\n",
              "<style scoped>\n",
              "    .dataframe tbody tr th:only-of-type {\n",
              "        vertical-align: middle;\n",
              "    }\n",
              "\n",
              "    .dataframe tbody tr th {\n",
              "        vertical-align: top;\n",
              "    }\n",
              "\n",
              "    .dataframe thead th {\n",
              "        text-align: right;\n",
              "    }\n",
              "</style>\n",
              "<table border=\"1\" class=\"dataframe\">\n",
              "  <thead>\n",
              "    <tr style=\"text-align: right;\">\n",
              "      <th></th>\n",
              "      <th>title</th>\n",
              "      <th>singer</th>\n",
              "      <th>released date</th>\n",
              "    </tr>\n",
              "  </thead>\n",
              "  <tbody>\n",
              "    <tr>\n",
              "      <th>0</th>\n",
              "      <td>Tho Box</td>\n",
              "      <td>Roddy Ricch</td>\n",
              "      <td>2019-12-19</td>\n",
              "    </tr>\n",
              "    <tr>\n",
              "      <th>1</th>\n",
              "      <td>Don't Start Now</td>\n",
              "      <td>Dua Lipa</td>\n",
              "      <td>2019-11-01</td>\n",
              "    </tr>\n",
              "    <tr>\n",
              "      <th>2</th>\n",
              "      <td>Life Is Good</td>\n",
              "      <td>Future Featuring Drake</td>\n",
              "      <td>2020-02-10</td>\n",
              "    </tr>\n",
              "    <tr>\n",
              "      <th>3</th>\n",
              "      <td>Blinding</td>\n",
              "      <td>The Weeknd</td>\n",
              "      <td>2019-11-29</td>\n",
              "    </tr>\n",
              "    <tr>\n",
              "      <th>4</th>\n",
              "      <td>Circles</td>\n",
              "      <td>Post Malone</td>\n",
              "      <td>2019-08-30</td>\n",
              "    </tr>\n",
              "  </tbody>\n",
              "</table>\n",
              "</div>\n",
              "      <button class=\"colab-df-convert\" onclick=\"convertToInteractive('df-cab04cb8-d128-40c5-8ab9-c72f0bc0ff7a')\"\n",
              "              title=\"Convert this dataframe to an interactive table.\"\n",
              "              style=\"display:none;\">\n",
              "        \n",
              "  <svg xmlns=\"http://www.w3.org/2000/svg\" height=\"24px\"viewBox=\"0 0 24 24\"\n",
              "       width=\"24px\">\n",
              "    <path d=\"M0 0h24v24H0V0z\" fill=\"none\"/>\n",
              "    <path d=\"M18.56 5.44l.94 2.06.94-2.06 2.06-.94-2.06-.94-.94-2.06-.94 2.06-2.06.94zm-11 1L8.5 8.5l.94-2.06 2.06-.94-2.06-.94L8.5 2.5l-.94 2.06-2.06.94zm10 10l.94 2.06.94-2.06 2.06-.94-2.06-.94-.94-2.06-.94 2.06-2.06.94z\"/><path d=\"M17.41 7.96l-1.37-1.37c-.4-.4-.92-.59-1.43-.59-.52 0-1.04.2-1.43.59L10.3 9.45l-7.72 7.72c-.78.78-.78 2.05 0 2.83L4 21.41c.39.39.9.59 1.41.59.51 0 1.02-.2 1.41-.59l7.78-7.78 2.81-2.81c.8-.78.8-2.07 0-2.86zM5.41 20L4 18.59l7.72-7.72 1.47 1.35L5.41 20z\"/>\n",
              "  </svg>\n",
              "      </button>\n",
              "      \n",
              "  <style>\n",
              "    .colab-df-container {\n",
              "      display:flex;\n",
              "      flex-wrap:wrap;\n",
              "      gap: 12px;\n",
              "    }\n",
              "\n",
              "    .colab-df-convert {\n",
              "      background-color: #E8F0FE;\n",
              "      border: none;\n",
              "      border-radius: 50%;\n",
              "      cursor: pointer;\n",
              "      display: none;\n",
              "      fill: #1967D2;\n",
              "      height: 32px;\n",
              "      padding: 0 0 0 0;\n",
              "      width: 32px;\n",
              "    }\n",
              "\n",
              "    .colab-df-convert:hover {\n",
              "      background-color: #E2EBFA;\n",
              "      box-shadow: 0px 1px 2px rgba(60, 64, 67, 0.3), 0px 1px 3px 1px rgba(60, 64, 67, 0.15);\n",
              "      fill: #174EA6;\n",
              "    }\n",
              "\n",
              "    [theme=dark] .colab-df-convert {\n",
              "      background-color: #3B4455;\n",
              "      fill: #D2E3FC;\n",
              "    }\n",
              "\n",
              "    [theme=dark] .colab-df-convert:hover {\n",
              "      background-color: #434B5C;\n",
              "      box-shadow: 0px 1px 3px 1px rgba(0, 0, 0, 0.15);\n",
              "      filter: drop-shadow(0px 1px 2px rgba(0, 0, 0, 0.3));\n",
              "      fill: #FFFFFF;\n",
              "    }\n",
              "  </style>\n",
              "\n",
              "      <script>\n",
              "        const buttonEl =\n",
              "          document.querySelector('#df-cab04cb8-d128-40c5-8ab9-c72f0bc0ff7a button.colab-df-convert');\n",
              "        buttonEl.style.display =\n",
              "          google.colab.kernel.accessAllowed ? 'block' : 'none';\n",
              "\n",
              "        async function convertToInteractive(key) {\n",
              "          const element = document.querySelector('#df-cab04cb8-d128-40c5-8ab9-c72f0bc0ff7a');\n",
              "          const dataTable =\n",
              "            await google.colab.kernel.invokeFunction('convertToInteractive',\n",
              "                                                     [key], {});\n",
              "          if (!dataTable) return;\n",
              "\n",
              "          const docLinkHtml = 'Like what you see? Visit the ' +\n",
              "            '<a target=\"_blank\" href=https://colab.research.google.com/notebooks/data_table.ipynb>data table notebook</a>'\n",
              "            + ' to learn more about interactive tables.';\n",
              "          element.innerHTML = '';\n",
              "          dataTable['output_type'] = 'display_data';\n",
              "          await google.colab.output.renderOutput(dataTable, element);\n",
              "          const docLink = document.createElement('div');\n",
              "          docLink.innerHTML = docLinkHtml;\n",
              "          element.appendChild(docLink);\n",
              "        }\n",
              "      </script>\n",
              "    </div>\n",
              "  </div>\n",
              "  "
            ]
          },
          "metadata": {},
          "execution_count": 47
        }
      ]
    },
    {
      "cell_type": "code",
      "source": [
        "# 12-9. 여러가지 파일 포맷 다루기 (2) XML 파일\n",
        "\n",
        "# XML 파일 만들기\n",
        "import xml.etree.ElementTree as ET\n",
        "\n",
        "person = ET.Element('Person')\n",
        "name =  ET.Element('name')\n",
        "name.text = '기락'\n",
        "person.append(name)\n",
        "\n",
        "age = ET.Element('age')\n",
        "age.text = '27'\n",
        "person.append(age)\n",
        "\n",
        "ET.SubElement(person, 'place').text = '대구'\n",
        "\n",
        "ET.dump(person)"
      ],
      "metadata": {
        "colab": {
          "base_uri": "https://localhost:8080/"
        },
        "id": "AoJOupUVqqR5",
        "outputId": "e244b2be-a3a0-4127-cf63-0d4a45384927"
      },
      "execution_count": null,
      "outputs": [
        {
          "output_type": "stream",
          "name": "stdout",
          "text": [
            "<Person><name>기락</name><age>27</age><place>대구</place></Person>\n"
          ]
        }
      ]
    },
    {
      "cell_type": "code",
      "source": [
        "person.attrib['id'] = \"0x0001\"\n",
        "name.tag = \"firstname\"\n",
        "ET.dump(person)"
      ],
      "metadata": {
        "colab": {
          "base_uri": "https://localhost:8080/"
        },
        "id": "8qzcbCB7uLjj",
        "outputId": "63576b27-5644-406a-ef66-499944be012f"
      },
      "execution_count": null,
      "outputs": [
        {
          "output_type": "stream",
          "name": "stdout",
          "text": [
            "<Person id=\"0x0001\"><firstname>기락</firstname><age>27</age><place>대구</place></Person>\n"
          ]
        }
      ]
    },
    {
      "cell_type": "code",
      "source": [
        "lastname = ET.Element('lastname', date = '2022-07-14')\n",
        "lastname.text = '아'\n",
        "person.insert(1, lastname)\n",
        "ET.dump(person)"
      ],
      "metadata": {
        "colab": {
          "base_uri": "https://localhost:8080/"
        },
        "id": "5yuMwEhTuUsH",
        "outputId": "e085b369-d39b-4b1a-fe56-4bd7c7de9b27"
      },
      "execution_count": null,
      "outputs": [
        {
          "output_type": "stream",
          "name": "stdout",
          "text": [
            "<Person id=\"0x0001\"><firstname>기락</firstname><lastname date=\"2022-07-14\">아</lastname><age>27</age><place>대구</place></Person>\n"
          ]
        }
      ]
    },
    {
      "cell_type": "code",
      "source": [
        "person.remove(name)"
      ],
      "metadata": {
        "id": "Zw421GEUupZ3"
      },
      "execution_count": null,
      "outputs": []
    },
    {
      "cell_type": "code",
      "source": [
        "ET.ElementTree(person).write('person.xml')"
      ],
      "metadata": {
        "id": "gVyfXg6ruuxD"
      },
      "execution_count": null,
      "outputs": []
    },
    {
      "cell_type": "code",
      "source": [
        "!ls"
      ],
      "metadata": {
        "colab": {
          "base_uri": "https://localhost:8080/"
        },
        "id": "KZwh-6W3uwWA",
        "outputId": "fe6a0481-0197-4c43-ad82-a97d88b039b6"
      },
      "execution_count": null,
      "outputs": [
        {
          "output_type": "stream",
          "name": "stdout",
          "text": [
            "billboardchart.csv\thello.txt   person.xml\t test.csv\n",
            "billboardchart_out.csv\tpandas.csv  sample_data\n"
          ]
        }
      ]
    },
    {
      "cell_type": "code",
      "source": [
        "import json\n",
        "\n",
        "person = {\n",
        "      \"first name\" : \"Yuna\",\n",
        "      \"last name\" : \"Jung\",\n",
        "      \"age\" : 33,\n",
        "      \"nationality\" : \"South Korea\",\n",
        "      \"education\" : [{\"degree\":\"B.S degree\", \"university\":\"Daehan university\", \"major\": \"mechanical engineering\", \"graduated year\":2010}]\n",
        "       } \n",
        "\n",
        "with open(\"person.json\", \"w\") as f:\n",
        "    json.dump(person , f)\n",
        "\n",
        "print(\"슝~\")"
      ],
      "metadata": {
        "colab": {
          "base_uri": "https://localhost:8080/",
          "height": 246
        },
        "id": "-TD6x1lRwisu",
        "outputId": "4e9ee8d2-c5a4-46ad-b937-3b1111a42b93"
      },
      "execution_count": null,
      "outputs": [
        {
          "output_type": "error",
          "ename": "TypeError",
          "evalue": "ignored",
          "traceback": [
            "\u001b[0;31m---------------------------------------------------------------------------\u001b[0m",
            "\u001b[0;31mTypeError\u001b[0m                                 Traceback (most recent call last)",
            "\u001b[0;32m<ipython-input-57-a7c0215d2cc4>\u001b[0m in \u001b[0;36m<module>\u001b[0;34m()\u001b[0m\n\u001b[1;32m      9\u001b[0m        } \n\u001b[1;32m     10\u001b[0m \u001b[0;34m\u001b[0m\u001b[0m\n\u001b[0;32m---> 11\u001b[0;31m \u001b[0;32mwith\u001b[0m \u001b[0mopen\u001b[0m\u001b[0;34m(\u001b[0m\u001b[0;34m\"person.json\"\u001b[0m\u001b[0;34m,\u001b[0m \u001b[0;34m\"w\"\u001b[0m\u001b[0;34m)\u001b[0m \u001b[0;32mas\u001b[0m \u001b[0mf\u001b[0m\u001b[0;34m:\u001b[0m\u001b[0;34m\u001b[0m\u001b[0;34m\u001b[0m\u001b[0m\n\u001b[0m\u001b[1;32m     12\u001b[0m     \u001b[0mjson\u001b[0m\u001b[0;34m.\u001b[0m\u001b[0mdump\u001b[0m\u001b[0;34m(\u001b[0m\u001b[0mperson\u001b[0m \u001b[0;34m,\u001b[0m \u001b[0mf\u001b[0m\u001b[0;34m)\u001b[0m\u001b[0;34m\u001b[0m\u001b[0;34m\u001b[0m\u001b[0m\n\u001b[1;32m     13\u001b[0m \u001b[0;34m\u001b[0m\u001b[0m\n",
            "\u001b[0;31mTypeError\u001b[0m: 'DataFrame' object is not callable"
          ]
        }
      ]
    },
    {
      "cell_type": "code",
      "source": [
        "import json\n",
        "\n",
        "with open(\"person.json\", \"r\", encoding=\"utf-8\") as f:\n",
        "    contents = json.load(f)\n",
        "    print(contents[\"first name\"])\n",
        "    print(contents[\"education\"])"
      ],
      "metadata": {
        "colab": {
          "base_uri": "https://localhost:8080/",
          "height": 246
        },
        "id": "xMMZ0SnmwqMq",
        "outputId": "8b68b48e-68b0-490b-b7e1-85884d7f49ab"
      },
      "execution_count": null,
      "outputs": [
        {
          "output_type": "error",
          "ename": "TypeError",
          "evalue": "ignored",
          "traceback": [
            "\u001b[0;31m---------------------------------------------------------------------------\u001b[0m",
            "\u001b[0;31mTypeError\u001b[0m                                 Traceback (most recent call last)",
            "\u001b[0;32m<ipython-input-58-08479124b227>\u001b[0m in \u001b[0;36m<module>\u001b[0;34m()\u001b[0m\n\u001b[1;32m      1\u001b[0m \u001b[0;32mimport\u001b[0m \u001b[0mjson\u001b[0m\u001b[0;34m\u001b[0m\u001b[0;34m\u001b[0m\u001b[0m\n\u001b[1;32m      2\u001b[0m \u001b[0;34m\u001b[0m\u001b[0m\n\u001b[0;32m----> 3\u001b[0;31m \u001b[0;32mwith\u001b[0m \u001b[0mopen\u001b[0m\u001b[0;34m(\u001b[0m\u001b[0;34m\"person.json\"\u001b[0m\u001b[0;34m,\u001b[0m \u001b[0;34m\"r\"\u001b[0m\u001b[0;34m,\u001b[0m \u001b[0mencoding\u001b[0m\u001b[0;34m=\u001b[0m\u001b[0;34m\"utf-8\"\u001b[0m\u001b[0;34m)\u001b[0m \u001b[0;32mas\u001b[0m \u001b[0mf\u001b[0m\u001b[0;34m:\u001b[0m\u001b[0;34m\u001b[0m\u001b[0;34m\u001b[0m\u001b[0m\n\u001b[0m\u001b[1;32m      4\u001b[0m     \u001b[0mcontents\u001b[0m \u001b[0;34m=\u001b[0m \u001b[0mjson\u001b[0m\u001b[0;34m.\u001b[0m\u001b[0mload\u001b[0m\u001b[0;34m(\u001b[0m\u001b[0mf\u001b[0m\u001b[0;34m)\u001b[0m\u001b[0;34m\u001b[0m\u001b[0;34m\u001b[0m\u001b[0m\n\u001b[1;32m      5\u001b[0m     \u001b[0mprint\u001b[0m\u001b[0;34m(\u001b[0m\u001b[0mcontents\u001b[0m\u001b[0;34m[\u001b[0m\u001b[0;34m\"first name\"\u001b[0m\u001b[0;34m]\u001b[0m\u001b[0;34m)\u001b[0m\u001b[0;34m\u001b[0m\u001b[0;34m\u001b[0m\u001b[0m\n",
            "\u001b[0;31mTypeError\u001b[0m: 'DataFrame' object is not callable"
          ]
        }
      ]
    }
  ]
}